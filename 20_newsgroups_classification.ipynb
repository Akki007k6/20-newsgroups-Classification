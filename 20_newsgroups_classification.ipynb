{
  "nbformat": 4,
  "nbformat_minor": 0,
  "metadata": {
    "accelerator": "GPU",
    "colab": {
      "name": "20-newsgroups classification.ipynb",
      "provenance": [],
      "collapsed_sections": [],
      "machine_shape": "hm"
    },
    "kernelspec": {
      "display_name": "Python 3",
      "name": "python3"
    },
    "language_info": {
      "name": "python"
    }
  },
  "cells": [
    {
      "cell_type": "markdown",
      "source": [
        "#20 Newsgroups Classification"
      ],
      "metadata": {
        "id": "W6_-Ln49U7zT"
      }
    },
    {
      "cell_type": "markdown",
      "source": [
        "<h2>1. Business/Real-world Problem</h2>"
      ],
      "metadata": {
        "id": "MpMpZMJ-VRcj"
      }
    },
    {
      "cell_type": "markdown",
      "source": [
        "The 20 Newsgroups data set is a collection of approximately 20,000 newsgroup documents, partitioned (nearly) evenly across 20 different newsgroups. The 20 newsgroups collection has become a popular data set for experiments in text applications of machine learning techniques, such as text classification and text clustering. \n",
        "\n",
        "Source: http://qwone.com/~jason/20Newsgroups/\n",
        "\n",
        "Kaggle : https://www.kaggle.com/datasets/crawford/20-newsgroups"
      ],
      "metadata": {
        "id": "P5JCoH6UVpH4"
      }
    },
    {
      "cell_type": "markdown",
      "source": [
        "<h3> 1.1. Problem Statement </h3>"
      ],
      "metadata": {
        "id": "Og8SIGPoWCEy"
      }
    },
    {
      "cell_type": "markdown",
      "source": [
        "<p>The&nbsp;data&nbsp;is&nbsp;taken&nbsp;from&nbsp;http://qwone.com/~jason/20Newsgroups/20news-18828.tar.gz&nbsp;.<br />\n",
        "Each&nbsp;subdirectory&nbsp;in&nbsp;the&nbsp;bundle&nbsp;represents&nbsp;a&nbsp;newsgroup;&nbsp;each&nbsp;file&nbsp;in&nbsp;a&nbsp;subdirectory&nbsp;is&nbsp;the&nbsp;text&nbsp;of&nbsp;some&nbsp;newsgroup&nbsp;document&nbsp;that&nbsp;was&nbsp;posted&nbsp;to that&nbsp;newsgroup.<br />\n",
        "It&nbsp;consists&nbsp;of&nbsp;20&nbsp;Newsgroups;&nbsp;duplicates&nbsp;removed,&nbsp;only&nbsp;&quot;From&quot;&nbsp;and&nbsp;&quot;Subject&quot;&nbsp;headers&nbsp;(18828&nbsp;documents).<br />\n",
        "The&nbsp;objective&nbsp;is&nbsp;to&nbsp;classify&nbsp;the&nbsp;documents&nbsp;into&nbsp;their&nbsp;respective&nbsp;newsgroups.<br />\n",
        "The&nbsp;subdirectory&nbsp;structure&nbsp;was&nbsp;removed&nbsp;and&nbsp;all&nbsp;the&nbsp;files&nbsp;were&nbsp;stored&nbsp;in&nbsp;the&nbsp;format <em>&lt;class_label&gt;</em>_filename.txt</p>"
      ],
      "metadata": {
        "id": "0fhBAf6xWvfC"
      }
    },
    {
      "cell_type": "markdown",
      "source": [
        "<h3>1.2. Performance Metrics</h3>"
      ],
      "metadata": {
        "id": "TVUUeg3pYQs6"
      }
    },
    {
      "cell_type": "markdown",
      "source": [
        "We will be evaluating our results based on Log Loss, Accuracy and Micro F1 Score."
      ],
      "metadata": {
        "id": "MjJUjpZWZAio"
      }
    },
    {
      "cell_type": "markdown",
      "source": [
        "<h2>2.1 Basic Initial Setup</h2>"
      ],
      "metadata": {
        "id": "_IFAH6vvZKBP"
      }
    },
    {
      "cell_type": "markdown",
      "metadata": {
        "id": "fCQjUJi31C-t"
      },
      "source": [
        "<h3>2.1.1. Checking the Hardware</h3>"
      ]
    },
    {
      "cell_type": "code",
      "source": [
        "from prettytable import PrettyTable\n",
        "system_configuration = PrettyTable([\"CPU\", \"Clock_frequency\", \"RAM\", \"GPU\"])\n",
        "Model_name = !lscpu | grep 'Model name' | cut -d \":\" -f2 | sed -e 's/^[ \\t]*//'\n",
        "Clock_frequency = !lscpu | grep \"CPU MHz\" | cut -d \":\" -f2 | sed -e 's/^[ \\t]*//'\n",
        "RAM = !free -h --si | awk  '/Mem:/{print $2}'\n",
        "GPU = !nvidia-smi -L | cut -d \":\" -f2 | cut -d \"(\" -f1\n",
        "All_System_details = []\n",
        "All_System_details.extend((Model_name[0], Clock_frequency[0], RAM[0], GPU[0]))\n",
        "system_configuration.add_row(All_System_details)\n",
        "print(system_configuration)"
      ],
      "metadata": {
        "colab": {
          "base_uri": "https://localhost:8080/"
        },
        "id": "Oy0kpZCMDQfQ",
        "outputId": "edc8349f-180a-40fe-8272-d9ad24e1903a"
      },
      "execution_count": 7,
      "outputs": [
        {
          "output_type": "stream",
          "name": "stdout",
          "text": [
            "+--------------------------------+-----------------+-----+------------------------+\n",
            "|              CPU               | Clock_frequency | RAM |          GPU           |\n",
            "+--------------------------------+-----------------+-----+------------------------+\n",
            "| Intel(R) Xeon(R) CPU @ 2.30GHz |     2299.998    | 26G |  Tesla P100-PCIE-16GB  |\n",
            "+--------------------------------+-----------------+-----+------------------------+\n"
          ]
        }
      ]
    },
    {
      "cell_type": "markdown",
      "metadata": {
        "id": "l3We2ODkf5k2"
      },
      "source": [
        "<h3> 2.1.2. Uploading the dataset"
      ]
    },
    {
      "cell_type": "code",
      "metadata": {
        "colab": {
          "base_uri": "https://localhost:8080/"
        },
        "id": "KavY3poowCnM",
        "outputId": "1fff49bd-67cf-46be-cb76-aac8d08dfac8"
      },
      "source": [
        "!ls -lrt"
      ],
      "execution_count": 8,
      "outputs": [
        {
          "output_type": "stream",
          "name": "stdout",
          "text": [
            "total 4\n",
            "drwxr-xr-x 1 root root 4096 Mar  9 14:48 sample_data\n"
          ]
        }
      ]
    },
    {
      "cell_type": "code",
      "metadata": {
        "colab": {
          "resources": {
            "http://localhost:8080/nbextensions/google.colab/files.js": {
              "data": "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",
              "ok": true,
              "headers": [
                [
                  "content-type",
                  "application/javascript"
                ]
              ],
              "status": 200,
              "status_text": "OK"
            }
          },
          "base_uri": "https://localhost:8080/",
          "height": 75
        },
        "id": "M8K3vbfLbxJ3",
        "outputId": "6f0042e9-f579-4a2d-c3f9-964114249d2a"
      },
      "source": [
        "from google.colab import files\n",
        "uploaded = files.upload()"
      ],
      "execution_count": 9,
      "outputs": [
        {
          "output_type": "display_data",
          "data": {
            "text/plain": [
              "<IPython.core.display.HTML object>"
            ],
            "text/html": [
              "\n",
              "     <input type=\"file\" id=\"files-23ae819a-bdf2-4f4e-b8d5-913a8d6fddf9\" name=\"files[]\" multiple disabled\n",
              "        style=\"border:none\" />\n",
              "     <output id=\"result-23ae819a-bdf2-4f4e-b8d5-913a8d6fddf9\">\n",
              "      Upload widget is only available when the cell has been executed in the\n",
              "      current browser session. Please rerun this cell to enable.\n",
              "      </output>\n",
              "      <script src=\"/nbextensions/google.colab/files.js\"></script> "
            ]
          },
          "metadata": {}
        },
        {
          "output_type": "stream",
          "name": "stdout",
          "text": [
            "Saving documents.rar to documents.rar\n"
          ]
        }
      ]
    },
    {
      "cell_type": "code",
      "metadata": {
        "colab": {
          "base_uri": "https://localhost:8080/"
        },
        "id": "thEV1CS4cwJ2",
        "outputId": "b4270121-93de-496e-dca7-e02bc857d121"
      },
      "source": [
        "#documents.rar contains the data\n",
        "!ls -lrt"
      ],
      "execution_count": 10,
      "outputs": [
        {
          "output_type": "stream",
          "name": "stdout",
          "text": [
            "total 18596\n",
            "drwxr-xr-x 1 root root     4096 Mar  9 14:48 sample_data\n",
            "-rw-r--r-- 1 root root 19038123 Mar 22 19:14 documents.rar\n"
          ]
        }
      ]
    },
    {
      "cell_type": "code",
      "metadata": {
        "id": "wZd3uO1deMg1"
      },
      "source": [
        "!unrar x documents.rar"
      ],
      "execution_count": null,
      "outputs": []
    },
    {
      "cell_type": "code",
      "metadata": {
        "colab": {
          "base_uri": "https://localhost:8080/"
        },
        "id": "2yl_UMU6eSW2",
        "outputId": "9fef6dfa-7a8d-471f-aebf-7a7d0d2c4566"
      },
      "source": [
        "!ls -lrt"
      ],
      "execution_count": 12,
      "outputs": [
        {
          "output_type": "stream",
          "name": "stdout",
          "text": [
            "total 19544\n",
            "drwxr-xr-x 2 root root   970752 May 25  2019 documents\n",
            "drwxr-xr-x 1 root root     4096 Mar  9 14:48 sample_data\n",
            "-rw-r--r-- 1 root root 19038123 Mar 22 19:14 documents.rar\n"
          ]
        }
      ]
    },
    {
      "cell_type": "code",
      "metadata": {
        "colab": {
          "base_uri": "https://localhost:8080/"
        },
        "id": "fIH8KcCFemzQ",
        "outputId": "ee5aa242-faae-4f52-d85b-46dc30793bc4"
      },
      "source": [
        "#The 1st line says that the output is truncated to 5000\n",
        "#The number of files are 18828\n",
        "!ls -lrt documents/ | wc -l"
      ],
      "execution_count": 13,
      "outputs": [
        {
          "output_type": "stream",
          "name": "stdout",
          "text": [
            "18829\n"
          ]
        }
      ]
    },
    {
      "cell_type": "markdown",
      "source": [
        "<h2>2.2 Deep Learning Model</h2>"
      ],
      "metadata": {
        "id": "QYS-GUlNeOCD"
      }
    },
    {
      "cell_type": "markdown",
      "metadata": {
        "id": "6GF8yzq6umIY"
      },
      "source": [
        "<h3>2.3.1. All Imports</h3>"
      ]
    },
    {
      "cell_type": "code",
      "metadata": {
        "colab": {
          "base_uri": "https://localhost:8080/"
        },
        "id": "gtFoz8bzuo5R",
        "outputId": "5f4f0242-036c-413d-a9d0-2b2cf1a7cfaa"
      },
      "source": [
        "import re\n",
        "import os\n",
        "from tqdm import tqdm\n",
        "import pandas as pd\n",
        "import nltk\n",
        "nltk.download('punkt')\n",
        "nltk.download('averaged_perceptron_tagger')\n",
        "nltk.download('maxent_ne_chunker')\n",
        "nltk.download('words')\n",
        "from sklearn.model_selection import train_test_split\n",
        "import tensorflow as tf\n",
        "import numpy as np\n",
        "import pickle\n",
        "from tensorflow.keras.preprocessing.text import Tokenizer\n",
        "from tensorflow.keras.preprocessing.sequence import pad_sequences\n",
        "from tensorflow.keras.utils import to_categorical\n",
        "import datetime\n",
        "from sklearn.metrics import f1_score"
      ],
      "execution_count": 14,
      "outputs": [
        {
          "output_type": "stream",
          "name": "stdout",
          "text": [
            "[nltk_data] Downloading package punkt to /root/nltk_data...\n",
            "[nltk_data]   Unzipping tokenizers/punkt.zip.\n",
            "[nltk_data] Downloading package averaged_perceptron_tagger to\n",
            "[nltk_data]     /root/nltk_data...\n",
            "[nltk_data]   Unzipping taggers/averaged_perceptron_tagger.zip.\n",
            "[nltk_data] Downloading package maxent_ne_chunker to\n",
            "[nltk_data]     /root/nltk_data...\n",
            "[nltk_data]   Unzipping chunkers/maxent_ne_chunker.zip.\n",
            "[nltk_data] Downloading package words to /root/nltk_data...\n",
            "[nltk_data]   Unzipping corpora/words.zip.\n"
          ]
        }
      ]
    },
    {
      "cell_type": "markdown",
      "metadata": {
        "id": "qNp5c32Ub_0Q"
      },
      "source": [
        "<h3>2.3.2. Preprocessing the documents</h3>"
      ]
    },
    {
      "cell_type": "code",
      "metadata": {
        "id": "wr-BdZXdltBN"
      },
      "source": [
        "def Preprocess_Email(text):\n",
        "  \"\"\"\n",
        "  This function preprocesses the email present in the document passed as input and returns the emails to be replaced\n",
        "  along with the final preprocessed string found in the document.\n",
        "  \"\"\"\n",
        "  match = re.findall(r'[\\w\\.-]+@[\\w-]+[\\.][\\w\\.]+', text)\n",
        "  list_of_domains = []\n",
        "  preprocessed_list_of_domains = []\n",
        "  final_string = \"\"\n",
        "\n",
        "  for email in match:\n",
        "    string_after_at_symbol = email.split(\"@\",1)[1]\n",
        "    list_of_domains = string_after_at_symbol.split('.')\n",
        "    for domain in list_of_domains:\n",
        "      if ((len(domain) > 2) and (domain != 'com')):\n",
        "        preprocessed_list_of_domains.append(domain)\n",
        "    final_string = \" \".join(preprocessed_list_of_domains)\n",
        "\n",
        "  return match, final_string"
      ],
      "execution_count": 15,
      "outputs": []
    },
    {
      "cell_type": "code",
      "metadata": {
        "id": "R5SJdHqbcS11"
      },
      "source": [
        "def Preprocess_Subject(text):\n",
        "  \"\"\"\n",
        "  This function preprocesses the subject present in the document passed as input and returns the subject to be replaced\n",
        "  along with the final preprocessed string found in the document.\n",
        "  \"\"\"\n",
        "  string = \"\"\n",
        "  match = re.findall('Subject:.*', text)\n",
        "  string_to_be_replaced = match[0]\n",
        "  match_if_re_present = re.findall('Re:.*',match[0])\n",
        "  if match_if_re_present:\n",
        "    string = str(match_if_re_present[-1]).split('Re:')[1]\n",
        "  else:\n",
        "    string = str(match[-1]).split('Subject:')[1]\n",
        "\n",
        "  string = re.sub(r\"\\t\", \" \", string)\n",
        "  string = re.sub(r\"\\r\", \" \", string)\n",
        "  string = re.sub(r\"\\n\", \" \", string)\n",
        "  string = re.sub(r\"[^A-Za-z0-9\\s]\", \" \", string)\n",
        "  string = re.sub(r\"[\\s]+\", \" \", string)\n",
        "\n",
        "  return string_to_be_replaced, string\n"
      ],
      "execution_count": 16,
      "outputs": []
    },
    {
      "cell_type": "code",
      "metadata": {
        "id": "S-WSC2H1jYnu"
      },
      "source": [
        "# https://stackoverflow.com/a/47091490/4084039\n",
        "\n",
        "def decontracted(phrase):\n",
        "    \"\"\"\n",
        "    This function perfoms decontraction on the input data.\n",
        "    \"\"\"\n",
        "    # specific\n",
        "    phrase = re.sub(r\"won't\", \"will not\", phrase)\n",
        "    phrase = re.sub(r\"can\\'t\", \"can not\", phrase)\n",
        "\n",
        "    # general\n",
        "    phrase = re.sub(r\"n\\'t\", \" not\", phrase)\n",
        "    phrase = re.sub(r\"\\'re\", \" are\", phrase)\n",
        "    phrase = re.sub(r\"\\'s\", \" is\", phrase)\n",
        "    phrase = re.sub(r\"\\'d\", \" would\", phrase)\n",
        "    phrase = re.sub(r\"\\'ll\", \" will\", phrase)\n",
        "    phrase = re.sub(r\"\\'t\", \" not\", phrase)\n",
        "    phrase = re.sub(r\"\\'ve\", \" have\", phrase)\n",
        "    phrase = re.sub(r\"\\'m\", \" am\", phrase)\n",
        "    return phrase"
      ],
      "execution_count": 17,
      "outputs": []
    },
    {
      "cell_type": "code",
      "metadata": {
        "id": "4Oqba4LMZJ0Q"
      },
      "source": [
        "def Preprocessing_based_on_context(text):\n",
        "  \"\"\"\n",
        "  Here, we will perform the some other preprocessing steps like removing letters other than A-Za-z_, removing digits,\n",
        "  removing underscores between words, other word based preprocessing, etc.\n",
        "  \"\"\"\n",
        "  text = text.replace(\"\\d+\",\" \")\n",
        "  words_starting_with_underscore = re.findall('\\s_\\w+',text)\n",
        "  words_ending_with_underscore = re.findall('\\w+_\\s',text)\n",
        "  words_having_underscore_in_between = re.findall('\\w+_\\w+',text)\n",
        "\n",
        "  for item in words_starting_with_underscore:\n",
        "    text = text.replace(item,\" \")\n",
        "  for item in words_ending_with_underscore:\n",
        "    text = text.replace(item,\" \")\n",
        "  for item in words_having_underscore_in_between:\n",
        "    before_underscore, after_underscore = item.split('_',1)\n",
        "    if (len(before_underscore) <= 2):\n",
        "      text = text.replace(item, after_underscore)\n",
        "\n",
        "  text = re.sub(r\"\\d+\",\"\",text)\n",
        "  text = text.lower()\n",
        "  text = re.sub(r'\\b\\w{,2}\\b', '', text)\n",
        "  text = re.sub(r'\\b\\w{15,}\\b', '', text)\n",
        "  text = re.sub(r'[^A-Za-z_\\s]', \" \", text)\n",
        "  \n",
        "  return text"
      ],
      "execution_count": 18,
      "outputs": []
    },
    {
      "cell_type": "code",
      "metadata": {
        "id": "upy5tXtkvVdy"
      },
      "source": [
        "def preprocess(text):\n",
        "  \"\"\"Do all the Preprocessing required and\n",
        "  returns preprocess_text,preprocess_email,preprocess_subject for that Text_data\"\"\"\n",
        "\n",
        "\n",
        "  emails_to_be_replaced = []\n",
        "  email_processed_string = \"\"\n",
        "  subject_to_be_replaced = \"\"\n",
        "  subject_processed_string = \"\"\n",
        "\n",
        "  class_name = filename.split('_',1)[0]\n",
        "\n",
        "  #Preprocess the Emails\n",
        "  emails_to_be_replaced, email_processed_string = Preprocess_Email(text)\n",
        "  \n",
        "  for email in emails_to_be_replaced:\n",
        "    # Replace the email with space\n",
        "    text = text.replace(email, ' ')\n",
        "      \n",
        "  #Preprocess the Subjects\n",
        "  subject_to_be_replaced, subject_processed_string = Preprocess_Subject(text)\n",
        "  \n",
        "  # Delete the subject\n",
        "  text = text.replace(subject_to_be_replaced, '')\n",
        "\n",
        "  match_write = re.findall('Write to:.*', text)\n",
        "  match_from = re.findall('From:.*', text)\n",
        "  match_tags = re.findall('<.*>',text)\n",
        "  match_brackets = re.findall('\\(.*\\)',text)\n",
        "  match_word_ending_with_colon = re.findall('\\w+:',text)\n",
        "\n",
        "  for item in match_write:\n",
        "    text = text.replace(item, '')\n",
        "  for item in match_from:\n",
        "    text = text.replace(item, '')\n",
        "  for item in match_tags:\n",
        "    text = text.replace(item, '')\n",
        "  for item in match_brackets:\n",
        "    text = text.replace(item, '')\n",
        "  for item in match_word_ending_with_colon:\n",
        "    text = text.replace(item, '')\n",
        "\n",
        "  text = text.replace(\"\\\\n\",\"\")\n",
        "  text = text.replace(\"\\\\t\",\"\")\n",
        "  text = text.replace(\"\\\\\",\"\")\n",
        "  text = text.replace(\"-\",\"\")\n",
        "\n",
        "  #Performing Decontraction\n",
        "  text = decontracted(text)\n",
        "\n",
        "  # Reference : https://stackoverflow.com/a/60829206 \n",
        "  word = nltk.word_tokenize(text)   \n",
        "  pos_tag = nltk.pos_tag(word)   \n",
        "  chunk = nltk.ne_chunk(pos_tag)   \n",
        "\n",
        "  NE = [ \" \".join(w for w, t in ele) for ele in chunk if isinstance(ele, nltk.Tree) and ele.label() ==\"PERSON\"]\n",
        "  GPE = [ \" \".join(w for w, t in ele) for ele in chunk if isinstance(ele, nltk.Tree) and ele.label() ==\"GPE\"]\n",
        "\n",
        "  #Removing words from text if tree label is PERSON\n",
        "  for item in NE:\n",
        "    text = text.replace(item, \"\")\n",
        "\n",
        "  #Removing words from text if tree label is GPE\n",
        "  for item in GPE:\n",
        "    item_with_underscore = item.replace(\" \",\"_\")\n",
        "    text = text.replace(item, item_with_underscore)\n",
        "    \n",
        "  #More Preprocessing\n",
        "  text = Preprocessing_based_on_context(text)\n",
        "\n",
        "  #Replacing Multiple spaces by one so tbat it looks good\n",
        "  text = ' '.join(text.split())\n",
        "\n",
        "  return text, email_processed_string, subject_processed_string "
      ],
      "execution_count": 19,
      "outputs": []
    },
    {
      "cell_type": "markdown",
      "metadata": {
        "id": "qFAARsyHuALL"
      },
      "source": [
        "<h3>2.3.3. Preprocessing of the file alt.atheism_49960 <h3>"
      ]
    },
    {
      "cell_type": "markdown",
      "source": [
        "Let's preprocess the file alt.atheism_49960.txt to see all the data looks preprocessed"
      ],
      "metadata": {
        "id": "Y-Enq8PzAnbS"
      }
    },
    {
      "cell_type": "code",
      "metadata": {
        "id": "xuXDtPqDYdE6"
      },
      "source": [
        "#Preprocessing of the file alt.atheism_49960\n",
        "documents_folder = os.path.join(os.getcwd(),'documents')\n",
        "filename = \"alt.atheism_49960.txt\"\n",
        "with open(os.path.join(documents_folder, filename), 'r', encoding=\"latin-1\") as f: # open in readonly mode\n",
        "  text = f.read()\n",
        "  Class_Label = filename.split('_')[0]\n",
        "  \n",
        "  email_processed_string = \"\"\n",
        "  subject_processed_string = \"\"\n",
        "\n",
        "  text, email_processed_string, subject_processed_string = preprocess(text)"
      ],
      "execution_count": 20,
      "outputs": []
    },
    {
      "cell_type": "code",
      "metadata": {
        "colab": {
          "base_uri": "https://localhost:8080/"
        },
        "id": "peCtBtwGZvHY",
        "outputId": "0e567450-a68d-4782-b0c7-6dae543fae0f"
      },
      "source": [
        "print(text)"
      ],
      "execution_count": 21,
      "outputs": [
        {
          "output_type": "stream",
          "name": "stdout",
          "text": [
            "archive atheism resources resources last december atheist resources addresses atheist organizations usa freedom from religion foundation fish bumper stickers and assorted other atheist paraphernalia are available from the freedom from religion foundation the evolution designs evolution designs sell the fish fish symbol like the ones stick their cars but with feet and the word written inside the deluxe moulded plastic fish postpaid the people the san francisco bay area can get fish from try mailing for net people who directly the price per fish american atheist press aap publish various atheist books critiques the bible lists biblical contradictions and one such book the bible handbook and american atheist press isbn edition bible contradictions absurdities atrocities immoralities contains the bible contradicts itself aap based the king version the bible austin prometheus books sell books including holy horrors alternate address prometheus books for humanism organization promoting black secular humanism and uncovering the history black freethought they publish quarterly newsletter aah examiner united kingdom rationalist press association national secular society street holloway road london london british humanist association south place ethical society lamb conduit passage conway hall london wcr red lion square london wcr fax the national secular society publish the freethinker monthly magazine founded germany ibka bund der und postfach germany ibka publish miz materialien und zur zeit politisches journal der und ibka mizvertrieb postfach germany for atheist books write ibdk ucherdienst der postfach germany books fiction thomas disch the claus compromise short story the ultimate proof that exists all characters and events are fictitious any similarity living dead gods well walter miller canticle for leibowitz one gem this post atomic doomsday novel the monks who spent their lives copying blueprints from saint leibowitz filling the sheets paper with ink and leaving white lines and letters edgar pangborn post atomic doomsday novel set clerical states the church for example forbids that anyone produce describe use any substance containing atoms philip dick wrote many philosophical and short stories and novels his stories are bizarre times but very approachable wrote mainly but wrote about people truth and religion rather than technology although often believed that had met some sort remained sceptical amongst his novels the following are some galactic pothealer fallible alien deity summons group craftsmen and women remote planet raise giant cathedral from beneath the oceans when the deity begins demand faith from the earthers pothealer unable comply polished ironic and amusing novel maze death noteworthy for its description religion valis the schizophrenic hero searches for the hidden mysteries gnostic ity after reality fired into his brain pink laser beam unknown but possibly divine origin accompanied his dogmatic and dismissively atheist friend and assorted other odd characters the divine invasion invades making young woman pregnant she returns from another star system unfortunately she terminally ill and must assisted dead man whose brain wired hour easy listening music margaret atwood the handmaid story based the premise that the congress mysteriously assassinated and quickly take charge the nation set right again the book the diary woman life she tries live under the new theocracy women right own property revoked and their bank accounts are closed sinful luxuries are outlawed and the radio only used for readings from the bible crimes are punished doctors who performed legal abortions the old world are hunted down and hanged writing style difficult get used first but the tale grows more and more chilling goes various authors the bible this somewhat dull and rambling work has often been criticized however probably worth reading only that you will know what all the fuss about exists many different versions make sure you get the one true version books nonfiction peter rosa vicars christ although seems even catholic this very enlighting history papal immoralities adulteries fallacies etc german gottes erste dunkle seite des droemerknaur michael martin philosophical justification philadelphia usa detailed and scholarly justification atheism contains outstanding appendix defining terminology and usage this tendentious area argues both for negative atheism the nonbelief the existence god and also for positive atheism the belief the nonexistence god includes great refutations the most challenging arguments for god particular attention paid refuting contempory theists such and swinburne pages isbn the case against ity comprehensive critique ity which considers the best contemporary defences ity and demonstrates that they are unsupportable and incoherent pages isbn james turner without the johns hopkins university press baltimore usa subtitled the origins unbelief america examines the way which unbelief became mainstream alternative worldview focusses the period and while considering france and britain the emphasis american and particularly new_england developments neither religious history secularization atheism without rather the intellectual history the fate single idea the belief that exists pages isbn george seldes the great thoughts antine books new_york usa dictionary quotations different kind concentrating statements and writings which explicitly implicitly present the person philosophy and worldview includes obscure opinions from many people for some popular observations traces the way which various people expressed and twisted the idea over the centuries quite number the quotations are derived from cardiff what religion and views religion pages isbn richard swinburne the existence oxford this book the second volume trilogy that began with the coherence theism this work swinburne attempts construct series inductive arguments for the existence his arguments which are somewhat tendentious and rely upon the imputation late century western values and aesthetics which supposedly simple can conceived were decisively rejected the miracle theism the revised edition the existence swinburne includes appendix which makes somewhat incoherent attempt rebut mackie the miracle theism oxford this volume contains comprehensive review the principal arguments for and against the existence ranges from the classical philosophical positions descartes anselm through the moral arguments newman kant and the recent restatements the classical theses and swinburne also addresses those positions which push the concept beyond the realm the rational such those kierkegaard and well replacements for such axiarchism the book delight read less formalistic and better written than works and refreshingly direct when compared with the handwaving swinburne james haught holy illustrated history religious murder and madness prometheus books looks religious persecution from ancient times the present day and not only library congress catalog card number norm allen african american anthology see the listing for african americans for humanism above gordon stein anthology atheism and rationalism prometheus books anthology covering wide range subjects including the devil and morality and the history freethought comprehensive bibliography edmund cohen the mind the biblebeliever prometheus books study why people become and what effect has them net resources there small mailbased archive server mantis which carries archives old alt atheism moderated articles and assorted other files for more information send mail saying help send atheism index and will mail back reply mathew\n"
          ]
        }
      ]
    },
    {
      "cell_type": "code",
      "metadata": {
        "colab": {
          "base_uri": "https://localhost:8080/"
        },
        "id": "bVO19THiaG98",
        "outputId": "8473a3ad-53c0-4fc1-c14c-f36ff70a5d41"
      },
      "source": [
        "print(email_processed_string)"
      ],
      "execution_count": 22,
      "outputs": [
        {
          "output_type": "stream",
          "name": "stdout",
          "text": [
            "mantis netcom mantis\n"
          ]
        }
      ]
    },
    {
      "cell_type": "code",
      "metadata": {
        "colab": {
          "base_uri": "https://localhost:8080/"
        },
        "id": "UEezlvfgaK6S",
        "outputId": "faa76916-d767-48e8-cc41-d72f7475d8dc"
      },
      "source": [
        "print(subject_processed_string)"
      ],
      "execution_count": 23,
      "outputs": [
        {
          "output_type": "stream",
          "name": "stdout",
          "text": [
            " Alt Atheism FAQ Atheist Resources\n"
          ]
        }
      ]
    },
    {
      "cell_type": "markdown",
      "metadata": {
        "id": "VpLawhIUDLqU"
      },
      "source": [
        "<h3>2.3.4. Preprocessing of all the documents</h3>"
      ]
    },
    {
      "cell_type": "code",
      "metadata": {
        "colab": {
          "base_uri": "https://localhost:8080/"
        },
        "id": "UDgb1qWs2B6f",
        "outputId": "c4947d67-e72e-43f5-a581-c3ae3b6de6db"
      },
      "source": [
        "#Reference: https://stackoverflow.com/questions/18262293/how-to-open-every-file-in-a-folder\n",
        "documents_folder = os.path.join(os.getcwd(),'documents')\n",
        "\n",
        "list_of_all_processed_emails = []\n",
        "list_of_all_processed_subjects = []\n",
        "list_of_all_class_labels = []\n",
        "list_of_all_processed_text = []\n",
        "list_of_all_original_text = []\n",
        "counter = 0\n",
        "\n",
        "for filename in tqdm(os.listdir(documents_folder)):\n",
        "  with open(os.path.join(documents_folder, filename), 'r', encoding=\"latin-1\") as f: # open in readonly mode\n",
        "    text = f.read()\n",
        "    list_of_all_original_text.append(text)\n",
        "\n",
        "    counter +=1\n",
        "    list_of_all_class_labels.append(filename.split('_')[0])\n",
        "    \n",
        "    email_processed_string = \"\"\n",
        "    subject_processed_string = \"\"\n",
        "\n",
        "    text, email_processed_string, subject_processed_string = preprocess(text)\n",
        "\n",
        "    list_of_all_processed_text.append(text)\n",
        "    list_of_all_processed_emails.append(email_processed_string)\n",
        "    list_of_all_processed_subjects.append(subject_processed_string)\n",
        "\n",
        "  #Write the file out again\n",
        "  #with open(os.path.join(documents_folder, filename), 'w', encoding=\"latin-1\") as f: # open in write mode\n",
        "  #  f.write(text)\n",
        "\n",
        "print(\"\\nWe have processed {} files\".format(counter))"
      ],
      "execution_count": 24,
      "outputs": [
        {
          "output_type": "stream",
          "name": "stderr",
          "text": [
            "100%|██████████| 18828/18828 [30:28<00:00, 10.29it/s]"
          ]
        },
        {
          "output_type": "stream",
          "name": "stdout",
          "text": [
            "\n",
            "We have processed 18828 files\n"
          ]
        },
        {
          "output_type": "stream",
          "name": "stderr",
          "text": [
            "\n"
          ]
        }
      ]
    },
    {
      "cell_type": "markdown",
      "metadata": {
        "id": "Pl9x27LXqxlc"
      },
      "source": [
        "**Verifying that the length is same for all the lists**"
      ]
    },
    {
      "cell_type": "code",
      "metadata": {
        "colab": {
          "base_uri": "https://localhost:8080/"
        },
        "id": "iDHsCuJHqjSh",
        "outputId": "694012ee-b178-438d-ddb8-66914ce2f57e"
      },
      "source": [
        "len(list_of_all_class_labels)"
      ],
      "execution_count": 25,
      "outputs": [
        {
          "output_type": "execute_result",
          "data": {
            "text/plain": [
              "18828"
            ]
          },
          "metadata": {},
          "execution_count": 25
        }
      ]
    },
    {
      "cell_type": "code",
      "metadata": {
        "colab": {
          "base_uri": "https://localhost:8080/"
        },
        "id": "hiutA6tJEBM_",
        "outputId": "c21cf417-f563-4c5f-a5dc-06e1eb788d28"
      },
      "source": [
        "len(list_of_all_original_text)"
      ],
      "execution_count": 26,
      "outputs": [
        {
          "output_type": "execute_result",
          "data": {
            "text/plain": [
              "18828"
            ]
          },
          "metadata": {},
          "execution_count": 26
        }
      ]
    },
    {
      "cell_type": "code",
      "metadata": {
        "colab": {
          "base_uri": "https://localhost:8080/"
        },
        "id": "c8qfdpccqpEs",
        "outputId": "f30c3487-8c9a-4de1-93a9-7930d4ad01b6"
      },
      "source": [
        "len(list_of_all_processed_text)"
      ],
      "execution_count": 27,
      "outputs": [
        {
          "output_type": "execute_result",
          "data": {
            "text/plain": [
              "18828"
            ]
          },
          "metadata": {},
          "execution_count": 27
        }
      ]
    },
    {
      "cell_type": "code",
      "metadata": {
        "colab": {
          "base_uri": "https://localhost:8080/"
        },
        "id": "MFCkohnfqr4Z",
        "outputId": "4c5375c0-ef94-4643-d3fb-8f37205a520b"
      },
      "source": [
        "len(list_of_all_processed_emails)"
      ],
      "execution_count": 28,
      "outputs": [
        {
          "output_type": "execute_result",
          "data": {
            "text/plain": [
              "18828"
            ]
          },
          "metadata": {},
          "execution_count": 28
        }
      ]
    },
    {
      "cell_type": "code",
      "metadata": {
        "colab": {
          "base_uri": "https://localhost:8080/"
        },
        "id": "78ieTdErquHA",
        "outputId": "b3f22abf-b59d-4740-d67b-5a1ad3abc172"
      },
      "source": [
        "len(list_of_all_processed_subjects)"
      ],
      "execution_count": 29,
      "outputs": [
        {
          "output_type": "execute_result",
          "data": {
            "text/plain": [
              "18828"
            ]
          },
          "metadata": {},
          "execution_count": 29
        }
      ]
    },
    {
      "cell_type": "code",
      "metadata": {
        "id": "IVngeHrpqOJF"
      },
      "source": [
        "df = pd.DataFrame(list(zip(list_of_all_original_text, list_of_all_processed_text, list_of_all_processed_emails, list_of_all_processed_subjects, list_of_all_class_labels)), columns =['Original_Text','Text', 'Email', 'Subject', 'Class'])"
      ],
      "execution_count": 30,
      "outputs": []
    },
    {
      "cell_type": "code",
      "metadata": {
        "colab": {
          "base_uri": "https://localhost:8080/",
          "height": 641
        },
        "id": "J7-8U444rZma",
        "outputId": "57769533-387b-4946-de0f-202a1dd1605b"
      },
      "source": [
        "df"
      ],
      "execution_count": 31,
      "outputs": [
        {
          "output_type": "execute_result",
          "data": {
            "text/plain": [
              "                                           Original_Text  \\\n",
              "0      From: writingctr@leo.bsuvc.bsu.edu\\nSubject: R...   \n",
              "1      From: hsano@cs.ulowell.edu (Hitoshi Sano)\\nSub...   \n",
              "2      From: pablo@jhunix.hcf.jhu.edu (Pablo A Iglesi...   \n",
              "3      From: gballent@hudson.UVic.CA (Greg  Ballentin...   \n",
              "4      From: db7n+@andrew.cmu.edu (D. Andrew Byler)\\n...   \n",
              "...                                                  ...   \n",
              "18823  From: tip@lead.tmc.edu (Tom Perigrin)\\nSubject...   \n",
              "18824  From: christen@astro.ocis.temple.edu (Carl Chr...   \n",
              "18825  Subject: Repeat violent criminals--is reform o...   \n",
              "18826  From: sigler@hp750.itg.ti.com (John Sigler)\\nS...   \n",
              "18827  From: prabhak@giga.cs.umn.edu (Satya Prabhakar...   \n",
              "\n",
              "                                                    Text  \\\n",
              "0      article cub fever hitting again beginning thin...   \n",
              "1      looking for copy the first world wrestling fed...   \n",
              "2      article article another pair remove the balk r...   \n",
              "3      article you have completely missed the point w...   \n",
              "4      really you may right but would like proof far ...   \n",
              "...                                                  ...   \n",
              "18823  today was criticizing for not claiming respons...   \n",
              "18824  apart from the suggestion that appeared the le...   \n",
              "18825  from the boston globe thursday april man guilt...   \n",
              "18826  our group interested using pixmap format for m...   \n",
              "18827  helping the where earth you come with such acc...   \n",
              "\n",
              "                                                   Email  \\\n",
              "0                  leo bsuvc bsu edu camelot bradley edu   \n",
              "1                                ulowell edu ulowell edu   \n",
              "2      jhunix hcf jhu edu MIT EDU mit edu VFL Paramax...   \n",
              "3      hudson UVic ramsey laurentian ramsey laurentia...   \n",
              "4                                                          \n",
              "...                                                  ...   \n",
              "18823                                       lead tmc edu   \n",
              "18824  astro ocis temple edu cyclops iucf indiana edu...   \n",
              "18825                 scws8 harvard edu husc harvard edu   \n",
              "18826                                hp750 itg hp750 itg   \n",
              "18827                                       giga umn edu   \n",
              "\n",
              "                                                 Subject  \\\n",
              "0                                             CUB fever    \n",
              "1                                       WANTED WWF Album   \n",
              "2            How to speed up games marginally realistic    \n",
              "3                                        plus minus stat   \n",
              "4                          Serbian genocide Work of God    \n",
              "...                                                  ...   \n",
              "18823      Slick Rushie tries to have it both ways again   \n",
              "18824                                       Asimov stamp   \n",
              "18825   Repeat violent criminals is reform often impo...   \n",
              "18826                                   Pixmap standard    \n",
              "18827                          Europe vs Muslim Bosnians   \n",
              "\n",
              "                        Class  \n",
              "0          rec.sport.baseball  \n",
              "1                misc.forsale  \n",
              "2          rec.sport.baseball  \n",
              "3            rec.sport.hockey  \n",
              "4      soc.religion.christian  \n",
              "...                       ...  \n",
              "18823      talk.politics.guns  \n",
              "18824             alt.atheism  \n",
              "18825      talk.politics.guns  \n",
              "18826          comp.windows.x  \n",
              "18827   talk.politics.mideast  \n",
              "\n",
              "[18828 rows x 5 columns]"
            ],
            "text/html": [
              "\n",
              "  <div id=\"df-a49c86df-65fc-428e-90b6-4d89f1481ea0\">\n",
              "    <div class=\"colab-df-container\">\n",
              "      <div>\n",
              "<style scoped>\n",
              "    .dataframe tbody tr th:only-of-type {\n",
              "        vertical-align: middle;\n",
              "    }\n",
              "\n",
              "    .dataframe tbody tr th {\n",
              "        vertical-align: top;\n",
              "    }\n",
              "\n",
              "    .dataframe thead th {\n",
              "        text-align: right;\n",
              "    }\n",
              "</style>\n",
              "<table border=\"1\" class=\"dataframe\">\n",
              "  <thead>\n",
              "    <tr style=\"text-align: right;\">\n",
              "      <th></th>\n",
              "      <th>Original_Text</th>\n",
              "      <th>Text</th>\n",
              "      <th>Email</th>\n",
              "      <th>Subject</th>\n",
              "      <th>Class</th>\n",
              "    </tr>\n",
              "  </thead>\n",
              "  <tbody>\n",
              "    <tr>\n",
              "      <th>0</th>\n",
              "      <td>From: writingctr@leo.bsuvc.bsu.edu\\nSubject: R...</td>\n",
              "      <td>article cub fever hitting again beginning thin...</td>\n",
              "      <td>leo bsuvc bsu edu camelot bradley edu</td>\n",
              "      <td>CUB fever</td>\n",
              "      <td>rec.sport.baseball</td>\n",
              "    </tr>\n",
              "    <tr>\n",
              "      <th>1</th>\n",
              "      <td>From: hsano@cs.ulowell.edu (Hitoshi Sano)\\nSub...</td>\n",
              "      <td>looking for copy the first world wrestling fed...</td>\n",
              "      <td>ulowell edu ulowell edu</td>\n",
              "      <td>WANTED WWF Album</td>\n",
              "      <td>misc.forsale</td>\n",
              "    </tr>\n",
              "    <tr>\n",
              "      <th>2</th>\n",
              "      <td>From: pablo@jhunix.hcf.jhu.edu (Pablo A Iglesi...</td>\n",
              "      <td>article article another pair remove the balk r...</td>\n",
              "      <td>jhunix hcf jhu edu MIT EDU mit edu VFL Paramax...</td>\n",
              "      <td>How to speed up games marginally realistic</td>\n",
              "      <td>rec.sport.baseball</td>\n",
              "    </tr>\n",
              "    <tr>\n",
              "      <th>3</th>\n",
              "      <td>From: gballent@hudson.UVic.CA (Greg  Ballentin...</td>\n",
              "      <td>article you have completely missed the point w...</td>\n",
              "      <td>hudson UVic ramsey laurentian ramsey laurentia...</td>\n",
              "      <td>plus minus stat</td>\n",
              "      <td>rec.sport.hockey</td>\n",
              "    </tr>\n",
              "    <tr>\n",
              "      <th>4</th>\n",
              "      <td>From: db7n+@andrew.cmu.edu (D. Andrew Byler)\\n...</td>\n",
              "      <td>really you may right but would like proof far ...</td>\n",
              "      <td></td>\n",
              "      <td>Serbian genocide Work of God</td>\n",
              "      <td>soc.religion.christian</td>\n",
              "    </tr>\n",
              "    <tr>\n",
              "      <th>...</th>\n",
              "      <td>...</td>\n",
              "      <td>...</td>\n",
              "      <td>...</td>\n",
              "      <td>...</td>\n",
              "      <td>...</td>\n",
              "    </tr>\n",
              "    <tr>\n",
              "      <th>18823</th>\n",
              "      <td>From: tip@lead.tmc.edu (Tom Perigrin)\\nSubject...</td>\n",
              "      <td>today was criticizing for not claiming respons...</td>\n",
              "      <td>lead tmc edu</td>\n",
              "      <td>Slick Rushie tries to have it both ways again</td>\n",
              "      <td>talk.politics.guns</td>\n",
              "    </tr>\n",
              "    <tr>\n",
              "      <th>18824</th>\n",
              "      <td>From: christen@astro.ocis.temple.edu (Carl Chr...</td>\n",
              "      <td>apart from the suggestion that appeared the le...</td>\n",
              "      <td>astro ocis temple edu cyclops iucf indiana edu...</td>\n",
              "      <td>Asimov stamp</td>\n",
              "      <td>alt.atheism</td>\n",
              "    </tr>\n",
              "    <tr>\n",
              "      <th>18825</th>\n",
              "      <td>Subject: Repeat violent criminals--is reform o...</td>\n",
              "      <td>from the boston globe thursday april man guilt...</td>\n",
              "      <td>scws8 harvard edu husc harvard edu</td>\n",
              "      <td>Repeat violent criminals is reform often impo...</td>\n",
              "      <td>talk.politics.guns</td>\n",
              "    </tr>\n",
              "    <tr>\n",
              "      <th>18826</th>\n",
              "      <td>From: sigler@hp750.itg.ti.com (John Sigler)\\nS...</td>\n",
              "      <td>our group interested using pixmap format for m...</td>\n",
              "      <td>hp750 itg hp750 itg</td>\n",
              "      <td>Pixmap standard</td>\n",
              "      <td>comp.windows.x</td>\n",
              "    </tr>\n",
              "    <tr>\n",
              "      <th>18827</th>\n",
              "      <td>From: prabhak@giga.cs.umn.edu (Satya Prabhakar...</td>\n",
              "      <td>helping the where earth you come with such acc...</td>\n",
              "      <td>giga umn edu</td>\n",
              "      <td>Europe vs Muslim Bosnians</td>\n",
              "      <td>talk.politics.mideast</td>\n",
              "    </tr>\n",
              "  </tbody>\n",
              "</table>\n",
              "<p>18828 rows × 5 columns</p>\n",
              "</div>\n",
              "      <button class=\"colab-df-convert\" onclick=\"convertToInteractive('df-a49c86df-65fc-428e-90b6-4d89f1481ea0')\"\n",
              "              title=\"Convert this dataframe to an interactive table.\"\n",
              "              style=\"display:none;\">\n",
              "        \n",
              "  <svg xmlns=\"http://www.w3.org/2000/svg\" height=\"24px\"viewBox=\"0 0 24 24\"\n",
              "       width=\"24px\">\n",
              "    <path d=\"M0 0h24v24H0V0z\" fill=\"none\"/>\n",
              "    <path d=\"M18.56 5.44l.94 2.06.94-2.06 2.06-.94-2.06-.94-.94-2.06-.94 2.06-2.06.94zm-11 1L8.5 8.5l.94-2.06 2.06-.94-2.06-.94L8.5 2.5l-.94 2.06-2.06.94zm10 10l.94 2.06.94-2.06 2.06-.94-2.06-.94-.94-2.06-.94 2.06-2.06.94z\"/><path d=\"M17.41 7.96l-1.37-1.37c-.4-.4-.92-.59-1.43-.59-.52 0-1.04.2-1.43.59L10.3 9.45l-7.72 7.72c-.78.78-.78 2.05 0 2.83L4 21.41c.39.39.9.59 1.41.59.51 0 1.02-.2 1.41-.59l7.78-7.78 2.81-2.81c.8-.78.8-2.07 0-2.86zM5.41 20L4 18.59l7.72-7.72 1.47 1.35L5.41 20z\"/>\n",
              "  </svg>\n",
              "      </button>\n",
              "      \n",
              "  <style>\n",
              "    .colab-df-container {\n",
              "      display:flex;\n",
              "      flex-wrap:wrap;\n",
              "      gap: 12px;\n",
              "    }\n",
              "\n",
              "    .colab-df-convert {\n",
              "      background-color: #E8F0FE;\n",
              "      border: none;\n",
              "      border-radius: 50%;\n",
              "      cursor: pointer;\n",
              "      display: none;\n",
              "      fill: #1967D2;\n",
              "      height: 32px;\n",
              "      padding: 0 0 0 0;\n",
              "      width: 32px;\n",
              "    }\n",
              "\n",
              "    .colab-df-convert:hover {\n",
              "      background-color: #E2EBFA;\n",
              "      box-shadow: 0px 1px 2px rgba(60, 64, 67, 0.3), 0px 1px 3px 1px rgba(60, 64, 67, 0.15);\n",
              "      fill: #174EA6;\n",
              "    }\n",
              "\n",
              "    [theme=dark] .colab-df-convert {\n",
              "      background-color: #3B4455;\n",
              "      fill: #D2E3FC;\n",
              "    }\n",
              "\n",
              "    [theme=dark] .colab-df-convert:hover {\n",
              "      background-color: #434B5C;\n",
              "      box-shadow: 0px 1px 3px 1px rgba(0, 0, 0, 0.15);\n",
              "      filter: drop-shadow(0px 1px 2px rgba(0, 0, 0, 0.3));\n",
              "      fill: #FFFFFF;\n",
              "    }\n",
              "  </style>\n",
              "\n",
              "      <script>\n",
              "        const buttonEl =\n",
              "          document.querySelector('#df-a49c86df-65fc-428e-90b6-4d89f1481ea0 button.colab-df-convert');\n",
              "        buttonEl.style.display =\n",
              "          google.colab.kernel.accessAllowed ? 'block' : 'none';\n",
              "\n",
              "        async function convertToInteractive(key) {\n",
              "          const element = document.querySelector('#df-a49c86df-65fc-428e-90b6-4d89f1481ea0');\n",
              "          const dataTable =\n",
              "            await google.colab.kernel.invokeFunction('convertToInteractive',\n",
              "                                                     [key], {});\n",
              "          if (!dataTable) return;\n",
              "\n",
              "          const docLinkHtml = 'Like what you see? Visit the ' +\n",
              "            '<a target=\"_blank\" href=https://colab.research.google.com/notebooks/data_table.ipynb>data table notebook</a>'\n",
              "            + ' to learn more about interactive tables.';\n",
              "          element.innerHTML = '';\n",
              "          dataTable['output_type'] = 'display_data';\n",
              "          await google.colab.output.renderOutput(dataTable, element);\n",
              "          const docLink = document.createElement('div');\n",
              "          docLink.innerHTML = docLinkHtml;\n",
              "          element.appendChild(docLink);\n",
              "        }\n",
              "      </script>\n",
              "    </div>\n",
              "  </div>\n",
              "  "
            ]
          },
          "metadata": {},
          "execution_count": 31
        }
      ]
    },
    {
      "cell_type": "markdown",
      "metadata": {
        "id": "9P7z57lZufSL"
      },
      "source": [
        "<h3>2.3.5. Analysis of the Dataset<h3>"
      ]
    },
    {
      "cell_type": "code",
      "metadata": {
        "colab": {
          "base_uri": "https://localhost:8080/"
        },
        "id": "LUSpHTEh3a9i",
        "outputId": "f29d6557-07b8-425e-9de4-409133e797ef"
      },
      "source": [
        "df.shape"
      ],
      "execution_count": 32,
      "outputs": [
        {
          "output_type": "execute_result",
          "data": {
            "text/plain": [
              "(18828, 5)"
            ]
          },
          "metadata": {},
          "execution_count": 32
        }
      ]
    },
    {
      "cell_type": "code",
      "metadata": {
        "colab": {
          "base_uri": "https://localhost:8080/"
        },
        "id": "zNkMNSNHaL37",
        "outputId": "76fedb1b-c926-46c2-c74f-e9f58fb8ab0a"
      },
      "source": [
        "#We can see that there are 18828 rows\n",
        "df.info()"
      ],
      "execution_count": 33,
      "outputs": [
        {
          "output_type": "stream",
          "name": "stdout",
          "text": [
            "<class 'pandas.core.frame.DataFrame'>\n",
            "RangeIndex: 18828 entries, 0 to 18827\n",
            "Data columns (total 5 columns):\n",
            " #   Column         Non-Null Count  Dtype \n",
            "---  ------         --------------  ----- \n",
            " 0   Original_Text  18828 non-null  object\n",
            " 1   Text           18828 non-null  object\n",
            " 2   Email          18828 non-null  object\n",
            " 3   Subject        18828 non-null  object\n",
            " 4   Class          18828 non-null  object\n",
            "dtypes: object(5)\n",
            "memory usage: 735.6+ KB\n"
          ]
        }
      ]
    },
    {
      "cell_type": "code",
      "metadata": {
        "colab": {
          "base_uri": "https://localhost:8080/",
          "height": 49
        },
        "id": "g9QSByCeEt6D",
        "outputId": "9b2c5370-2141-464c-af2f-a3e4691e357a"
      },
      "source": [
        "#Verifying that there's no empty cell\n",
        "df[df.isnull().any(axis=1)]"
      ],
      "execution_count": 34,
      "outputs": [
        {
          "output_type": "execute_result",
          "data": {
            "text/plain": [
              "Empty DataFrame\n",
              "Columns: [Original_Text, Text, Email, Subject, Class]\n",
              "Index: []"
            ],
            "text/html": [
              "\n",
              "  <div id=\"df-dd6c4cbc-5aaf-45c9-8ef8-39f395d4bef7\">\n",
              "    <div class=\"colab-df-container\">\n",
              "      <div>\n",
              "<style scoped>\n",
              "    .dataframe tbody tr th:only-of-type {\n",
              "        vertical-align: middle;\n",
              "    }\n",
              "\n",
              "    .dataframe tbody tr th {\n",
              "        vertical-align: top;\n",
              "    }\n",
              "\n",
              "    .dataframe thead th {\n",
              "        text-align: right;\n",
              "    }\n",
              "</style>\n",
              "<table border=\"1\" class=\"dataframe\">\n",
              "  <thead>\n",
              "    <tr style=\"text-align: right;\">\n",
              "      <th></th>\n",
              "      <th>Original_Text</th>\n",
              "      <th>Text</th>\n",
              "      <th>Email</th>\n",
              "      <th>Subject</th>\n",
              "      <th>Class</th>\n",
              "    </tr>\n",
              "  </thead>\n",
              "  <tbody>\n",
              "  </tbody>\n",
              "</table>\n",
              "</div>\n",
              "      <button class=\"colab-df-convert\" onclick=\"convertToInteractive('df-dd6c4cbc-5aaf-45c9-8ef8-39f395d4bef7')\"\n",
              "              title=\"Convert this dataframe to an interactive table.\"\n",
              "              style=\"display:none;\">\n",
              "        \n",
              "  <svg xmlns=\"http://www.w3.org/2000/svg\" height=\"24px\"viewBox=\"0 0 24 24\"\n",
              "       width=\"24px\">\n",
              "    <path d=\"M0 0h24v24H0V0z\" fill=\"none\"/>\n",
              "    <path d=\"M18.56 5.44l.94 2.06.94-2.06 2.06-.94-2.06-.94-.94-2.06-.94 2.06-2.06.94zm-11 1L8.5 8.5l.94-2.06 2.06-.94-2.06-.94L8.5 2.5l-.94 2.06-2.06.94zm10 10l.94 2.06.94-2.06 2.06-.94-2.06-.94-.94-2.06-.94 2.06-2.06.94z\"/><path d=\"M17.41 7.96l-1.37-1.37c-.4-.4-.92-.59-1.43-.59-.52 0-1.04.2-1.43.59L10.3 9.45l-7.72 7.72c-.78.78-.78 2.05 0 2.83L4 21.41c.39.39.9.59 1.41.59.51 0 1.02-.2 1.41-.59l7.78-7.78 2.81-2.81c.8-.78.8-2.07 0-2.86zM5.41 20L4 18.59l7.72-7.72 1.47 1.35L5.41 20z\"/>\n",
              "  </svg>\n",
              "      </button>\n",
              "      \n",
              "  <style>\n",
              "    .colab-df-container {\n",
              "      display:flex;\n",
              "      flex-wrap:wrap;\n",
              "      gap: 12px;\n",
              "    }\n",
              "\n",
              "    .colab-df-convert {\n",
              "      background-color: #E8F0FE;\n",
              "      border: none;\n",
              "      border-radius: 50%;\n",
              "      cursor: pointer;\n",
              "      display: none;\n",
              "      fill: #1967D2;\n",
              "      height: 32px;\n",
              "      padding: 0 0 0 0;\n",
              "      width: 32px;\n",
              "    }\n",
              "\n",
              "    .colab-df-convert:hover {\n",
              "      background-color: #E2EBFA;\n",
              "      box-shadow: 0px 1px 2px rgba(60, 64, 67, 0.3), 0px 1px 3px 1px rgba(60, 64, 67, 0.15);\n",
              "      fill: #174EA6;\n",
              "    }\n",
              "\n",
              "    [theme=dark] .colab-df-convert {\n",
              "      background-color: #3B4455;\n",
              "      fill: #D2E3FC;\n",
              "    }\n",
              "\n",
              "    [theme=dark] .colab-df-convert:hover {\n",
              "      background-color: #434B5C;\n",
              "      box-shadow: 0px 1px 3px 1px rgba(0, 0, 0, 0.15);\n",
              "      filter: drop-shadow(0px 1px 2px rgba(0, 0, 0, 0.3));\n",
              "      fill: #FFFFFF;\n",
              "    }\n",
              "  </style>\n",
              "\n",
              "      <script>\n",
              "        const buttonEl =\n",
              "          document.querySelector('#df-dd6c4cbc-5aaf-45c9-8ef8-39f395d4bef7 button.colab-df-convert');\n",
              "        buttonEl.style.display =\n",
              "          google.colab.kernel.accessAllowed ? 'block' : 'none';\n",
              "\n",
              "        async function convertToInteractive(key) {\n",
              "          const element = document.querySelector('#df-dd6c4cbc-5aaf-45c9-8ef8-39f395d4bef7');\n",
              "          const dataTable =\n",
              "            await google.colab.kernel.invokeFunction('convertToInteractive',\n",
              "                                                     [key], {});\n",
              "          if (!dataTable) return;\n",
              "\n",
              "          const docLinkHtml = 'Like what you see? Visit the ' +\n",
              "            '<a target=\"_blank\" href=https://colab.research.google.com/notebooks/data_table.ipynb>data table notebook</a>'\n",
              "            + ' to learn more about interactive tables.';\n",
              "          element.innerHTML = '';\n",
              "          dataTable['output_type'] = 'display_data';\n",
              "          await google.colab.output.renderOutput(dataTable, element);\n",
              "          const docLink = document.createElement('div');\n",
              "          docLink.innerHTML = docLinkHtml;\n",
              "          element.appendChild(docLink);\n",
              "        }\n",
              "      </script>\n",
              "    </div>\n",
              "  </div>\n",
              "  "
            ]
          },
          "metadata": {},
          "execution_count": 34
        }
      ]
    },
    {
      "cell_type": "code",
      "metadata": {
        "colab": {
          "base_uri": "https://localhost:8080/",
          "height": 337
        },
        "id": "RWkoWjkSulvg",
        "outputId": "eb4fa870-42d3-46a8-8f47-10467085f422"
      },
      "source": [
        "df.head()"
      ],
      "execution_count": 35,
      "outputs": [
        {
          "output_type": "execute_result",
          "data": {
            "text/plain": [
              "                                       Original_Text  \\\n",
              "0  From: writingctr@leo.bsuvc.bsu.edu\\nSubject: R...   \n",
              "1  From: hsano@cs.ulowell.edu (Hitoshi Sano)\\nSub...   \n",
              "2  From: pablo@jhunix.hcf.jhu.edu (Pablo A Iglesi...   \n",
              "3  From: gballent@hudson.UVic.CA (Greg  Ballentin...   \n",
              "4  From: db7n+@andrew.cmu.edu (D. Andrew Byler)\\n...   \n",
              "\n",
              "                                                Text  \\\n",
              "0  article cub fever hitting again beginning thin...   \n",
              "1  looking for copy the first world wrestling fed...   \n",
              "2  article article another pair remove the balk r...   \n",
              "3  article you have completely missed the point w...   \n",
              "4  really you may right but would like proof far ...   \n",
              "\n",
              "                                               Email  \\\n",
              "0              leo bsuvc bsu edu camelot bradley edu   \n",
              "1                            ulowell edu ulowell edu   \n",
              "2  jhunix hcf jhu edu MIT EDU mit edu VFL Paramax...   \n",
              "3  hudson UVic ramsey laurentian ramsey laurentia...   \n",
              "4                                                      \n",
              "\n",
              "                                        Subject                   Class  \n",
              "0                                    CUB fever       rec.sport.baseball  \n",
              "1                              WANTED WWF Album            misc.forsale  \n",
              "2   How to speed up games marginally realistic       rec.sport.baseball  \n",
              "3                               plus minus stat        rec.sport.hockey  \n",
              "4                 Serbian genocide Work of God   soc.religion.christian  "
            ],
            "text/html": [
              "\n",
              "  <div id=\"df-025ebd53-5a23-48cd-b3c4-d903f600e894\">\n",
              "    <div class=\"colab-df-container\">\n",
              "      <div>\n",
              "<style scoped>\n",
              "    .dataframe tbody tr th:only-of-type {\n",
              "        vertical-align: middle;\n",
              "    }\n",
              "\n",
              "    .dataframe tbody tr th {\n",
              "        vertical-align: top;\n",
              "    }\n",
              "\n",
              "    .dataframe thead th {\n",
              "        text-align: right;\n",
              "    }\n",
              "</style>\n",
              "<table border=\"1\" class=\"dataframe\">\n",
              "  <thead>\n",
              "    <tr style=\"text-align: right;\">\n",
              "      <th></th>\n",
              "      <th>Original_Text</th>\n",
              "      <th>Text</th>\n",
              "      <th>Email</th>\n",
              "      <th>Subject</th>\n",
              "      <th>Class</th>\n",
              "    </tr>\n",
              "  </thead>\n",
              "  <tbody>\n",
              "    <tr>\n",
              "      <th>0</th>\n",
              "      <td>From: writingctr@leo.bsuvc.bsu.edu\\nSubject: R...</td>\n",
              "      <td>article cub fever hitting again beginning thin...</td>\n",
              "      <td>leo bsuvc bsu edu camelot bradley edu</td>\n",
              "      <td>CUB fever</td>\n",
              "      <td>rec.sport.baseball</td>\n",
              "    </tr>\n",
              "    <tr>\n",
              "      <th>1</th>\n",
              "      <td>From: hsano@cs.ulowell.edu (Hitoshi Sano)\\nSub...</td>\n",
              "      <td>looking for copy the first world wrestling fed...</td>\n",
              "      <td>ulowell edu ulowell edu</td>\n",
              "      <td>WANTED WWF Album</td>\n",
              "      <td>misc.forsale</td>\n",
              "    </tr>\n",
              "    <tr>\n",
              "      <th>2</th>\n",
              "      <td>From: pablo@jhunix.hcf.jhu.edu (Pablo A Iglesi...</td>\n",
              "      <td>article article another pair remove the balk r...</td>\n",
              "      <td>jhunix hcf jhu edu MIT EDU mit edu VFL Paramax...</td>\n",
              "      <td>How to speed up games marginally realistic</td>\n",
              "      <td>rec.sport.baseball</td>\n",
              "    </tr>\n",
              "    <tr>\n",
              "      <th>3</th>\n",
              "      <td>From: gballent@hudson.UVic.CA (Greg  Ballentin...</td>\n",
              "      <td>article you have completely missed the point w...</td>\n",
              "      <td>hudson UVic ramsey laurentian ramsey laurentia...</td>\n",
              "      <td>plus minus stat</td>\n",
              "      <td>rec.sport.hockey</td>\n",
              "    </tr>\n",
              "    <tr>\n",
              "      <th>4</th>\n",
              "      <td>From: db7n+@andrew.cmu.edu (D. Andrew Byler)\\n...</td>\n",
              "      <td>really you may right but would like proof far ...</td>\n",
              "      <td></td>\n",
              "      <td>Serbian genocide Work of God</td>\n",
              "      <td>soc.religion.christian</td>\n",
              "    </tr>\n",
              "  </tbody>\n",
              "</table>\n",
              "</div>\n",
              "      <button class=\"colab-df-convert\" onclick=\"convertToInteractive('df-025ebd53-5a23-48cd-b3c4-d903f600e894')\"\n",
              "              title=\"Convert this dataframe to an interactive table.\"\n",
              "              style=\"display:none;\">\n",
              "        \n",
              "  <svg xmlns=\"http://www.w3.org/2000/svg\" height=\"24px\"viewBox=\"0 0 24 24\"\n",
              "       width=\"24px\">\n",
              "    <path d=\"M0 0h24v24H0V0z\" fill=\"none\"/>\n",
              "    <path d=\"M18.56 5.44l.94 2.06.94-2.06 2.06-.94-2.06-.94-.94-2.06-.94 2.06-2.06.94zm-11 1L8.5 8.5l.94-2.06 2.06-.94-2.06-.94L8.5 2.5l-.94 2.06-2.06.94zm10 10l.94 2.06.94-2.06 2.06-.94-2.06-.94-.94-2.06-.94 2.06-2.06.94z\"/><path d=\"M17.41 7.96l-1.37-1.37c-.4-.4-.92-.59-1.43-.59-.52 0-1.04.2-1.43.59L10.3 9.45l-7.72 7.72c-.78.78-.78 2.05 0 2.83L4 21.41c.39.39.9.59 1.41.59.51 0 1.02-.2 1.41-.59l7.78-7.78 2.81-2.81c.8-.78.8-2.07 0-2.86zM5.41 20L4 18.59l7.72-7.72 1.47 1.35L5.41 20z\"/>\n",
              "  </svg>\n",
              "      </button>\n",
              "      \n",
              "  <style>\n",
              "    .colab-df-container {\n",
              "      display:flex;\n",
              "      flex-wrap:wrap;\n",
              "      gap: 12px;\n",
              "    }\n",
              "\n",
              "    .colab-df-convert {\n",
              "      background-color: #E8F0FE;\n",
              "      border: none;\n",
              "      border-radius: 50%;\n",
              "      cursor: pointer;\n",
              "      display: none;\n",
              "      fill: #1967D2;\n",
              "      height: 32px;\n",
              "      padding: 0 0 0 0;\n",
              "      width: 32px;\n",
              "    }\n",
              "\n",
              "    .colab-df-convert:hover {\n",
              "      background-color: #E2EBFA;\n",
              "      box-shadow: 0px 1px 2px rgba(60, 64, 67, 0.3), 0px 1px 3px 1px rgba(60, 64, 67, 0.15);\n",
              "      fill: #174EA6;\n",
              "    }\n",
              "\n",
              "    [theme=dark] .colab-df-convert {\n",
              "      background-color: #3B4455;\n",
              "      fill: #D2E3FC;\n",
              "    }\n",
              "\n",
              "    [theme=dark] .colab-df-convert:hover {\n",
              "      background-color: #434B5C;\n",
              "      box-shadow: 0px 1px 3px 1px rgba(0, 0, 0, 0.15);\n",
              "      filter: drop-shadow(0px 1px 2px rgba(0, 0, 0, 0.3));\n",
              "      fill: #FFFFFF;\n",
              "    }\n",
              "  </style>\n",
              "\n",
              "      <script>\n",
              "        const buttonEl =\n",
              "          document.querySelector('#df-025ebd53-5a23-48cd-b3c4-d903f600e894 button.colab-df-convert');\n",
              "        buttonEl.style.display =\n",
              "          google.colab.kernel.accessAllowed ? 'block' : 'none';\n",
              "\n",
              "        async function convertToInteractive(key) {\n",
              "          const element = document.querySelector('#df-025ebd53-5a23-48cd-b3c4-d903f600e894');\n",
              "          const dataTable =\n",
              "            await google.colab.kernel.invokeFunction('convertToInteractive',\n",
              "                                                     [key], {});\n",
              "          if (!dataTable) return;\n",
              "\n",
              "          const docLinkHtml = 'Like what you see? Visit the ' +\n",
              "            '<a target=\"_blank\" href=https://colab.research.google.com/notebooks/data_table.ipynb>data table notebook</a>'\n",
              "            + ' to learn more about interactive tables.';\n",
              "          element.innerHTML = '';\n",
              "          dataTable['output_type'] = 'display_data';\n",
              "          await google.colab.output.renderOutput(dataTable, element);\n",
              "          const docLink = document.createElement('div');\n",
              "          docLink.innerHTML = docLinkHtml;\n",
              "          element.appendChild(docLink);\n",
              "        }\n",
              "      </script>\n",
              "    </div>\n",
              "  </div>\n",
              "  "
            ]
          },
          "metadata": {},
          "execution_count": 35
        }
      ]
    },
    {
      "cell_type": "code",
      "metadata": {
        "colab": {
          "base_uri": "https://localhost:8080/"
        },
        "id": "QFnxh-AIvfzT",
        "outputId": "7ad695e8-53e8-4b7b-eaeb-86fd5ae845b2"
      },
      "source": [
        "df['Class'].unique()"
      ],
      "execution_count": 36,
      "outputs": [
        {
          "output_type": "execute_result",
          "data": {
            "text/plain": [
              "array(['rec.sport.baseball', 'misc.forsale', 'rec.sport.hockey',\n",
              "       'soc.religion.christian', 'comp.windows.x', 'talk.politics.misc',\n",
              "       'rec.motorcycles', 'sci.space', 'talk.politics.guns',\n",
              "       'comp.os.ms-windows.misc', 'talk.religion.misc', 'rec.autos',\n",
              "       'sci.crypt', 'talk.politics.mideast', 'sci.med', 'sci.electronics',\n",
              "       'comp.sys.mac.hardware', 'comp.sys.ibm.pc.hardware', 'alt.atheism',\n",
              "       'comp.graphics'], dtype=object)"
            ]
          },
          "metadata": {},
          "execution_count": 36
        }
      ]
    },
    {
      "cell_type": "code",
      "metadata": {
        "colab": {
          "base_uri": "https://localhost:8080/"
        },
        "id": "AyTs7Ncdv1Ht",
        "outputId": "22f6ad1e-d3e4-4955-e080-36351d0dc655"
      },
      "source": [
        "#There are 20 classes\n",
        "len(df['Class'].unique())"
      ],
      "execution_count": 37,
      "outputs": [
        {
          "output_type": "execute_result",
          "data": {
            "text/plain": [
              "20"
            ]
          },
          "metadata": {},
          "execution_count": 37
        }
      ]
    },
    {
      "cell_type": "code",
      "metadata": {
        "colab": {
          "base_uri": "https://localhost:8080/"
        },
        "id": "Ni-0Fv3Ev4IY",
        "outputId": "b71da727-3ec2-447e-c744-6163b98b8a1b"
      },
      "source": [
        "#We can see that the data is balanced\n",
        "df['Class'].value_counts()"
      ],
      "execution_count": 38,
      "outputs": [
        {
          "output_type": "execute_result",
          "data": {
            "text/plain": [
              "rec.sport.hockey            999\n",
              "soc.religion.christian      997\n",
              "rec.sport.baseball          994\n",
              "rec.motorcycles             994\n",
              "sci.crypt                   991\n",
              "sci.med                     990\n",
              "rec.autos                   990\n",
              "sci.space                   987\n",
              "comp.os.ms-windows.misc     985\n",
              "comp.sys.ibm.pc.hardware    982\n",
              "sci.electronics             981\n",
              "comp.windows.x              980\n",
              "comp.graphics               973\n",
              "misc.forsale                972\n",
              "comp.sys.mac.hardware       961\n",
              "talk.politics.mideast       940\n",
              "talk.politics.guns          910\n",
              "alt.atheism                 799\n",
              "talk.politics.misc          775\n",
              "talk.religion.misc          628\n",
              "Name: Class, dtype: int64"
            ]
          },
          "metadata": {},
          "execution_count": 38
        }
      ]
    },
    {
      "cell_type": "code",
      "metadata": {
        "colab": {
          "base_uri": "https://localhost:8080/"
        },
        "id": "1DaE8JWqwH3D",
        "outputId": "d4442045-1263-4b74-a93c-77ec514c7ed6"
      },
      "source": [
        "print(\"The preprocessed data has {0} rows and {1} columns\".format(df.shape[0],df.shape[1]))"
      ],
      "execution_count": 39,
      "outputs": [
        {
          "output_type": "stream",
          "name": "stdout",
          "text": [
            "The preprocessed data has 18828 rows and 5 columns\n"
          ]
        }
      ]
    },
    {
      "cell_type": "code",
      "metadata": {
        "id": "ZfovFU7LxGZR"
      },
      "source": [
        "#Let's divide the data into X and Y\n",
        "y = df['Class']\n",
        "X = df.drop(['Class'], axis=1)"
      ],
      "execution_count": 40,
      "outputs": []
    },
    {
      "cell_type": "code",
      "metadata": {
        "colab": {
          "base_uri": "https://localhost:8080/"
        },
        "id": "sx3MPhhZxPKH",
        "outputId": "4f006b6f-3971-47b2-d75a-12992830ce71"
      },
      "source": [
        "print(\"The X label has {0} rows and {1} columns\".format(X.shape[0],X.shape[1]))"
      ],
      "execution_count": 41,
      "outputs": [
        {
          "output_type": "stream",
          "name": "stdout",
          "text": [
            "The X label has 18828 rows and 4 columns\n"
          ]
        }
      ]
    },
    {
      "cell_type": "code",
      "metadata": {
        "colab": {
          "base_uri": "https://localhost:8080/"
        },
        "id": "xkHXawhYxUyc",
        "outputId": "bc6d87f9-6070-473f-c93a-d44198001a8e"
      },
      "source": [
        "y.shape\n",
        "#We see that y has only one column -> project_is_approved"
      ],
      "execution_count": 42,
      "outputs": [
        {
          "output_type": "execute_result",
          "data": {
            "text/plain": [
              "(18828,)"
            ]
          },
          "metadata": {},
          "execution_count": 42
        }
      ]
    },
    {
      "cell_type": "code",
      "metadata": {
        "id": "k6DFmuo-5Cgt"
      },
      "source": [
        "data_combined = pd.DataFrame()\n",
        "data_combined['Combined_Data'] = X['Text'] + X['Subject'] + X['Email']"
      ],
      "execution_count": 43,
      "outputs": []
    },
    {
      "cell_type": "code",
      "metadata": {
        "colab": {
          "base_uri": "https://localhost:8080/"
        },
        "id": "SXziMgzpAW-c",
        "outputId": "d782637f-8951-41fb-8fbf-0f582b3522e7"
      },
      "source": [
        "data_combined['Combined_Data']"
      ],
      "execution_count": 44,
      "outputs": [
        {
          "output_type": "execute_result",
          "data": {
            "text/plain": [
              "0        article cub fever hitting again beginning thin...\n",
              "1        looking for copy the first world wrestling fed...\n",
              "2        article article another pair remove the balk r...\n",
              "3        article you have completely missed the point w...\n",
              "4        really you may right but would like proof far ...\n",
              "                               ...                        \n",
              "18823    today was criticizing for not claiming respons...\n",
              "18824    apart from the suggestion that appeared the le...\n",
              "18825    from the boston globe thursday april man guilt...\n",
              "18826    our group interested using pixmap format for m...\n",
              "18827    helping the where earth you come with such acc...\n",
              "Name: Combined_Data, Length: 18828, dtype: object"
            ]
          },
          "metadata": {},
          "execution_count": 44
        }
      ]
    },
    {
      "cell_type": "code",
      "metadata": {
        "id": "-Obb34b7PL1E"
      },
      "source": [
        "data_combined['Class'] = y"
      ],
      "execution_count": 45,
      "outputs": []
    },
    {
      "cell_type": "code",
      "metadata": {
        "colab": {
          "base_uri": "https://localhost:8080/"
        },
        "id": "Ozo3iMcQPXKx",
        "outputId": "8744c818-591a-48ff-c913-92c21c17ea82"
      },
      "source": [
        "data_combined.info()"
      ],
      "execution_count": 46,
      "outputs": [
        {
          "output_type": "stream",
          "name": "stdout",
          "text": [
            "<class 'pandas.core.frame.DataFrame'>\n",
            "RangeIndex: 18828 entries, 0 to 18827\n",
            "Data columns (total 2 columns):\n",
            " #   Column         Non-Null Count  Dtype \n",
            "---  ------         --------------  ----- \n",
            " 0   Combined_Data  18828 non-null  object\n",
            " 1   Class          18828 non-null  object\n",
            "dtypes: object(2)\n",
            "memory usage: 294.3+ KB\n"
          ]
        }
      ]
    },
    {
      "cell_type": "code",
      "metadata": {
        "colab": {
          "base_uri": "https://localhost:8080/",
          "height": 49
        },
        "id": "-qxOi5A531Ou",
        "outputId": "63df5a28-01e9-4d04-ae05-d54443840c4b"
      },
      "source": [
        "data_combined[data_combined.isnull().any(axis=1)]"
      ],
      "execution_count": 47,
      "outputs": [
        {
          "output_type": "execute_result",
          "data": {
            "text/plain": [
              "Empty DataFrame\n",
              "Columns: [Combined_Data, Class]\n",
              "Index: []"
            ],
            "text/html": [
              "\n",
              "  <div id=\"df-b516b0c0-6563-416f-802c-308f1b39183e\">\n",
              "    <div class=\"colab-df-container\">\n",
              "      <div>\n",
              "<style scoped>\n",
              "    .dataframe tbody tr th:only-of-type {\n",
              "        vertical-align: middle;\n",
              "    }\n",
              "\n",
              "    .dataframe tbody tr th {\n",
              "        vertical-align: top;\n",
              "    }\n",
              "\n",
              "    .dataframe thead th {\n",
              "        text-align: right;\n",
              "    }\n",
              "</style>\n",
              "<table border=\"1\" class=\"dataframe\">\n",
              "  <thead>\n",
              "    <tr style=\"text-align: right;\">\n",
              "      <th></th>\n",
              "      <th>Combined_Data</th>\n",
              "      <th>Class</th>\n",
              "    </tr>\n",
              "  </thead>\n",
              "  <tbody>\n",
              "  </tbody>\n",
              "</table>\n",
              "</div>\n",
              "      <button class=\"colab-df-convert\" onclick=\"convertToInteractive('df-b516b0c0-6563-416f-802c-308f1b39183e')\"\n",
              "              title=\"Convert this dataframe to an interactive table.\"\n",
              "              style=\"display:none;\">\n",
              "        \n",
              "  <svg xmlns=\"http://www.w3.org/2000/svg\" height=\"24px\"viewBox=\"0 0 24 24\"\n",
              "       width=\"24px\">\n",
              "    <path d=\"M0 0h24v24H0V0z\" fill=\"none\"/>\n",
              "    <path d=\"M18.56 5.44l.94 2.06.94-2.06 2.06-.94-2.06-.94-.94-2.06-.94 2.06-2.06.94zm-11 1L8.5 8.5l.94-2.06 2.06-.94-2.06-.94L8.5 2.5l-.94 2.06-2.06.94zm10 10l.94 2.06.94-2.06 2.06-.94-2.06-.94-.94-2.06-.94 2.06-2.06.94z\"/><path d=\"M17.41 7.96l-1.37-1.37c-.4-.4-.92-.59-1.43-.59-.52 0-1.04.2-1.43.59L10.3 9.45l-7.72 7.72c-.78.78-.78 2.05 0 2.83L4 21.41c.39.39.9.59 1.41.59.51 0 1.02-.2 1.41-.59l7.78-7.78 2.81-2.81c.8-.78.8-2.07 0-2.86zM5.41 20L4 18.59l7.72-7.72 1.47 1.35L5.41 20z\"/>\n",
              "  </svg>\n",
              "      </button>\n",
              "      \n",
              "  <style>\n",
              "    .colab-df-container {\n",
              "      display:flex;\n",
              "      flex-wrap:wrap;\n",
              "      gap: 12px;\n",
              "    }\n",
              "\n",
              "    .colab-df-convert {\n",
              "      background-color: #E8F0FE;\n",
              "      border: none;\n",
              "      border-radius: 50%;\n",
              "      cursor: pointer;\n",
              "      display: none;\n",
              "      fill: #1967D2;\n",
              "      height: 32px;\n",
              "      padding: 0 0 0 0;\n",
              "      width: 32px;\n",
              "    }\n",
              "\n",
              "    .colab-df-convert:hover {\n",
              "      background-color: #E2EBFA;\n",
              "      box-shadow: 0px 1px 2px rgba(60, 64, 67, 0.3), 0px 1px 3px 1px rgba(60, 64, 67, 0.15);\n",
              "      fill: #174EA6;\n",
              "    }\n",
              "\n",
              "    [theme=dark] .colab-df-convert {\n",
              "      background-color: #3B4455;\n",
              "      fill: #D2E3FC;\n",
              "    }\n",
              "\n",
              "    [theme=dark] .colab-df-convert:hover {\n",
              "      background-color: #434B5C;\n",
              "      box-shadow: 0px 1px 3px 1px rgba(0, 0, 0, 0.15);\n",
              "      filter: drop-shadow(0px 1px 2px rgba(0, 0, 0, 0.3));\n",
              "      fill: #FFFFFF;\n",
              "    }\n",
              "  </style>\n",
              "\n",
              "      <script>\n",
              "        const buttonEl =\n",
              "          document.querySelector('#df-b516b0c0-6563-416f-802c-308f1b39183e button.colab-df-convert');\n",
              "        buttonEl.style.display =\n",
              "          google.colab.kernel.accessAllowed ? 'block' : 'none';\n",
              "\n",
              "        async function convertToInteractive(key) {\n",
              "          const element = document.querySelector('#df-b516b0c0-6563-416f-802c-308f1b39183e');\n",
              "          const dataTable =\n",
              "            await google.colab.kernel.invokeFunction('convertToInteractive',\n",
              "                                                     [key], {});\n",
              "          if (!dataTable) return;\n",
              "\n",
              "          const docLinkHtml = 'Like what you see? Visit the ' +\n",
              "            '<a target=\"_blank\" href=https://colab.research.google.com/notebooks/data_table.ipynb>data table notebook</a>'\n",
              "            + ' to learn more about interactive tables.';\n",
              "          element.innerHTML = '';\n",
              "          dataTable['output_type'] = 'display_data';\n",
              "          await google.colab.output.renderOutput(dataTable, element);\n",
              "          const docLink = document.createElement('div');\n",
              "          docLink.innerHTML = docLinkHtml;\n",
              "          element.appendChild(docLink);\n",
              "        }\n",
              "      </script>\n",
              "    </div>\n",
              "  </div>\n",
              "  "
            ]
          },
          "metadata": {},
          "execution_count": 47
        }
      ]
    },
    {
      "cell_type": "code",
      "metadata": {
        "colab": {
          "base_uri": "https://localhost:8080/",
          "height": 206
        },
        "id": "ck48dumMPUWO",
        "outputId": "8447c45d-e8ba-45ff-d58c-6948e3b528a9"
      },
      "source": [
        "data_combined.head()"
      ],
      "execution_count": 48,
      "outputs": [
        {
          "output_type": "execute_result",
          "data": {
            "text/plain": [
              "                                       Combined_Data                   Class\n",
              "0  article cub fever hitting again beginning thin...      rec.sport.baseball\n",
              "1  looking for copy the first world wrestling fed...            misc.forsale\n",
              "2  article article another pair remove the balk r...      rec.sport.baseball\n",
              "3  article you have completely missed the point w...        rec.sport.hockey\n",
              "4  really you may right but would like proof far ...  soc.religion.christian"
            ],
            "text/html": [
              "\n",
              "  <div id=\"df-49625a71-5210-4737-9169-5cc518e710fc\">\n",
              "    <div class=\"colab-df-container\">\n",
              "      <div>\n",
              "<style scoped>\n",
              "    .dataframe tbody tr th:only-of-type {\n",
              "        vertical-align: middle;\n",
              "    }\n",
              "\n",
              "    .dataframe tbody tr th {\n",
              "        vertical-align: top;\n",
              "    }\n",
              "\n",
              "    .dataframe thead th {\n",
              "        text-align: right;\n",
              "    }\n",
              "</style>\n",
              "<table border=\"1\" class=\"dataframe\">\n",
              "  <thead>\n",
              "    <tr style=\"text-align: right;\">\n",
              "      <th></th>\n",
              "      <th>Combined_Data</th>\n",
              "      <th>Class</th>\n",
              "    </tr>\n",
              "  </thead>\n",
              "  <tbody>\n",
              "    <tr>\n",
              "      <th>0</th>\n",
              "      <td>article cub fever hitting again beginning thin...</td>\n",
              "      <td>rec.sport.baseball</td>\n",
              "    </tr>\n",
              "    <tr>\n",
              "      <th>1</th>\n",
              "      <td>looking for copy the first world wrestling fed...</td>\n",
              "      <td>misc.forsale</td>\n",
              "    </tr>\n",
              "    <tr>\n",
              "      <th>2</th>\n",
              "      <td>article article another pair remove the balk r...</td>\n",
              "      <td>rec.sport.baseball</td>\n",
              "    </tr>\n",
              "    <tr>\n",
              "      <th>3</th>\n",
              "      <td>article you have completely missed the point w...</td>\n",
              "      <td>rec.sport.hockey</td>\n",
              "    </tr>\n",
              "    <tr>\n",
              "      <th>4</th>\n",
              "      <td>really you may right but would like proof far ...</td>\n",
              "      <td>soc.religion.christian</td>\n",
              "    </tr>\n",
              "  </tbody>\n",
              "</table>\n",
              "</div>\n",
              "      <button class=\"colab-df-convert\" onclick=\"convertToInteractive('df-49625a71-5210-4737-9169-5cc518e710fc')\"\n",
              "              title=\"Convert this dataframe to an interactive table.\"\n",
              "              style=\"display:none;\">\n",
              "        \n",
              "  <svg xmlns=\"http://www.w3.org/2000/svg\" height=\"24px\"viewBox=\"0 0 24 24\"\n",
              "       width=\"24px\">\n",
              "    <path d=\"M0 0h24v24H0V0z\" fill=\"none\"/>\n",
              "    <path d=\"M18.56 5.44l.94 2.06.94-2.06 2.06-.94-2.06-.94-.94-2.06-.94 2.06-2.06.94zm-11 1L8.5 8.5l.94-2.06 2.06-.94-2.06-.94L8.5 2.5l-.94 2.06-2.06.94zm10 10l.94 2.06.94-2.06 2.06-.94-2.06-.94-.94-2.06-.94 2.06-2.06.94z\"/><path d=\"M17.41 7.96l-1.37-1.37c-.4-.4-.92-.59-1.43-.59-.52 0-1.04.2-1.43.59L10.3 9.45l-7.72 7.72c-.78.78-.78 2.05 0 2.83L4 21.41c.39.39.9.59 1.41.59.51 0 1.02-.2 1.41-.59l7.78-7.78 2.81-2.81c.8-.78.8-2.07 0-2.86zM5.41 20L4 18.59l7.72-7.72 1.47 1.35L5.41 20z\"/>\n",
              "  </svg>\n",
              "      </button>\n",
              "      \n",
              "  <style>\n",
              "    .colab-df-container {\n",
              "      display:flex;\n",
              "      flex-wrap:wrap;\n",
              "      gap: 12px;\n",
              "    }\n",
              "\n",
              "    .colab-df-convert {\n",
              "      background-color: #E8F0FE;\n",
              "      border: none;\n",
              "      border-radius: 50%;\n",
              "      cursor: pointer;\n",
              "      display: none;\n",
              "      fill: #1967D2;\n",
              "      height: 32px;\n",
              "      padding: 0 0 0 0;\n",
              "      width: 32px;\n",
              "    }\n",
              "\n",
              "    .colab-df-convert:hover {\n",
              "      background-color: #E2EBFA;\n",
              "      box-shadow: 0px 1px 2px rgba(60, 64, 67, 0.3), 0px 1px 3px 1px rgba(60, 64, 67, 0.15);\n",
              "      fill: #174EA6;\n",
              "    }\n",
              "\n",
              "    [theme=dark] .colab-df-convert {\n",
              "      background-color: #3B4455;\n",
              "      fill: #D2E3FC;\n",
              "    }\n",
              "\n",
              "    [theme=dark] .colab-df-convert:hover {\n",
              "      background-color: #434B5C;\n",
              "      box-shadow: 0px 1px 3px 1px rgba(0, 0, 0, 0.15);\n",
              "      filter: drop-shadow(0px 1px 2px rgba(0, 0, 0, 0.3));\n",
              "      fill: #FFFFFF;\n",
              "    }\n",
              "  </style>\n",
              "\n",
              "      <script>\n",
              "        const buttonEl =\n",
              "          document.querySelector('#df-49625a71-5210-4737-9169-5cc518e710fc button.colab-df-convert');\n",
              "        buttonEl.style.display =\n",
              "          google.colab.kernel.accessAllowed ? 'block' : 'none';\n",
              "\n",
              "        async function convertToInteractive(key) {\n",
              "          const element = document.querySelector('#df-49625a71-5210-4737-9169-5cc518e710fc');\n",
              "          const dataTable =\n",
              "            await google.colab.kernel.invokeFunction('convertToInteractive',\n",
              "                                                     [key], {});\n",
              "          if (!dataTable) return;\n",
              "\n",
              "          const docLinkHtml = 'Like what you see? Visit the ' +\n",
              "            '<a target=\"_blank\" href=https://colab.research.google.com/notebooks/data_table.ipynb>data table notebook</a>'\n",
              "            + ' to learn more about interactive tables.';\n",
              "          element.innerHTML = '';\n",
              "          dataTable['output_type'] = 'display_data';\n",
              "          await google.colab.output.renderOutput(dataTable, element);\n",
              "          const docLink = document.createElement('div');\n",
              "          docLink.innerHTML = docLinkHtml;\n",
              "          element.appendChild(docLink);\n",
              "        }\n",
              "      </script>\n",
              "    </div>\n",
              "  </div>\n",
              "  "
            ]
          },
          "metadata": {},
          "execution_count": 48
        }
      ]
    },
    {
      "cell_type": "code",
      "metadata": {
        "id": "aBJ44YJiElNn"
      },
      "source": [
        "#Label encoding the class label to convert in into integers\n",
        "from sklearn import preprocessing\n",
        "le = preprocessing.LabelEncoder()\n",
        "le.fit(data_combined['Class'])\n",
        "y_label_encoding = le.transform(data_combined['Class'])"
      ],
      "execution_count": 49,
      "outputs": []
    },
    {
      "cell_type": "code",
      "metadata": {
        "colab": {
          "base_uri": "https://localhost:8080/"
        },
        "id": "xEgl3scJpJaj",
        "outputId": "00d04786-7d13-4db9-aa34-7127cbb818a3"
      },
      "source": [
        "y_label_encoding"
      ],
      "execution_count": 50,
      "outputs": [
        {
          "output_type": "execute_result",
          "data": {
            "text/plain": [
              "array([ 9,  6,  9, ..., 16,  5, 17])"
            ]
          },
          "metadata": {},
          "execution_count": 50
        }
      ]
    },
    {
      "cell_type": "code",
      "metadata": {
        "id": "ZBByp78coYWU"
      },
      "source": [
        "#Performing one hot encoding\n",
        "y_label_encoding = tf.keras.utils.to_categorical(y_label_encoding)"
      ],
      "execution_count": 51,
      "outputs": []
    },
    {
      "cell_type": "code",
      "metadata": {
        "colab": {
          "base_uri": "https://localhost:8080/"
        },
        "id": "H_ZbQdR4pXXW",
        "outputId": "42950a80-ba47-4e7e-9729-c58368eb91a8"
      },
      "source": [
        "y_label_encoding.shape"
      ],
      "execution_count": 52,
      "outputs": [
        {
          "output_type": "execute_result",
          "data": {
            "text/plain": [
              "(18828, 20)"
            ]
          },
          "metadata": {},
          "execution_count": 52
        }
      ]
    },
    {
      "cell_type": "code",
      "metadata": {
        "id": "98mSlggdxZIV"
      },
      "source": [
        "# train test split\n",
        "X_train, X_test, y_train, y_test = train_test_split(data_combined['Combined_Data'], y_label_encoding, test_size=0.25, stratify=y_label_encoding, random_state=0)"
      ],
      "execution_count": 53,
      "outputs": []
    },
    {
      "cell_type": "code",
      "metadata": {
        "colab": {
          "base_uri": "https://localhost:8080/"
        },
        "id": "kY1SmewAx-Nn",
        "outputId": "c727c840-b1b5-42f6-e1cf-e3d23718e126"
      },
      "source": [
        "print(X_train.shape,X_test.shape)"
      ],
      "execution_count": 54,
      "outputs": [
        {
          "output_type": "stream",
          "name": "stdout",
          "text": [
            "(14121,) (4707,)\n"
          ]
        }
      ]
    },
    {
      "cell_type": "code",
      "metadata": {
        "colab": {
          "base_uri": "https://localhost:8080/"
        },
        "id": "-So3_JNnyXEm",
        "outputId": "e6bb6b2b-ad59-486d-db27-b46d7e12d24a"
      },
      "source": [
        "print(y_train.shape,y_test.shape)"
      ],
      "execution_count": 55,
      "outputs": [
        {
          "output_type": "stream",
          "name": "stdout",
          "text": [
            "(14121, 20) (4707, 20)\n"
          ]
        }
      ]
    },
    {
      "cell_type": "code",
      "metadata": {
        "colab": {
          "base_uri": "https://localhost:8080/"
        },
        "id": "nESPnyKcQkZP",
        "outputId": "53963659-2805-4f84-e5f3-ebbdadde8f0b"
      },
      "source": [
        "X_train.head()"
      ],
      "execution_count": 56,
      "outputs": [
        {
          "output_type": "execute_result",
          "data": {
            "text/plain": [
              "11327    know two people who have horrer stories about ...\n",
              "11909    good point there have not even been any recent...\n",
              "3465     all late computer supply fan has begun make lo...\n",
              "3781     article victoria milliron possibility for the ...\n",
              "353      description boeing study twostaged spaceplane ...\n",
              "Name: Combined_Data, dtype: object"
            ]
          },
          "metadata": {},
          "execution_count": 56
        }
      ]
    },
    {
      "cell_type": "code",
      "metadata": {
        "colab": {
          "base_uri": "https://localhost:8080/"
        },
        "id": "xFxymN9OQkQC",
        "outputId": "84ae19ed-9e45-423f-af5a-e422b8fb8eff"
      },
      "source": [
        "y_train"
      ],
      "execution_count": 57,
      "outputs": [
        {
          "output_type": "execute_result",
          "data": {
            "text/plain": [
              "array([[0., 0., 0., ..., 0., 0., 0.],\n",
              "       [0., 0., 0., ..., 0., 0., 0.],\n",
              "       [0., 0., 0., ..., 0., 0., 0.],\n",
              "       ...,\n",
              "       [0., 0., 0., ..., 0., 0., 0.],\n",
              "       [0., 0., 0., ..., 0., 0., 0.],\n",
              "       [0., 0., 1., ..., 0., 0., 0.]], dtype=float32)"
            ]
          },
          "metadata": {},
          "execution_count": 57
        }
      ]
    },
    {
      "cell_type": "code",
      "metadata": {
        "colab": {
          "base_uri": "https://localhost:8080/"
        },
        "id": "0Kh1DcjXQp1T",
        "outputId": "14e4c0f7-a8e1-4b5f-8525-a9e7bc4950d3"
      },
      "source": [
        "len(X_train)"
      ],
      "execution_count": null,
      "outputs": [
        {
          "output_type": "execute_result",
          "data": {
            "text/plain": [
              "14121"
            ]
          },
          "metadata": {},
          "execution_count": 71
        }
      ]
    },
    {
      "cell_type": "code",
      "metadata": {
        "colab": {
          "base_uri": "https://localhost:8080/"
        },
        "id": "Ma8PtmyF-nK1",
        "outputId": "eb45f947-b000-4764-d3d3-8f27862272db"
      },
      "source": [
        "X_train.shape"
      ],
      "execution_count": null,
      "outputs": [
        {
          "output_type": "execute_result",
          "data": {
            "text/plain": [
              "(14121,)"
            ]
          },
          "metadata": {},
          "execution_count": 72
        }
      ]
    },
    {
      "cell_type": "markdown",
      "metadata": {
        "id": "XrNAfBG_tSfp"
      },
      "source": [
        "<h3>2.3.6. Word Embedding</h3>"
      ]
    },
    {
      "cell_type": "code",
      "metadata": {
        "id": "LNa2E1cXbuHa"
      },
      "source": [
        "#Reference : https://machinelearningmastery.com/use-word-embedding-layers-deep-learning-keras/\n",
        "\n",
        "#Apply Tokenizer on Train Data\n",
        "#Removing _ from the default filters='!\"#$%&()*+,-./:;<=>?@[\\\\]^_`{|}~\\t\\n'\n",
        "t = Tokenizer(filters='!\"#$%&()*+,-./:;<=>?@[\\\\]^`{|}~\\t\\n')\n",
        "t.fit_on_texts(X_train)\n",
        "\n",
        "encoded_docs = t.texts_to_sequences(X_train)"
      ],
      "execution_count": null,
      "outputs": []
    },
    {
      "cell_type": "code",
      "metadata": {
        "colab": {
          "base_uri": "https://localhost:8080/"
        },
        "id": "MKqbRW_YP7Kg",
        "outputId": "9fbb997a-0153-4822-fea3-c1fb9fc70dff"
      },
      "source": [
        "max_length = max([len(item) for item in encoded_docs])\n",
        "max_length"
      ],
      "execution_count": null,
      "outputs": [
        {
          "output_type": "execute_result",
          "data": {
            "text/plain": [
              "9013"
            ]
          },
          "metadata": {},
          "execution_count": 74
        }
      ]
    },
    {
      "cell_type": "code",
      "metadata": {
        "id": "ryqFpGtKZix5"
      },
      "source": [
        "# pad documents to a max length of 9013 words\n",
        "# max([len(item) for item in encoded_docs]) = 9013\n",
        "padded_docs = pad_sequences(encoded_docs, maxlen=max_length, padding='post')"
      ],
      "execution_count": null,
      "outputs": []
    },
    {
      "cell_type": "code",
      "metadata": {
        "id": "D-YxhmmzfvrJ"
      },
      "source": [
        "#Reference : https://machinelearningmastery.com/use-word-embedding-layers-deep-learning-keras/\n",
        "\n",
        "\n",
        "encoded_docs_test = t.texts_to_sequences(X_test)\n",
        "\n",
        "padded_docs_test = pad_sequences(encoded_docs_test, maxlen=max_length, padding='post')"
      ],
      "execution_count": null,
      "outputs": []
    },
    {
      "cell_type": "markdown",
      "metadata": {
        "id": "NeOIrPpohNX_"
      },
      "source": [
        "**Here, we are post-padding to the maximum length so that no data is lost.**"
      ]
    },
    {
      "cell_type": "code",
      "metadata": {
        "colab": {
          "base_uri": "https://localhost:8080/"
        },
        "id": "qj3En0MIgGU5",
        "outputId": "f84f37cf-b0e3-4318-d6dd-a6124c598324"
      },
      "source": [
        "padded_docs.shape"
      ],
      "execution_count": null,
      "outputs": [
        {
          "output_type": "execute_result",
          "data": {
            "text/plain": [
              "(14121, 9013)"
            ]
          },
          "metadata": {},
          "execution_count": 77
        }
      ]
    },
    {
      "cell_type": "code",
      "metadata": {
        "colab": {
          "base_uri": "https://localhost:8080/"
        },
        "id": "_zTl0188RsE2",
        "outputId": "e9f05577-8d1e-43fb-f2be-13123bea38c2"
      },
      "source": [
        "padded_docs"
      ],
      "execution_count": null,
      "outputs": [
        {
          "output_type": "execute_result",
          "data": {
            "text/plain": [
              "array([[  19,    1, 2731, ...,    0,    0,    0],\n",
              "       [  27,    1,   55, ...,    0,    0,    0],\n",
              "       [   7, 2613,   11, ...,    0,    0,    0],\n",
              "       ...,\n",
              "       [1125, 1108,   73, ...,    0,    0,    0],\n",
              "       [  36, 3466,    1, ...,    0,    0,    0],\n",
              "       [  27,   27,   27, ...,    0,    0,    0]], dtype=int32)"
            ]
          },
          "metadata": {},
          "execution_count": 78
        }
      ]
    },
    {
      "cell_type": "code",
      "metadata": {
        "colab": {
          "base_uri": "https://localhost:8080/"
        },
        "id": "3t2dSAbmgDSU",
        "outputId": "040b0132-4ab2-47a0-a065-2686d11c0d06"
      },
      "source": [
        "padded_docs_test.shape"
      ],
      "execution_count": null,
      "outputs": [
        {
          "output_type": "execute_result",
          "data": {
            "text/plain": [
              "(4707, 9013)"
            ]
          },
          "metadata": {},
          "execution_count": 79
        }
      ]
    },
    {
      "cell_type": "code",
      "metadata": {
        "colab": {
          "base_uri": "https://localhost:8080/"
        },
        "id": "vm2by9tggsnc",
        "outputId": "616173e5-002d-49ce-93d5-48f7c12d1311"
      },
      "source": [
        "len(encoded_docs[0])"
      ],
      "execution_count": null,
      "outputs": [
        {
          "output_type": "execute_result",
          "data": {
            "text/plain": [
              "120"
            ]
          },
          "metadata": {},
          "execution_count": 80
        }
      ]
    },
    {
      "cell_type": "code",
      "metadata": {
        "colab": {
          "base_uri": "https://localhost:8080/"
        },
        "id": "Az-KTxnrgXr-",
        "outputId": "d4f7a37c-382e-4c97-87ba-e2a56f04d80d"
      },
      "source": [
        "len(padded_docs[0])"
      ],
      "execution_count": null,
      "outputs": [
        {
          "output_type": "execute_result",
          "data": {
            "text/plain": [
              "9013"
            ]
          },
          "metadata": {},
          "execution_count": 81
        }
      ]
    },
    {
      "cell_type": "markdown",
      "metadata": {
        "id": "4vUIEHrhiiPG"
      },
      "source": [
        "**Here, we can see that the dataset is padded from 120 to the max length**"
      ]
    },
    {
      "cell_type": "code",
      "metadata": {
        "id": "Vq8K-LMomDjd"
      },
      "source": [
        "vocab_size = len(t.word_index) + 1"
      ],
      "execution_count": null,
      "outputs": []
    },
    {
      "cell_type": "code",
      "metadata": {
        "colab": {
          "base_uri": "https://localhost:8080/"
        },
        "id": "0YKelhkamFJx",
        "outputId": "e6dee13e-d45b-4bb6-ff59-10262b79fe45"
      },
      "source": [
        "vocab_size"
      ],
      "execution_count": null,
      "outputs": [
        {
          "output_type": "execute_result",
          "data": {
            "text/plain": [
              "92900"
            ]
          },
          "metadata": {},
          "execution_count": 83
        }
      ]
    },
    {
      "cell_type": "markdown",
      "metadata": {
        "id": "Nbyf5tzVm0QG"
      },
      "source": [
        "The total number of words in the document are 92900"
      ]
    },
    {
      "cell_type": "markdown",
      "metadata": {
        "id": "IVzI3ygKpoH5"
      },
      "source": [
        "**Loading the Glove Vectors**"
      ]
    },
    {
      "cell_type": "code",
      "metadata": {
        "id": "H1fXePXHXKbv"
      },
      "source": [
        "#please use below code to load glove vectors \n",
        "with open('glove_vectors', 'rb') as f:\n",
        "    model = pickle.load(f)\n",
        "    glove_words =  set(model.keys())\n",
        "    "
      ],
      "execution_count": null,
      "outputs": []
    },
    {
      "cell_type": "code",
      "metadata": {
        "id": "E5kFEUzYoKH3"
      },
      "source": [
        "#Reference : https://machinelearningmastery.com/use-word-embedding-layers-deep-learning-keras/\n",
        "#Let's create an embedding matrix where we will store the corresponding glove vectors\n",
        "\n",
        "words_not_found_in_glove = []\n",
        "\n",
        "embedding_matrix = np.zeros((vocab_size, 300)) #300 since the glove vectors are of length 300\n",
        "\n",
        "#Create the Embedding Matrix\n",
        "for word, i in t.word_index.items():\n",
        "  if (word in glove_words):\n",
        "\t  embedding_vector = model[word]\n",
        "\t  if embedding_vector is not None:\n",
        "\t\t  embedding_matrix[i] = embedding_vector\n",
        "  else:\n",
        "    words_not_found_in_glove.append(word)"
      ],
      "execution_count": null,
      "outputs": []
    },
    {
      "cell_type": "code",
      "metadata": {
        "colab": {
          "base_uri": "https://localhost:8080/"
        },
        "id": "7xrWt18TqEhA",
        "outputId": "a8e43464-96b0-46a4-da19-134efd97e476"
      },
      "source": [
        "len(words_not_found_in_glove)"
      ],
      "execution_count": null,
      "outputs": [
        {
          "output_type": "execute_result",
          "data": {
            "text/plain": [
              "65072"
            ]
          },
          "metadata": {},
          "execution_count": 86
        }
      ]
    },
    {
      "cell_type": "markdown",
      "metadata": {
        "id": "gxWQ5vTOqVUl"
      },
      "source": [
        "There were around 65072 words from the total words of 92900 whose vector representation was not found in Glove Vectors and will be set to all zeroes"
      ]
    },
    {
      "cell_type": "code",
      "metadata": {
        "colab": {
          "base_uri": "https://localhost:8080/"
        },
        "id": "jfoH9sDriLGc",
        "outputId": "2c4f9313-ff80-48f1-ce36-ffae37ffab6b"
      },
      "source": [
        "embedding_matrix.shape"
      ],
      "execution_count": null,
      "outputs": [
        {
          "output_type": "execute_result",
          "data": {
            "text/plain": [
              "(92900, 300)"
            ]
          },
          "metadata": {},
          "execution_count": 87
        }
      ]
    },
    {
      "cell_type": "markdown",
      "metadata": {
        "id": "PenWDLOsqqfo"
      },
      "source": [
        "We can see that the shape of the matrix is (92900, 300) as the number of unique words is 92900 and vector representation length is 300"
      ]
    },
    {
      "cell_type": "markdown",
      "metadata": {
        "id": "B_jPCZcBFevU"
      },
      "source": [
        "<h3>2.3.7. Creating the First Model (Using 1D convolutions with word embeddings)</h3>"
      ]
    },
    {
      "cell_type": "markdown",
      "metadata": {
        "id": "UvhDTuMVS79S"
      },
      "source": [
        "**Implementing Callback**"
      ]
    },
    {
      "cell_type": "code",
      "metadata": {
        "id": "-YD_CDITTX8a"
      },
      "source": [
        "from tensorflow.keras.callbacks import ModelCheckpoint\n",
        "from tensorflow.keras.callbacks import LearningRateScheduler\n",
        "from tensorflow.keras.callbacks import EarlyStopping\n",
        "from tensorflow.keras.callbacks import ReduceLROnPlateau\n",
        "from tensorflow.keras.callbacks import LearningRateScheduler"
      ],
      "execution_count": null,
      "outputs": []
    },
    {
      "cell_type": "code",
      "metadata": {
        "id": "tW2wP_k-TMO2"
      },
      "source": [
        "#Stop the model early after epoch when val_accuracy hasn't improved for 2 epochs\n",
        "earlystop = EarlyStopping(monitor='val_accuracy', patience=2, verbose=1)"
      ],
      "execution_count": null,
      "outputs": []
    },
    {
      "cell_type": "code",
      "metadata": {
        "id": "UAdVw83I90dJ"
      },
      "source": [
        "#Create the directory\n",
        "!mkdir model_save"
      ],
      "execution_count": null,
      "outputs": []
    },
    {
      "cell_type": "code",
      "metadata": {
        "id": "yT3AZ17c9sLP"
      },
      "source": [
        "#Setting the filepath where we will store the models\n",
        "filepath=\"/content/model_save/weights_Model_1_best.hdf5\"\n",
        "\n",
        "#Creating Model Checkout when val_accuracy has not improved \n",
        "checkpoint = ModelCheckpoint(filepath=filepath, monitor='val_accuracy',  verbose=1, save_best_only=True, save_weights_only=True, mode='auto')"
      ],
      "execution_count": null,
      "outputs": []
    },
    {
      "cell_type": "code",
      "metadata": {
        "colab": {
          "base_uri": "https://localhost:8080/"
        },
        "id": "I2dAEQdW-laU",
        "outputId": "9d318c39-3949-4f90-bd14-091cff12cb7c"
      },
      "source": [
        "model_1_log_dir=\"/content/model_save/Model_1/\" + datetime.datetime.now().strftime(\"%Y%m%d-%H%M%S\")\n",
        "model_2_log_dir=\"/content/model_save/Model_2/\" + datetime.datetime.now().strftime(\"%Y%m%d-%H%M%S\")\n",
        "\n",
        "tensorboard_callback_1 = tf.keras.callbacks.TensorBoard(log_dir=model_1_log_dir,histogram_freq=1, write_graph=True,write_grads=True)\n",
        "tensorboard_callback_2 = tf.keras.callbacks.TensorBoard(log_dir=model_2_log_dir,histogram_freq=1, write_graph=True,write_grads=True)"
      ],
      "execution_count": null,
      "outputs": [
        {
          "output_type": "stream",
          "name": "stdout",
          "text": [
            "WARNING:tensorflow:`write_grads` will be ignored in TensorFlow 2.0 for the `TensorBoard` Callback.\n",
            "WARNING:tensorflow:`write_grads` will be ignored in TensorFlow 2.0 for the `TensorBoard` Callback.\n"
          ]
        }
      ]
    },
    {
      "cell_type": "code",
      "metadata": {
        "id": "jLPUfkVeUwk1"
      },
      "source": [
        "#Defining that we will stop training when loss/any weight is NAN\n",
        "class TerminateNaN(tf.keras.callbacks.Callback):  \n",
        "    def on_epoch_end(self, epoch, logs={}):\n",
        "        loss = logs.get('loss')\n",
        "        if loss is not None:\n",
        "            if np.isnan(loss) or np.isinf(loss):\n",
        "                print(\"Invalid loss and terminated at epoch {}\".format(epoch))\n",
        "                self.model.stop_training = True\n",
        "        model_weights = self.model.get_weights()\n",
        "        if model_weights is not None:\n",
        "          if np.any([np.any(np.isnan(x)) for x in model_weights]):\n",
        "              print(\"Invalid weight and terminated at epoch {}\".format(epoch))\n",
        "              self.model.stop_training = True"
      ],
      "execution_count": null,
      "outputs": []
    },
    {
      "cell_type": "code",
      "metadata": {
        "id": "GzXWTi--UskT"
      },
      "source": [
        "#Creating an object of TerminateNaN class\n",
        "terminateNAN = TerminateNaN()"
      ],
      "execution_count": null,
      "outputs": []
    },
    {
      "cell_type": "code",
      "metadata": {
        "id": "FJpxtM7WU4vg"
      },
      "source": [
        "#Since, we need to reduce the learning rate by 10% when the val_accuracy hasn't improved.\n",
        "#The factor should be 0.9 as we multiply learning_rate by the factor\n",
        "#factor: factor by which the learning rate will be reduced. new_lr = lr * factor. \n",
        "reduce_lr = ReduceLROnPlateau(monitor='val_accuracy', factor=0.9, patience=1, verbose=1)"
      ],
      "execution_count": null,
      "outputs": []
    },
    {
      "cell_type": "code",
      "metadata": {
        "id": "SZKCUeWTVytH"
      },
      "source": [
        "#Define custom Callback printing the Micro F1 Score and ROC_AOC_Score after every epoch\n",
        "class LossHistory(tf.keras.callbacks.Callback):  \n",
        "    def __init__(self, model, X_train, Y_train, X_test, Y_test):\n",
        "      super().__init__()\n",
        "      self.X_train = X_train\n",
        "      self.Y_train = Y_train\n",
        "      self.X_test = X_test\n",
        "      self.Y_test = Y_test\n",
        "      self.model = model\n",
        "\n",
        "    def on_epoch_end(self, epoch, logs={}):\n",
        "        train_f1_score = f1_score(self.Y_train,(self.model.predict(self.X_train) > 0.5).astype(\"int32\"), average='micro')\n",
        "        val_f1_score = f1_score(self.Y_test,(self.model.predict(self.X_test) > 0.5).astype(\"int32\"), average='micro')\n",
        "        \n",
        "        print(\"Micro F1 Score : {} \\t\\t Validation Micro F1 Score : {}\".format(train_f1_score, val_f1_score))"
      ],
      "execution_count": null,
      "outputs": []
    },
    {
      "cell_type": "code",
      "metadata": {
        "colab": {
          "base_uri": "https://localhost:8080/",
          "height": 1000
        },
        "id": "sYLRHROEFgK7",
        "outputId": "472adf31-fb13-4c2f-8c5b-c7eea50feec3"
      },
      "source": [
        "# first input model\n",
        "from tensorflow.keras.models import Model\n",
        "from tensorflow.keras.layers import Input\n",
        "from tensorflow.keras.layers import Dense\n",
        "from tensorflow.keras.layers import Flatten\n",
        "from tensorflow.keras.layers import Conv1D\n",
        "from tensorflow.keras.layers import MaxPooling1D\n",
        "from tensorflow.keras.layers import Dropout\n",
        "from tensorflow.keras.layers import concatenate\n",
        "from tensorflow.keras.layers import Embedding\n",
        "from tensorflow.keras.utils import plot_model\n",
        "\n",
        "input = Input(shape=(max_length,))\n",
        "\n",
        "#embeddings_initializer= tf.keras.initializers.HeUniform(seed=0),\n",
        "embedding = Embedding(vocab_size, 300, weights=[embedding_matrix], input_length=max_length, trainable=False)(input)\n",
        "\n",
        "conv1D_m_filter = Conv1D(4, kernel_size=4, activation='relu', kernel_initializer=tf.keras.initializers.HeUniform(seed=0))(embedding)\n",
        "conv1D_n_filter = Conv1D(8, kernel_size=4, activation='relu', kernel_initializer=tf.keras.initializers.HeUniform(seed=0))(embedding)\n",
        "conv1D_o_filter = Conv1D(16, kernel_size=4, activation='relu', kernel_initializer=tf.keras.initializers.HeUniform(seed=0))(embedding)\n",
        "\n",
        "concatenate_layer_1 = concatenate([conv1D_m_filter, conv1D_n_filter, conv1D_o_filter])\n",
        "\n",
        "max_pool_layer_1 = MaxPooling1D()(concatenate_layer_1)\n",
        "\n",
        "conv1D_i_filter = Conv1D(4, kernel_size=4, activation='relu', kernel_initializer=tf.keras.initializers.HeUniform(seed=0))(max_pool_layer_1)\n",
        "conv1D_j_filter = Conv1D(8, kernel_size=4, activation='relu', kernel_initializer=tf.keras.initializers.HeUniform(seed=0))(max_pool_layer_1)\n",
        "conv1D_k_filter = Conv1D(16, kernel_size=4, activation='relu', kernel_initializer=tf.keras.initializers.HeUniform(seed=0))(max_pool_layer_1)\n",
        "\n",
        "concatenate_layer_2 = concatenate([conv1D_i_filter, conv1D_j_filter, conv1D_k_filter])\n",
        "\n",
        "max_pool_layer_2 = MaxPooling1D()(concatenate_layer_2)\n",
        "\n",
        "conv1D_p_filter = Conv1D(16, kernel_size=4, activation='relu', kernel_initializer=tf.keras.initializers.HeUniform(seed=0))(max_pool_layer_2)\n",
        "\n",
        "flat1 = Flatten()(conv1D_p_filter)\n",
        "\n",
        "droupout = Dropout(0.2)(flat1)\n",
        "\n",
        "dense = Dense(20, activation='relu', kernel_initializer=tf.keras.initializers.HeUniform(seed=0))(droupout)\n",
        "\n",
        "output = Dense(20, activation='softmax', kernel_initializer='glorot_uniform')(dense)\n",
        "\n",
        "model = Model(inputs=input, outputs=output)\n",
        "\n",
        "# summarize layers\n",
        "print(model.summary())\n",
        "\n",
        "# plot graph\n",
        "plot_model(model, to_file='convolutional_neural_network.png')\n",
        "\n",
        "\n",
        "#model.compile(optimizer='adam', loss='categorical_crossentropy', metrics=['accuracy'])\n",
        "\n"
      ],
      "execution_count": null,
      "outputs": [
        {
          "output_type": "stream",
          "name": "stdout",
          "text": [
            "Model: \"model\"\n",
            "__________________________________________________________________________________________________\n",
            " Layer (type)                   Output Shape         Param #     Connected to                     \n",
            "==================================================================================================\n",
            " input_1 (InputLayer)           [(None, 9013)]       0           []                               \n",
            "                                                                                                  \n",
            " embedding (Embedding)          (None, 9013, 300)    27870000    ['input_1[0][0]']                \n",
            "                                                                                                  \n",
            " conv1d (Conv1D)                (None, 9010, 4)      4804        ['embedding[0][0]']              \n",
            "                                                                                                  \n",
            " conv1d_1 (Conv1D)              (None, 9010, 8)      9608        ['embedding[0][0]']              \n",
            "                                                                                                  \n",
            " conv1d_2 (Conv1D)              (None, 9010, 16)     19216       ['embedding[0][0]']              \n",
            "                                                                                                  \n",
            " concatenate (Concatenate)      (None, 9010, 28)     0           ['conv1d[0][0]',                 \n",
            "                                                                  'conv1d_1[0][0]',               \n",
            "                                                                  'conv1d_2[0][0]']               \n",
            "                                                                                                  \n",
            " max_pooling1d (MaxPooling1D)   (None, 4505, 28)     0           ['concatenate[0][0]']            \n",
            "                                                                                                  \n",
            " conv1d_3 (Conv1D)              (None, 4502, 4)      452         ['max_pooling1d[0][0]']          \n",
            "                                                                                                  \n",
            " conv1d_4 (Conv1D)              (None, 4502, 8)      904         ['max_pooling1d[0][0]']          \n",
            "                                                                                                  \n",
            " conv1d_5 (Conv1D)              (None, 4502, 16)     1808        ['max_pooling1d[0][0]']          \n",
            "                                                                                                  \n",
            " concatenate_1 (Concatenate)    (None, 4502, 28)     0           ['conv1d_3[0][0]',               \n",
            "                                                                  'conv1d_4[0][0]',               \n",
            "                                                                  'conv1d_5[0][0]']               \n",
            "                                                                                                  \n",
            " max_pooling1d_1 (MaxPooling1D)  (None, 2251, 28)    0           ['concatenate_1[0][0]']          \n",
            "                                                                                                  \n",
            " conv1d_6 (Conv1D)              (None, 2248, 16)     1808        ['max_pooling1d_1[0][0]']        \n",
            "                                                                                                  \n",
            " flatten (Flatten)              (None, 35968)        0           ['conv1d_6[0][0]']               \n",
            "                                                                                                  \n",
            " dropout (Dropout)              (None, 35968)        0           ['flatten[0][0]']                \n",
            "                                                                                                  \n",
            " dense (Dense)                  (None, 20)           719380      ['dropout[0][0]']                \n",
            "                                                                                                  \n",
            " dense_1 (Dense)                (None, 20)           420         ['dense[0][0]']                  \n",
            "                                                                                                  \n",
            "==================================================================================================\n",
            "Total params: 28,628,400\n",
            "Trainable params: 758,400\n",
            "Non-trainable params: 27,870,000\n",
            "__________________________________________________________________________________________________\n",
            "None\n"
          ]
        },
        {
          "output_type": "execute_result",
          "data": {
            "image/png": "[encoded data removed]",
            "text/plain": [
              "<IPython.core.display.Image object>"
            ]
          },
          "metadata": {},
          "execution_count": 97
        }
      ]
    },
    {
      "cell_type": "code",
      "metadata": {
        "colab": {
          "base_uri": "https://localhost:8080/"
        },
        "id": "XDYMsTlr_7Ma",
        "outputId": "32185c29-b0f2-43fa-caf0-8ac129ba7f47"
      },
      "source": [
        "padded_docs"
      ],
      "execution_count": null,
      "outputs": [
        {
          "output_type": "execute_result",
          "data": {
            "text/plain": [
              "array([[  19,    1, 2731, ...,    0,    0,    0],\n",
              "       [  27,    1,   55, ...,    0,    0,    0],\n",
              "       [   7, 2613,   11, ...,    0,    0,    0],\n",
              "       ...,\n",
              "       [1125, 1108,   73, ...,    0,    0,    0],\n",
              "       [  36, 3466,    1, ...,    0,    0,    0],\n",
              "       [  27,   27,   27, ...,    0,    0,    0]], dtype=int32)"
            ]
          },
          "metadata": {},
          "execution_count": 98
        }
      ]
    },
    {
      "cell_type": "code",
      "metadata": {
        "colab": {
          "base_uri": "https://localhost:8080/"
        },
        "id": "OTrpeg0q_8jk",
        "outputId": "1d7876cd-28cb-4007-e595-8fda2bf88c00"
      },
      "source": [
        "padded_docs.shape"
      ],
      "execution_count": null,
      "outputs": [
        {
          "output_type": "execute_result",
          "data": {
            "text/plain": [
              "(14121, 9013)"
            ]
          },
          "metadata": {},
          "execution_count": 99
        }
      ]
    },
    {
      "cell_type": "code",
      "metadata": {
        "colab": {
          "base_uri": "https://localhost:8080/"
        },
        "id": "yMY2208dnSbW",
        "outputId": "3ba05035-f32f-4634-c91b-479d96fe29e1"
      },
      "source": [
        "padded_docs_test.shape"
      ],
      "execution_count": null,
      "outputs": [
        {
          "output_type": "execute_result",
          "data": {
            "text/plain": [
              "(4707, 9013)"
            ]
          },
          "metadata": {},
          "execution_count": 100
        }
      ]
    },
    {
      "cell_type": "code",
      "metadata": {
        "colab": {
          "base_uri": "https://localhost:8080/"
        },
        "id": "h8hiNBP5ALbK",
        "outputId": "abfe394b-d01a-4f70-94fc-7cb9b8b97ed6"
      },
      "source": [
        "y_test"
      ],
      "execution_count": null,
      "outputs": [
        {
          "output_type": "execute_result",
          "data": {
            "text/plain": [
              "array([[0., 0., 0., ..., 0., 0., 1.],\n",
              "       [0., 0., 0., ..., 0., 0., 0.],\n",
              "       [0., 0., 0., ..., 0., 0., 0.],\n",
              "       ...,\n",
              "       [0., 0., 0., ..., 0., 0., 0.],\n",
              "       [0., 0., 0., ..., 0., 0., 0.],\n",
              "       [1., 0., 0., ..., 0., 0., 0.]], dtype=float32)"
            ]
          },
          "metadata": {},
          "execution_count": 101
        }
      ]
    },
    {
      "cell_type": "code",
      "metadata": {
        "id": "OnQm8M_VWl6B"
      },
      "source": [
        "history_own=LossHistory(model, padded_docs, y_train, padded_docs_test, y_test)"
      ],
      "execution_count": null,
      "outputs": []
    },
    {
      "cell_type": "code",
      "metadata": {
        "colab": {
          "base_uri": "https://localhost:8080/"
        },
        "id": "Dysg4xGnKqzk",
        "outputId": "25239dcf-1ea4-40af-993d-0fff82814f6e"
      },
      "source": [
        "model.compile(optimizer='adam', loss='categorical_crossentropy', metrics=['accuracy'])\n",
        "model.fit(padded_docs, y_train, epochs=25, verbose=2,\n",
        "          validation_data=(padded_docs_test, y_test),\n",
        "          callbacks = [earlystop,reduce_lr,terminateNAN,checkpoint,tensorboard_callback_1,history_own]\n",
        "          )"
      ],
      "execution_count": null,
      "outputs": [
        {
          "output_type": "stream",
          "name": "stdout",
          "text": [
            "Epoch 1/25\n",
            "\n",
            "Epoch 00001: val_accuracy improved from -inf to 0.39409, saving model to /content/model_save/weights_Model_1_best.hdf5\n",
            "Micro F1 Score : 0.26777142857142855 \t\t Validation Micro F1 Score : 0.24226715050976327\n",
            "442/442 - 38s - loss: 2.3171 - accuracy: 0.2336 - val_loss: 1.6959 - val_accuracy: 0.3941 - lr: 0.0010 - 38s/epoch - 86ms/step\n",
            "Epoch 2/25\n",
            "\n",
            "Epoch 00002: val_accuracy improved from 0.39409 to 0.59061, saving model to /content/model_save/weights_Model_1_best.hdf5\n",
            "Micro F1 Score : 0.5976334085363046 \t\t Validation Micro F1 Score : 0.5329593267882188\n",
            "442/442 - 38s - loss: 1.3760 - accuracy: 0.5252 - val_loss: 1.2288 - val_accuracy: 0.5906 - lr: 0.0010 - 38s/epoch - 85ms/step\n",
            "Epoch 3/25\n",
            "\n",
            "Epoch 00003: val_accuracy improved from 0.59061 to 0.64563, saving model to /content/model_save/weights_Model_1_best.hdf5\n",
            "Micro F1 Score : 0.7055204238591694 \t\t Validation Micro F1 Score : 0.6244484817025694\n",
            "442/442 - 37s - loss: 1.0354 - accuracy: 0.6485 - val_loss: 1.0857 - val_accuracy: 0.6456 - lr: 0.0010 - 37s/epoch - 83ms/step\n",
            "Epoch 4/25\n",
            "\n",
            "Epoch 00004: val_accuracy improved from 0.64563 to 0.65222, saving model to /content/model_save/weights_Model_1_best.hdf5\n",
            "Micro F1 Score : 0.7414358301917718 \t\t Validation Micro F1 Score : 0.6403903903903903\n",
            "442/442 - 37s - loss: 0.8595 - accuracy: 0.7119 - val_loss: 1.0737 - val_accuracy: 0.6522 - lr: 0.0010 - 37s/epoch - 84ms/step\n",
            "Epoch 5/25\n",
            "\n",
            "Epoch 00005: val_accuracy improved from 0.65222 to 0.67219, saving model to /content/model_save/weights_Model_1_best.hdf5\n",
            "Micro F1 Score : 0.7964134176607158 \t\t Validation Micro F1 Score : 0.6638912697440921\n",
            "442/442 - 37s - loss: 0.7288 - accuracy: 0.7515 - val_loss: 1.0439 - val_accuracy: 0.6722 - lr: 0.0010 - 37s/epoch - 84ms/step\n",
            "Epoch 6/25\n",
            "\n",
            "Epoch 00006: val_accuracy improved from 0.67219 to 0.67580, saving model to /content/model_save/weights_Model_1_best.hdf5\n",
            "Micro F1 Score : 0.8304827210036233 \t\t Validation Micro F1 Score : 0.677310924369748\n",
            "442/442 - 37s - loss: 0.6297 - accuracy: 0.7865 - val_loss: 1.0521 - val_accuracy: 0.6758 - lr: 0.0010 - 37s/epoch - 84ms/step\n",
            "Epoch 7/25\n",
            "\n",
            "Epoch 00007: val_accuracy improved from 0.67580 to 0.68069, saving model to /content/model_save/weights_Model_1_best.hdf5\n",
            "Micro F1 Score : 0.8515794688107304 \t\t Validation Micro F1 Score : 0.6834347215722976\n",
            "442/442 - 40s - loss: 0.5432 - accuracy: 0.8137 - val_loss: 1.1393 - val_accuracy: 0.6807 - lr: 0.0010 - 40s/epoch - 90ms/step\n",
            "Epoch 8/25\n",
            "\n",
            "Epoch 00008: val_accuracy improved from 0.68069 to 0.68961, saving model to /content/model_save/weights_Model_1_best.hdf5\n",
            "Micro F1 Score : 0.875740976964058 \t\t Validation Micro F1 Score : 0.6956420955030134\n",
            "442/442 - 40s - loss: 0.4745 - accuracy: 0.8367 - val_loss: 1.1610 - val_accuracy: 0.6896 - lr: 0.0010 - 40s/epoch - 90ms/step\n",
            "Epoch 9/25\n",
            "\n",
            "Epoch 00009: val_accuracy improved from 0.68961 to 0.69705, saving model to /content/model_save/weights_Model_1_best.hdf5\n",
            "Micro F1 Score : 0.9105890212671195 \t\t Validation Micro F1 Score : 0.6976744186046511\n",
            "442/442 - 37s - loss: 0.4254 - accuracy: 0.8550 - val_loss: 1.1040 - val_accuracy: 0.6970 - lr: 0.0010 - 37s/epoch - 83ms/step\n",
            "Epoch 10/25\n",
            "\n",
            "Epoch 00010: ReduceLROnPlateau reducing learning rate to 0.0009000000427477062.\n",
            "\n",
            "Epoch 00010: val_accuracy did not improve from 0.69705\n",
            "Micro F1 Score : 0.9029979768254552 \t\t Validation Micro F1 Score : 0.7017980323419654\n",
            "442/442 - 37s - loss: 0.3669 - accuracy: 0.8744 - val_loss: 1.2238 - val_accuracy: 0.6932 - lr: 0.0010 - 37s/epoch - 83ms/step\n",
            "Epoch 11/25\n",
            "\n",
            "Epoch 00011: val_accuracy improved from 0.69705 to 0.70682, saving model to /content/model_save/weights_Model_1_best.hdf5\n",
            "Micro F1 Score : 0.9384531787719617 \t\t Validation Micro F1 Score : 0.7132459970887919\n",
            "442/442 - 37s - loss: 0.3300 - accuracy: 0.8880 - val_loss: 1.2625 - val_accuracy: 0.7068 - lr: 9.0000e-04 - 37s/epoch - 84ms/step\n",
            "Epoch 12/25\n",
            "\n",
            "Epoch 00012: ReduceLROnPlateau reducing learning rate to 0.0008100000384729356.\n",
            "\n",
            "Epoch 00012: val_accuracy did not improve from 0.70682\n",
            "Micro F1 Score : 0.9351488743645606 \t\t Validation Micro F1 Score : 0.7031319910514541\n",
            "442/442 - 37s - loss: 0.2819 - accuracy: 0.9055 - val_loss: 1.3162 - val_accuracy: 0.6958 - lr: 9.0000e-04 - 37s/epoch - 83ms/step\n",
            "Epoch 13/25\n",
            "\n",
            "Epoch 00013: val_accuracy improved from 0.70682 to 0.70873, saving model to /content/model_save/weights_Model_1_best.hdf5\n",
            "Micro F1 Score : 0.9563998418460875 \t\t Validation Micro F1 Score : 0.7150763781270755\n",
            "442/442 - 37s - loss: 0.2492 - accuracy: 0.9176 - val_loss: 1.3868 - val_accuracy: 0.7087 - lr: 8.1000e-04 - 37s/epoch - 84ms/step\n",
            "Epoch 14/25\n",
            "\n",
            "Epoch 00014: val_accuracy improved from 0.70873 to 0.71256, saving model to /content/model_save/weights_Model_1_best.hdf5\n",
            "Micro F1 Score : 0.9643511039310716 \t\t Validation Micro F1 Score : 0.7188296575418375\n",
            "442/442 - 37s - loss: 0.2288 - accuracy: 0.9242 - val_loss: 1.3521 - val_accuracy: 0.7126 - lr: 8.1000e-04 - 37s/epoch - 84ms/step\n",
            "Epoch 15/25\n",
            "\n",
            "Epoch 00015: ReduceLROnPlateau reducing learning rate to 0.0007290000503417104.\n",
            "\n",
            "Epoch 00015: val_accuracy did not improve from 0.71256\n",
            "Micro F1 Score : 0.9721805048988057 \t\t Validation Micro F1 Score : 0.7208177621455265\n",
            "442/442 - 37s - loss: 0.1954 - accuracy: 0.9363 - val_loss: 1.4262 - val_accuracy: 0.7117 - lr: 8.1000e-04 - 37s/epoch - 83ms/step\n",
            "Epoch 16/25\n",
            "\n",
            "Epoch 00016: val_accuracy improved from 0.71256 to 0.71680, saving model to /content/model_save/weights_Model_1_best.hdf5\n",
            "Micro F1 Score : 0.9797929310960373 \t\t Validation Micro F1 Score : 0.7249424909628654\n",
            "442/442 - 37s - loss: 0.1768 - accuracy: 0.9413 - val_loss: 1.4113 - val_accuracy: 0.7168 - lr: 7.2900e-04 - 37s/epoch - 84ms/step\n",
            "Epoch 17/25\n",
            "\n",
            "Epoch 00017: ReduceLROnPlateau reducing learning rate to 0.0006561000715009868.\n",
            "\n",
            "Epoch 00017: val_accuracy did not improve from 0.71680\n",
            "Micro F1 Score : 0.9568703246358137 \t\t Validation Micro F1 Score : 0.7018892794376099\n",
            "442/442 - 39s - loss: 0.1595 - accuracy: 0.9475 - val_loss: 1.5441 - val_accuracy: 0.6981 - lr: 7.2900e-04 - 39s/epoch - 89ms/step\n",
            "Epoch 18/25\n",
            "\n",
            "Epoch 00018: ReduceLROnPlateau reducing learning rate to 0.0005904900433961303.\n",
            "\n",
            "Epoch 00018: val_accuracy did not improve from 0.71680\n",
            "Micro F1 Score : 0.9837991810575041 \t\t Validation Micro F1 Score : 0.719930336344835\n",
            "442/442 - 40s - loss: 0.1443 - accuracy: 0.9535 - val_loss: 1.5596 - val_accuracy: 0.7145 - lr: 6.5610e-04 - 40s/epoch - 90ms/step\n",
            "Epoch 00018: early stopping\n"
          ]
        },
        {
          "output_type": "execute_result",
          "data": {
            "text/plain": [
              "<keras.callbacks.History at 0x7f7ab510d950>"
            ]
          },
          "metadata": {},
          "execution_count": 104
        }
      ]
    },
    {
      "cell_type": "markdown",
      "metadata": {
        "id": "nbDlJgEX-I-T"
      },
      "source": [
        "**As we can see that in only 18 epochs, the validation accuracy is 71% whereas the accuracy on the train data is 95%. <br> Also, the train loss is 0.14 while the validation loss is 1.55. <br> The Micro F1 score on train data is 0.98 while on Validation Data is 0.71. <br>\n",
        "Seeing the Micro F1 Score, we can safely say that the models don't overfit.**"
      ]
    },
    {
      "cell_type": "code",
      "metadata": {
        "id": "ev_Jw1_hA5tR"
      },
      "source": [
        "%load_ext tensorboard"
      ],
      "execution_count": null,
      "outputs": []
    },
    {
      "cell_type": "code",
      "metadata": {
        "id": "m4lYqtNY_T26"
      },
      "source": [
        "%tensorboard --logdir /content/model_save/Model_1/"
      ],
      "execution_count": null,
      "outputs": []
    },
    {
      "cell_type": "markdown",
      "metadata": {
        "id": "AWBAy6kfBS2D"
      },
      "source": [
        "**Below is the accuracy plot for train and validation data**"
      ]
    },
    {
      "cell_type": "markdown",
      "metadata": {
        "id": "aO76Gp9rBJoM"
      },
      "source": [
        "![image.png](data:image/png;base64,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)"
      ]
    },
    {
      "cell_type": "markdown",
      "metadata": {
        "id": "2Qr1i6yCBQzc"
      },
      "source": [
        "**Below is the categorical cross-entropy loss plot for train and validation data**"
      ]
    },
    {
      "cell_type": "markdown",
      "metadata": {
        "id": "MZW2t_BLBy3C"
      },
      "source": [
        "![image.png](data:image/png;base64,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)"
      ]
    },
    {
      "cell_type": "markdown",
      "metadata": {
        "id": "Rmf33fvWeH5b"
      },
      "source": [
        "<h3>2.3.8. Second Model Using 1D convolutions with Character Embedding<h3>"
      ]
    },
    {
      "cell_type": "code",
      "metadata": {
        "id": "KZrB2VD-tZNP"
      },
      "source": [
        "#Reference: https://towardsdatascience.com/character-level-cnn-with-keras-50391c3adf33\n",
        "# construct a new vocabulary\n",
        "alphabet = \"abcdefghijklmnopqrstuvwxyz_\"\n",
        "char_dict = {}\n",
        "for i, char in enumerate(alphabet):\n",
        "    char_dict[char] = i + 1"
      ],
      "execution_count": null,
      "outputs": []
    },
    {
      "cell_type": "code",
      "metadata": {
        "id": "TDxpkF2OGSq9"
      },
      "source": [
        "# Apply Tokenizer on Train data (char_level is set to true)\n",
        "#Removing _ from the default filters='!\"#$%&()*+,-./:;<=>?@[\\\\]^_`{|}~\\t\\n'\n",
        "tk_char = Tokenizer(num_words=None, char_level=True, filters='!\"#$%&()*+,-./:;<=>?@[\\\\]^`{|}~\\t\\n')\n",
        "tk_char.fit_on_texts(X_train)"
      ],
      "execution_count": null,
      "outputs": []
    },
    {
      "cell_type": "code",
      "metadata": {
        "id": "ta92kCMHLv3j"
      },
      "source": [
        "# Use char_dict to replace the tk.word_index\n",
        "tk_char.word_index = char_dict.copy()"
      ],
      "execution_count": null,
      "outputs": []
    },
    {
      "cell_type": "code",
      "metadata": {
        "id": "o2vUIb_6Hvtd"
      },
      "source": [
        "encoded_docs_char_embedding = tk_char.texts_to_sequences(X_train)\n",
        "encoded_docs_char_embedding_test = tk_char.texts_to_sequences(X_test)"
      ],
      "execution_count": null,
      "outputs": []
    },
    {
      "cell_type": "code",
      "metadata": {
        "colab": {
          "base_uri": "https://localhost:8080/"
        },
        "id": "egbD3b5MHyO9",
        "outputId": "11ce1d14-3dbc-4636-eaa4-bfd94d0422f3"
      },
      "source": [
        "#Finding the maximum length\n",
        "max_length_char_embedding = max([len(item) for item in encoded_docs_char_embedding])\n",
        "max_length_char_embedding"
      ],
      "execution_count": null,
      "outputs": [
        {
          "output_type": "execute_result",
          "data": {
            "text/plain": [
              "48277"
            ]
          },
          "metadata": {},
          "execution_count": 119
        }
      ]
    },
    {
      "cell_type": "code",
      "metadata": {
        "colab": {
          "base_uri": "https://localhost:8080/"
        },
        "id": "iSdTnPUlLP4n",
        "outputId": "ebf98631-f658-48fb-b954-487b01164017"
      },
      "source": [
        "len(encoded_docs_char_embedding[0])"
      ],
      "execution_count": null,
      "outputs": [
        {
          "output_type": "execute_result",
          "data": {
            "text/plain": [
              "589"
            ]
          },
          "metadata": {},
          "execution_count": 120
        }
      ]
    },
    {
      "cell_type": "markdown",
      "metadata": {
        "id": "GB4AlOCPemBb"
      },
      "source": [
        "**So, we are increasing the length from 589 to 48277**<br>\n",
        "**Here, we are post-padding to the maximum length so that no data is lost.**"
      ]
    },
    {
      "cell_type": "code",
      "metadata": {
        "colab": {
          "base_uri": "https://localhost:8080/"
        },
        "id": "z51gL-rLfHyq",
        "outputId": "3ba7d92a-1cda-479a-efe2-ab34b390be2e"
      },
      "source": [
        "len(encoded_docs_char_embedding)"
      ],
      "execution_count": null,
      "outputs": [
        {
          "output_type": "execute_result",
          "data": {
            "text/plain": [
              "14121"
            ]
          },
          "metadata": {},
          "execution_count": 121
        }
      ]
    },
    {
      "cell_type": "code",
      "metadata": {
        "colab": {
          "base_uri": "https://localhost:8080/"
        },
        "id": "K195WMvxfTH9",
        "outputId": "5caa67ef-3a86-424f-d513-307ac9e7a36e"
      },
      "source": [
        "len(encoded_docs_char_embedding[0])"
      ],
      "execution_count": null,
      "outputs": [
        {
          "output_type": "execute_result",
          "data": {
            "text/plain": [
              "589"
            ]
          },
          "metadata": {},
          "execution_count": 122
        }
      ]
    },
    {
      "cell_type": "code",
      "metadata": {
        "id": "ugjcU-RkHbDY"
      },
      "source": [
        "# Padding\n",
        "padded_docs_char_embedding = pad_sequences(encoded_docs_char_embedding, maxlen=max_length_char_embedding, padding='post')\n",
        "padded_docs_char_embedding_test = pad_sequences(encoded_docs_char_embedding_test, maxlen=max_length_char_embedding, padding='post')"
      ],
      "execution_count": null,
      "outputs": []
    },
    {
      "cell_type": "code",
      "metadata": {
        "colab": {
          "base_uri": "https://localhost:8080/"
        },
        "id": "kLMLn5JaF3t8",
        "outputId": "3b9f5dd6-c76b-4f21-e7e4-19397cacd446"
      },
      "source": [
        "padded_docs_char_embedding.shape"
      ],
      "execution_count": null,
      "outputs": [
        {
          "output_type": "execute_result",
          "data": {
            "text/plain": [
              "(14121, 48277)"
            ]
          },
          "metadata": {},
          "execution_count": 124
        }
      ]
    },
    {
      "cell_type": "code",
      "metadata": {
        "colab": {
          "base_uri": "https://localhost:8080/"
        },
        "id": "ytIXaZKxF4A_",
        "outputId": "18a2f04c-2c91-4858-9c55-90f2e9a0ba02"
      },
      "source": [
        "padded_docs_char_embedding_test.shape"
      ],
      "execution_count": null,
      "outputs": [
        {
          "output_type": "execute_result",
          "data": {
            "text/plain": [
              "(4707, 48277)"
            ]
          },
          "metadata": {},
          "execution_count": 125
        }
      ]
    },
    {
      "cell_type": "code",
      "metadata": {
        "colab": {
          "base_uri": "https://localhost:8080/"
        },
        "id": "iUxEuiq1jEGn",
        "outputId": "a8de5efd-1a5f-4929-af75-31ac8bc4f4fa"
      },
      "source": [
        "vocab_size = len(tk_char.word_index)\n",
        "vocab_size"
      ],
      "execution_count": null,
      "outputs": [
        {
          "output_type": "execute_result",
          "data": {
            "text/plain": [
              "27"
            ]
          },
          "metadata": {},
          "execution_count": 126
        }
      ]
    },
    {
      "cell_type": "code",
      "metadata": {
        "id": "1vEiq5JjjotF"
      },
      "source": [
        "#Creating the embedding matrix for the character embedding\n",
        "embedding_weights_char = []\n",
        "embedding_weights_char.append(np.zeros(vocab_size))\n",
        "\n",
        "for char, i in tk_char.word_index.items():\n",
        "  onehot = np.zeros(vocab_size)\n",
        "  onehot[i-1] = 1\n",
        "  embedding_weights_char.append(onehot)\n",
        "embedding_weights_char = np.array(embedding_weights_char)"
      ],
      "execution_count": null,
      "outputs": []
    },
    {
      "cell_type": "code",
      "metadata": {
        "colab": {
          "base_uri": "https://localhost:8080/"
        },
        "id": "yV2pWVBslSbz",
        "outputId": "d3774cb6-ab41-48dc-fb31-95a39fa5c73e"
      },
      "source": [
        "embedding_weights_char.shape"
      ],
      "execution_count": null,
      "outputs": [
        {
          "output_type": "execute_result",
          "data": {
            "text/plain": [
              "(28, 27)"
            ]
          },
          "metadata": {},
          "execution_count": 128
        }
      ]
    },
    {
      "cell_type": "code",
      "metadata": {
        "colab": {
          "base_uri": "https://localhost:8080/",
          "height": 1000
        },
        "id": "v85Ejh7KN4M1",
        "outputId": "09c8eddf-45e2-4dda-98d0-3988abc733b7"
      },
      "source": [
        "#Creating the model\n",
        "input = Input(shape=(max_length_char_embedding,))\n",
        "\n",
        "#embeddings_initializer= tf.keras.initializers.HeUniform(seed=0),\n",
        "embedding = Embedding(vocab_size+1, 27, weights=[embedding_weights_char], input_length=max_length_char_embedding, trainable=False)(input)\n",
        "\n",
        "conv1D_m_filter = Conv1D(4, kernel_size=4, activation='relu', kernel_initializer=tf.keras.initializers.HeUniform(seed=0))(embedding)\n",
        "conv1D_n_filter = Conv1D(8, kernel_size=4, activation='relu', kernel_initializer=tf.keras.initializers.HeUniform(seed=0))(conv1D_m_filter)\n",
        "\n",
        "max_pool_layer_1 = MaxPooling1D()(conv1D_n_filter)\n",
        "\n",
        "conv1D_i_filter = Conv1D(4, kernel_size=4, activation='relu', kernel_initializer=tf.keras.initializers.HeUniform(seed=0))(max_pool_layer_1)\n",
        "conv1D_j_filter = Conv1D(8, kernel_size=4, activation='relu', kernel_initializer=tf.keras.initializers.HeUniform(seed=0))(conv1D_i_filter)\n",
        "\n",
        "max_pool_layer_2 = MaxPooling1D()(conv1D_j_filter)\n",
        "\n",
        "flat1 = Flatten()(max_pool_layer_2)\n",
        "\n",
        "droupout = Dropout(0.2)(flat1)\n",
        "\n",
        "dense = Dense(20, activation='relu', kernel_initializer=tf.keras.initializers.HeUniform(seed=0))(droupout)\n",
        "\n",
        "output = Dense(20, activation='softmax', kernel_initializer='glorot_uniform')(dense)\n",
        "\n",
        "model2 = Model(inputs=input, outputs=output)\n",
        "\n",
        "# summarize layers\n",
        "print(model2.summary())\n",
        "\n",
        "# plot graph\n",
        "plot_model(model2, to_file='convolutional_neural_network_char_embedding.png')\n"
      ],
      "execution_count": null,
      "outputs": [
        {
          "output_type": "stream",
          "name": "stdout",
          "text": [
            "Model: \"model_1\"\n",
            "_________________________________________________________________\n",
            " Layer (type)                Output Shape              Param #   \n",
            "=================================================================\n",
            " input_2 (InputLayer)        [(None, 48277)]           0         \n",
            "                                                                 \n",
            " embedding_1 (Embedding)     (None, 48277, 27)         756       \n",
            "                                                                 \n",
            " conv1d_7 (Conv1D)           (None, 48274, 4)          436       \n",
            "                                                                 \n",
            " conv1d_8 (Conv1D)           (None, 48271, 8)          136       \n",
            "                                                                 \n",
            " max_pooling1d_2 (MaxPooling  (None, 24135, 8)         0         \n",
            " 1D)                                                             \n",
            "                                                                 \n",
            " conv1d_9 (Conv1D)           (None, 24132, 4)          132       \n",
            "                                                                 \n",
            " conv1d_10 (Conv1D)          (None, 24129, 8)          136       \n",
            "                                                                 \n",
            " max_pooling1d_3 (MaxPooling  (None, 12064, 8)         0         \n",
            " 1D)                                                             \n",
            "                                                                 \n",
            " flatten_1 (Flatten)         (None, 96512)             0         \n",
            "                                                                 \n",
            " dropout_1 (Dropout)         (None, 96512)             0         \n",
            "                                                                 \n",
            " dense_2 (Dense)             (None, 20)                1930260   \n",
            "                                                                 \n",
            " dense_3 (Dense)             (None, 20)                420       \n",
            "                                                                 \n",
            "=================================================================\n",
            "Total params: 1,932,276\n",
            "Trainable params: 1,931,520\n",
            "Non-trainable params: 756\n",
            "_________________________________________________________________\n",
            "None\n"
          ]
        },
        {
          "output_type": "execute_result",
          "data": {
            "image/png": "[encoded data removed]",
            "text/plain": [
              "<IPython.core.display.Image object>"
            ]
          },
          "metadata": {},
          "execution_count": 129
        }
      ]
    },
    {
      "cell_type": "code",
      "metadata": {
        "id": "JAUWO46HoOIw"
      },
      "source": [
        "history_own2=LossHistory(model2, padded_docs_char_embedding, y_train, padded_docs_char_embedding_test, y_test)"
      ],
      "execution_count": null,
      "outputs": []
    },
    {
      "cell_type": "code",
      "metadata": {
        "id": "ZkU-OcWlq3Y-"
      },
      "source": [
        "#Setting the filepath where we will store the models\n",
        "filepath=\"/content/model_save/weights_Model_2_best.hdf5\"\n",
        "\n",
        "#Creating Model Checkout when val_accuracy has not improved \n",
        "checkpoint2 = ModelCheckpoint(filepath=filepath, monitor='val_accuracy',  verbose=1, save_best_only=True, save_weights_only=True, mode='auto')"
      ],
      "execution_count": null,
      "outputs": []
    },
    {
      "cell_type": "code",
      "metadata": {
        "colab": {
          "base_uri": "https://localhost:8080/"
        },
        "id": "CGFu5goJqMrs",
        "outputId": "4e7f0fc5-96ea-43b9-a110-a45b1cb48dbd"
      },
      "source": [
        "model2.compile(optimizer='adam', loss='categorical_crossentropy', metrics=['accuracy'])\n",
        "model2.fit(padded_docs_char_embedding, y_train, epochs=10, verbose=2,\n",
        "          validation_data=(padded_docs_char_embedding_test, y_test),\n",
        "          callbacks = [earlystop,reduce_lr,terminateNAN,checkpoint2,tensorboard_callback_2,history_own2]\n",
        "          )"
      ],
      "execution_count": null,
      "outputs": [
        {
          "output_type": "stream",
          "name": "stdout",
          "text": [
            "Epoch 1/10\n",
            "\n",
            "Epoch 00001: val_accuracy improved from -inf to 0.07733, saving model to /content/model_save/weights_Model_2_best.hdf5\n",
            "Micro F1 Score : 0.00042477876106194687 \t\t Validation Micro F1 Score : 0.0\n",
            "442/442 - 24s - loss: 2.9569 - accuracy: 0.0719 - val_loss: 2.9356 - val_accuracy: 0.0773 - lr: 0.0010 - 24s/epoch - 55ms/step\n",
            "Epoch 2/10\n",
            "\n",
            "Epoch 00002: val_accuracy improved from 0.07733 to 0.08902, saving model to /content/model_save/weights_Model_2_best.hdf5\n",
            "Micro F1 Score : 0.0025452488687782806 \t\t Validation Micro F1 Score : 0.0004246284501061571\n",
            "442/442 - 23s - loss: 2.9073 - accuracy: 0.0872 - val_loss: 2.9036 - val_accuracy: 0.0890 - lr: 0.0010 - 23s/epoch - 53ms/step\n",
            "Epoch 3/10\n",
            "\n",
            "Epoch 00003: val_accuracy improved from 0.08902 to 0.11812, saving model to /content/model_save/weights_Model_2_best.hdf5\n",
            "Micro F1 Score : 0.0033898305084745766 \t\t Validation Micro F1 Score : 0.0\n",
            "442/442 - 23s - loss: 2.7750 - accuracy: 0.1172 - val_loss: 2.7224 - val_accuracy: 0.1181 - lr: 0.0010 - 23s/epoch - 53ms/step\n",
            "Epoch 4/10\n",
            "\n",
            "Epoch 00004: val_accuracy improved from 0.11812 to 0.13214, saving model to /content/model_save/weights_Model_2_best.hdf5\n",
            "Micro F1 Score : 0.009992962702322306 \t\t Validation Micro F1 Score : 0.00042426813746287653\n",
            "442/442 - 23s - loss: 2.6315 - accuracy: 0.1418 - val_loss: 2.6736 - val_accuracy: 0.1321 - lr: 0.0010 - 23s/epoch - 53ms/step\n",
            "Epoch 5/10\n",
            "\n",
            "Epoch 00005: val_accuracy improved from 0.13214 to 0.14043, saving model to /content/model_save/weights_Model_2_best.hdf5\n",
            "Micro F1 Score : 0.014031149151115477 \t\t Validation Micro F1 Score : 0.0016913319238900633\n",
            "442/442 - 23s - loss: 2.5566 - accuracy: 0.1635 - val_loss: 2.6716 - val_accuracy: 0.1404 - lr: 0.0010 - 23s/epoch - 53ms/step\n",
            "Epoch 6/10\n",
            "\n",
            "Epoch 00006: ReduceLROnPlateau reducing learning rate to 0.0009000000427477062.\n",
            "\n",
            "Epoch 00006: val_accuracy did not improve from 0.14043\n",
            "Micro F1 Score : 0.027307558342041103 \t\t Validation Micro F1 Score : 0.0033826638477801266\n",
            "442/442 - 23s - loss: 2.4871 - accuracy: 0.1806 - val_loss: 2.6791 - val_accuracy: 0.1302 - lr: 0.0010 - 23s/epoch - 53ms/step\n",
            "Epoch 7/10\n",
            "\n",
            "Epoch 00007: ReduceLROnPlateau reducing learning rate to 0.0008100000384729356.\n",
            "\n",
            "Epoch 00007: val_accuracy did not improve from 0.14043\n",
            "Micro F1 Score : 0.05015458605290278 \t\t Validation Micro F1 Score : 0.009245639840302584\n",
            "442/442 - 23s - loss: 2.4294 - accuracy: 0.1978 - val_loss: 2.6886 - val_accuracy: 0.1362 - lr: 9.0000e-04 - 23s/epoch - 52ms/step\n",
            "Epoch 00007: early stopping\n"
          ]
        },
        {
          "output_type": "execute_result",
          "data": {
            "text/plain": [
              "<keras.callbacks.History at 0x7f7ab4a649d0>"
            ]
          },
          "metadata": {},
          "execution_count": 132
        }
      ]
    },
    {
      "cell_type": "markdown",
      "metadata": {
        "id": "AMR2craasL88"
      },
      "source": [
        "**As we can see that in only 7 epochs, the validation accuracy is 14% whereas the accuracy on the train data is 20%. <br> Also, the train loss is 2.42 while the validation loss is 2.68. <br> The Micro F1 score on train data is 0.05 while on Validation Data is 0.009. <br>\n",
        "Seeing the above scores, we can safely say that the models don't overfit.**"
      ]
    },
    {
      "cell_type": "code",
      "metadata": {
        "id": "yUjgRXI_sWxZ"
      },
      "source": [
        "%tensorboard --logdir /content/model_save/Model_2/"
      ],
      "execution_count": null,
      "outputs": []
    },
    {
      "cell_type": "markdown",
      "metadata": {
        "id": "Gx4qkP8bsjRK"
      },
      "source": [
        "**Below is the accuracy plot for train and validation data**"
      ]
    },
    {
      "cell_type": "markdown",
      "metadata": {
        "id": "vfMkCco4snIj"
      },
      "source": [
        "![image.png](data:image/png;base64,iVBORw0KGgoAAAANSUhEUgAAAlEAAAIoCAYAAABJUb7XAAAgAElEQVR4nOzdeXQcZ50vfMOwDTDAwABhHzbvS/WirTdJrcUttWy3FlurNzmWLCuyrSTO4osnKCQkgycTk8HBAYTRjHFEHOIJIoIxo4vBeQVx8OtjzT2KIYg4KER2rnyiKL56rdHtfN8/eq1epF6fqur+5pzPOSC1uutXT7vqe6qe+j2LTCYTiIiIiCg+i5TeACIiIiItYogiIiIiSgBDFBEREVECGKKIiIiIEhA1RJnNZiIiIiKKYhGDExEREVH8Fs0XniwWCxERERFFsCje8GS1WomIiIiy3qJo4cn3ApvNhsLCQiIiIiIKsihSeAoOTkVFRSguLkZxcTHsdjsRERER2e1YFBygfOHJF5zsdjtKSkpQVlaG8vLyMGvXriUiIiLKSotCA5QvPJWWlqK8vBwOhwMVFRWorKyE0+lEVVUV1q1bR0RERJTVFoUGqJKSEpSXl6OiogJOpxPr1q2Dy+VCdXU1ampqUFtbi9raWtTV1RERERFlrUVWqzUsQFVWVkKSJCIiIiKKYpHNZkNRURHsdrv/CtT69esV3zAiIiIiNVvkuwpVWlqKiooKrFu3DrW1tYpvGBEREZGaLSosLPRfhXI6nXC5XKivr1d8w4iIiIjUbFFRURFKSkrgcDj8V6GampoU3zAiIiIiNVtUXFyMsrIyVFRU+K9CbdmyRfENIyIiIlKzRcXFxf4n8qqrq9HQ0IDt27crvmFEREREarYoeD5UTU0NmpqasGPHDsU3jIiIiEjN/CGqqqoKtbW1aG5uxs0336z4hhERERGpmT9E+SaVt7S0YOfOnYpvGBEREZGayUJUXV0dNm/ejLa2NsU3jIiIiEjNFtntdqxdu5YhioiIiCgODFFERERECYgYotrb2xXfMCIiIiI1Y4giIiIiSgBDFBEREVECGKKIiIiIEsAQRURERJQAhigiIiKiBDBEERERESWAIYqIiIgoAQxRRERERAlgiCIiIiJKAEMUERERUQIYouLWh1EAwCSGDiq9LURERKQUhqi4MUQRERERQ1QCGKKIiIiIISoBDFFERETEEJUAhigiIiJSOkQ5OvDI4Cgmrs/CDQBwY/b6BC6eug+twa87OIRJAMAo+iQXDjx+DuNT3r9xz2Lqj0N4pMMR4TO8r702gzl4/pubmcDo0Hex3xFpmxzoePAUzo1fw0zgD3Bt/CKGjt2DRocEeYhyoOORQYxO+N5/Dm+Mn8Px/ZG2JR778O2h5zE2MR3YDgDu2euYGB3CdyO+fyzb7uHoeBCnzo3jWuCFmLk2jotDx3BPo+e9+zxFYrQv0vZFCJKyMfLul9c8YzQ5dBDSvm9j6PkxTEwHxsI33tHHw4UDx4YwOnEds+6gfTD2LE49tBf3Dox7fjh1Fg9E3I8O9I16/lDpf2hERJR5lAtRrUdx/nX/mRHXp6cx7Q9TwMxoXyBI+U/Qk5iYCEoVwf/NjKKvNej9HT0YeHkm6GQ9jemgE7j7+oj89ZIDPacnAif4uRlMT0/juu/s7Q8MvgDxJsZ+H/T6+bYlbr7PCNo3weHDfRVDPY4Etl2Co+c0ArtwDjMh+31y6CAkKZkQdRnPnZXvl8mhg5D6/BXBPXsd09PTmA5KiO6rQ+iRBalW9I1c92+X728CfzKKvuZ+vOgGgCmcfSDCdjr64MlQk4r/QyMiosyjUIjqxsC45/Q48+IpHHAFfuc6cAovzgDALEb7mj0/95+gAcxN4uKph7DXJUGSHGi8x/d6YPbCUTgkz88PDU/5A83je13+93c0fgNnrnqve42d9Ae15t4ReN5mBi+eOgBX0Pa69j6KwdFR/EwWojwhZPLi47hvu8v7uscx6t2WqbMPJLF/+nBxchSDj94mu4IkuQ7g59795n6xH83xbntzL0a82xe63yXXXjw6OIrRnyUborz7ZXQIx+7rQlfXLk8NfRcxOTqIR29r9I6Rb7x/Dk9JbrzY3+z/+cHTV71XGq9i+JGOoL9xoPGex3HuL79Br9SMfk+Kiri/m/tf9LzHq4OK/0MjIqLMo0iIchy9gFkAmDwTcvXBo/nkmOdcPHbSExSCrnKcinCFx/9+7hfR3yxBCrpCMXwowq2v1pMYk13B6Mbgq97wM3xIdpIPF7gSNfLd1rDfd/puMV09jbvSsf8ODeNNAJg9jyNSfNveHXghDkW8fRaQeIiaxHMPh++X+RwaftMTgs8f8fzMcRQXPAOKsZPzv5ejb9QTlN4cxiHZ7wIBa+xkc1zbQ0REFAtFQtSR87MAgPGBzsiv8Z2QfUFBNt8mwuv9t21mcf6IBKl3xHNivXYGPRG3oRm+nHb19F2Q7jqNq54twkDnQtu/wMRy32dPDuFgOvZf6L6IedvvwmnPC6Pv9yDJzYmKr6aDQ5O+D5PvQ39QnIc/cHnH3vfz5pMYCw7Wafw+ExFRdlIkRPlO5lN/HsHISCR/xlTwCXnBE/RBBM7DEU7KEfScuRZ4je+kHXY1I5IFQpRvW5MOUQ403nMEg8+OYGxiOmQ+UNC+iHnbezHieSGGDy38+WkJUY5G3HNkEM+OjGEidJ5X0Hjd5fuC+K5ELsAXygO3cwNXM92jfQtcWSQiIkqMIiFqaBIx/pe+ECV7jS8xxBR8BIQoRw8GXgpMqvb/NzcTNAncuy9i3vb4WjOkOkQ5egbw0vWwijA3EzQB3jtesYyfjP8W5wUcdUiQpE547qrO4sLRZJ+UJCIiikzREBX5BB1Buq9E+RKDKq5EOXDkvHf2t3cS/d3eiesR90XM2x6YyyX8SpTjCAIlXcSph+7Gdlfg96Hj5f//MV6JkqQHcHYqKDR1D+LVmMeTiIgoMYqEqF7PfSX/4/QLWnBO1HFcAgBcxem7pBhucaVxTlTSIeoIzs/OcxVF8JyoyK+NM0QdOe+Z+O+/UiSX1JyokPdwj/bhTu8E+uSekCQiIpqfIiHK/+j5zHkcWeApMUmSFgxRrSfH5JO54346z3clA5g80xPj03npClG+97+GMz3hv3c8/Jzn1pV/X8S+7Q8EXhjxqchgvqD75vCh8G3o+AkuxxOifIks4kR/Bx5+7k15iPKP3ywuHY/xST/f1Sf3VVydnGd8iIiIUkSZPlGOHgx5ezXNTZzFo0F9nCRJgqPxNjx06hz+8tJpTxDxn6D/gv+8p1HWM6jjkWF43moGI73N/p8H+kS9iFMHAu/v6HgEwxH6RPmDWMReSw/h1MXQPlHpClGBlgUzL57y96ByNN6GR4deQmBaUSCsxLzt/vAYuU/UQ6cu+vtE+YOu+yrOfMOzz8O3IcYQ5Qs4mMGLp+7z3spzoPG2RzEUPPfLf/s1aPwi9ok6hrMv/Qa9UfYbAODVQXSr4B8YERFlLgU7lvdhJGii8dzMdFgXa38QkTVyhL8jd+C1brx+/qh8qRhHD05PBH6/cMfyVhw9/3pYh+zAZ4R2LE/fxPJA88zQ/9x4/eXxkCtR8Wy7hNaj5/F64IVh3dD9t1iDgm7oNlz//Yv4S+g+mPdqYTN6RyJXBPfreHk85EqU9/MDHecD349AF/bwz/H3FwN7QxERUfopvnbeg6fka9vBPYvrE2N41t+VXAo6Qf8B/xm8bh7cmJ0ax7nj+yPfxvK9/1RgWZMF1857ZBAXI64/57vCI6bFQevDgbXngDnMTIxi8JEOOKKGlVi23cPR8QgGL0ZeO092dar1YQyOTnjfz7uvHz8AV0ItDlrx8OAoXvOFoLkZTIwO4pEOxzwPArhw4PFnMRZp7bwHO8LHfN+gJ9yxNxQREQmgbIiKVRKNHCl7+DqyszcUERGJwBBFGSKkzYHi20NERJmOIUrIdsfxX6wNJknGv34ie0MREZEgDFHp1PxVfOfECZyIx0P7lN9uzQksNszeUEREJApDFGmfv4UCe0MREZE42ghRRERERCrDEEVERESUAIYoIiIiogQwRBERERElgCGKiIiIKAEMUUREREQJYIgiIiIiSgBDFBEREVECGKKIiIiIEsAQRURERJSAiCGqra1N8Q0jIiIiUjOGKCIiIqIELLLb7SgvL2eIIiIiIoqDLETV1taipaUFO3fuVHzDiIiIiNTMH6KqqqpQW1uL5uZm3HzzzYpvGBEREZGa+UOU0+lETU0NmpqasGPHDsU3jIiIiEjNFhUXF6O8vByVlZWorq5GQ0MDtm/frviGEREREanZouLiYpSVlaGiogIulwv19fXYsmWL4htGREREpGaLioqKUFJSAofD4Z9c3tTUpPiGEREREanZosLCQgTPi/JdjfrTn/5ERERERFEsKiwsRHFxMUpLS1FRUeG/GvWnP/1J8YRHREREpFaLbDYbioqK/FejKioqsH79eoYoIiIionksslqt8F2NKikp8T+pxxBFREREFN0ii8UCm80WFqQYooiIiIiiW2SxWBAapOx2O0MUERER0Tz8ISo4SBUVFTFEEREREc1jkdlsRnCQslqtsNlsDFFERERE81hkNpvhExymGKKIiIiIopOFqOAwxRBFREREFN0ik8kUFqLMZjNDFBEREdE8FplMJvgwRBERERHFRhaigjFEEREREUXHEEVERESUAIYoIiIiogQwRBERERElgCGKiIiIKAEMUUREREQJYIgiIiIiSgBDFBEREVECGKKIiIiIEsAQRURERJQAhigiIiKiBDBEERERESWAIYqIiIgoAQxRRERERAlgiCIiIiJKAEMUERERUQIYooiIiIgSwBBFRERElACGKCIiIqIEMEQRERERJYAhioiIiCgBDFFERERECWCIIiIiIkoAQ1SK3fXTlzA9PY3nv6P8thAREVH6MESl2MGhSQDAaJ/y20JERETpwxCVYgxRRERE2YEhKsUYooiIiLKDJkKUo3EXurq60NXVhe2ueF6/C42O2N97V6Njwfd2be+ad1tCQ1Tg9dvhSnpfONC4a/7Pl3Ft97+2a7srda+Nl6MRu7q60LWrEQ7Z71zY7vvMGMZqoX1PREQkkrpDlOsATo2+gTkE/ee+jpeGHkZr8OsODmESwOSZ7+Lk76/DHfz6uUmcO9oa4b3vx+AfQ94bc3jjj4O43xVhW1ofxtlXZuXv7Z7FK2fl2+IPUafCX+++/nuc3L9wUIvEdf8g/viGfGsjfb5HKx4++wpm5RuL2VfO4uHWBF/bNwpvOgzbNl/Nk0MHw3526cwAXp7xvu3kEA5KEiTJgY7vncNr8g8F5t7A6Mn9IUErln3vwMPPvRm2DT4PnJ0CALw62K38d5qIiDKGekOUowdDV90A5jB5cRBH7uvCfUcGMfK6G4Ab4wNBJ0RviAIA9+u/x9BTJ3DixAkMXpz0hCT3VQz1OCK8txvXXzqLxx+6G3c/9DjOvuQJYO6rQ+gJvirS3IuRGYRty8VJT6iZGj7kP/H7woPb7cbMxDkMnjiBEyeewllvknC/fAqd8e6Lg6fh2RWTuDh4BPd1zbMvpGb0ejYWc5MXMXjkPnTddySwL6aGcciRwGsTDFGebDSOF0ZGMPLr76NTktDcO4IZAO7rL+Hs4w/h7q678dDjZ71hawbnjzji3/cPnMWULKj5HIRnU17FYLfy/+CIiChzqDZEdQ+Mwx0SUCRJgtR6HJdmAcyexxHfz3whavKMPPxIDvSc8YaaF/vR7HvvwVcBADOjfSFXcVrRNzoTFkx8VzImz/TIt8VxCMNTADCGk82en/nCw+yl4/L3dhzFhVn5a2N15PwsAGDsZLP8d77gcPU07gr9WYR9ccizsYH3iee1CYaosP0gdWJgHADexPAh+fs097/oCbEjvQnse19YmsTQwaDX+b4brw6iWwX/4IiIKHOoNET5TrTjGOgM/33viBvANZzp8f7Md6KMcIKXHH0Y9ZyZ0StJWPDKRPcgXgWA8QHvFaMenLkWPfwc/NmfMT09hd8e8f7/qBPLm3FyLMJJPil9GA25+tLj2djwwCVJkA7+DH+ensbUb4/E/dpEQ1RcE+zDxjG+fe8Lx8Hb4fvZ+ECngt9nIiLKRCoNUd5wgCn8eWQEIyH+cHVWfoKeL0T5Q9NVnL4r6L3fHMahiJ99CMNvAsAo+oK35doZ9MSw7fOFB08OSTREuXDgyCCeHXkB49emMT09jenpGc9tt6AQ5fmMoIA5j3hem/IQ5ejAg48P4fmRMUxMe+u57p335P+M+Pa9PwD798f8YZyIiCgZKg9R8/8XX4jyhZfwqzeRXx8SoqK+Xi4tIar1YZyd8MwBmpu5hvEXfIHyz2HzgOL5jLi2J4UhyrH/JH5/3TOfa/b6BMZ8AfkPVzEbKUTFuO8DoclbU+cAxgFg7KT/Vi4REVGqqDtExXoFIqYQ5bsasdCVqCPwTEFSz5Wob57zzNO6eub+kDYJ4SFD/VeiOnHqZTeAGYwe75DPcwobxzi/B5KEZs89U0wOHfT+bzde7I9wu5KIiChJKg1RcT5RNV+Iaj6JMSBoIrrvakWU9/ZNtvbPifJtS+R5OZ3f/zVGRkbw9IOe/5/6EOX7/Es4HtZHKTxE+T4/4jynzu/j1yMjGHn6wbhfK/WOhNxqC4gvRM0TjMLGMb597xnvfrzoBjA5jOExAO4X0R/nRH4iIqJYqDREzfcEnYTWh4dwLrhXlO/kK3t8X0Lw03mzF476r3r4nvyL9HTe8UuzYVcvfNsS9qSgowdnJuUn6tSHqLtw+ioATGH4kENe29BVT7AJvt3lmxcUdV8E1RbPa+86jauRXuvowKkxdxwhqhcjbgDuMZyU9azyPRkpD2rx7Hvftvd5niSA2y1/KpOIiCiVVBuiAr2cgLnJ0UDvp3MTnh5Dwb2cgvtEXX8JZ5/y9GYaGvX1iRrHgOyq00H8bGIOgBvX/+Lr5TSIcxPenkkTP5PPwQnqK/X674fw1IkTOPHUEEYnPe9xdagnrE9UKm/n+UIf5iYx9uwgTgw+i7HXgppP+p88lBAcrgI9swL7Qt4DK57XdmNg3POJ/v5Xg89ibDLQADS2EOXAkfPenlnX/4KLQ0/hqaGLGA9uJBrcsiGOfe/jOHrBM7cKboz2JdbclIiIaCHqDVGSBMmxH8cvvhbSTTtCV3FfiLr0cxz3NYoMClWD97tie2/3LF479z10RFp+JEKHc/fsa7h4XN5hOz1P57Xi4aGXcN0tr2vo4Ue8LQBC39OF+wf/iDfkG4vXLh7H/rDa4nht61Gcm5S9ELOvncP3fnIpjhDl2/fycZqbvIjjBx7HJQBwj6Iv+LNj3PeB9/f25Ap9HyIiohRSd4jy8a29Fm19tdC5NFHXapvvvWNc2y6e955HcEfv6P/5Jrcn+tm+tfYWXpcuntf61rCLZa3BefnW64t1rb5Y6/fOiwq+hUtERJRq2ghRC5n36Tx18k2Knt/TeFAF26o1nnlUs7hwlLfyiIgofRiiKDN4r1Ldd+x3nnUGp87iAaW3iYiIMhpDFGWGoIcLMDeB0z28CkVEROmVGSHKN1cm1rk1lHmav4rvnDiBEyeO4J5k52oRERHFIDNCFBEREZFgDFFERERECWCIIiIiIkoAQ5SmdeL7vx7ByK+/713nj4iIiERhiNI07wK9wWvnERERkRDqDVF3/RQvTU/jpZ/epfhOUi+GKCIiIqWoN0R5+/4Er8dGoRiiiIiIlKLCEPUgnh4ZwcgfrmIWwOzVP2Bk5Nf4fmfQa1wHcGzoef/yKM+eejDiosGOjkcw+Lx3CZVnT+HBjm7PHKKnH/S+phs/Gr2G6T//bMEQ4uh4EKee9b7X80M4dsAV9PtO//vKXzeIRzoi9yxyHTiGoeejvV+srwsKUbJ98iwej/J+84pxv8pf9zyGjh2IsO6gAx0PnsKzI8H7P2hfPPg0RkZG8PSD8r/zLIcTNN7+17XivlPPhvyNCweODeH5aJ/h4+jAg96/Davr7sfx3MgI/p++7sjfw59/E5tU8A+ViIjUR4Uh6jt4fnoa09dn4Qbgnr2O6emX8NO7PL939JzGxByAuTcw/sIIXhh/A3MA3FeH0BN0wnf0DHmW/3DPYmp8DONTs3DPXcf12eDO5g/g7BSAmXP45jzb1No3gutuwD37GsZGxvDarBvADEb7Wr2v8YaZ2RnMuOcwc20c4xPXMesG4L6KIVn3bAd6Tk9gDsDczITs/V4e6AlaMNeBnoGXMRP0uomZOc/rTh2Uf+6bV3F1xo3ZqXGMjU/5P/f0wdj3e+z7dQAvezYKE2MjGJuYwRyAmZdPBQXRVhw9/zrc8GzTCy+MY2rWDbhfx7kjzZ7X9I16lljuk2+HZ2HmSQz5tt37upmZGQBuzM7MYqRPguTowWnPBuON8Rcw8sI43piLsL9bj+L8627v9+AFvODdP+7Xz+FIswTJcRQXZgG8Ooju4H1y5DxmAYwPdCr+j5SIiNRJhSHKK+LtvGb0v+gGZi/heGvgta0nx+CGG6N9vpNnNwZfBeAew6mgKxOtfaOYiXd5mOZ+eD7y8cDVC0cPhq66gdkLOOqQ4A8zmMTZ+13+v/UHuaATtOPQMKYAzIz2odX3GY4OHB+dkYeH7gGMu8Nf9/ilWcD9Ivqbgz93BqPHO/wBzNFzBpMA3hw+FGOdse/XAc9Goc//Ogc6Hr+EWbjxYr8nIDmOnMcM3Lg6FBQKXffj7GTQmnZxhij31TP4RlAn8ub+F+HGLC4dbw38fetJjLkB92if93MdOHJ+JixYue4/C8+mPABJknBo+E0Ar2KwO7Adnp+NY6Azlv1HRETZSGMhyoHGXV3o2tUYdMUmwmvvOo2rEUNEH0bjDFGdA+MApnD2AfnPHccvAZjF+SMSos9NcuDohVnZybh3xA1gDCebQz6rexCvBm1zWJjweeB/YmJ6Cr8N/txrZ9CTVJ0x7teo89QewP+cmMbUb49AkhzoG3UD7lH0hdwKbP7hf2F6egxP3ybFHaIuHZffpnM07kJX1y40yj4jZBwcfRiVhSqfZvzwv6YxPfY0bpMkSA+cxRSAVwd9t/QOYfhNAGMn0azkvwEiIlI1jYUoD888oRcwfm0a00G3/vyvjXKCTiREed5qCn/2zbvx8c7Z8nxG9AnenrD1JoYPzf86SerBmWsAxgfQ6f/cUfTNu33R3i/+OpPbr7FsU4g4Q1TEz/TOzXph/Jpne6e9t1B9nx3zwwne27q+K4bevxs72azsvwEiIlI1zYUozy05N67/5SKGnjqBEydO4MTPX8CbaQ1Rc5iZ9gaLEM9/R8K8waFvFIAbI70LvC7kd6JDVHL7NZZtirRfkghRrX0YnQHc1/+Ci0NPebb3xM/xwpuJhCjf53pu6R0cmgy6ZUpERBSZxkLUEZyfBXD5VGCeUKTXHhrGmxEnBccfLo6cnwVwCccjPaXmFz043HX6alAo6MTAOIA3h3Eo7D16MeIObFtynxtvnTHuV+9k69Bba3LeGsNuMYZIMkR59s9lnGoN/nnI/ugcgGdTehbeB97bqa8OHsbgq4D7xX7eyiMionlpLER5woF7pFf2WsfDz8mvmHifuHKPnZSHguaTGIszRHkmMLsxdrI15HetOHAg5Om8N5/Dw7LQ453gPnseR7w/6x58FcAUhg/Jg0jr8ZDJ2X2jcGMWo33yW0q+n88/FyveEBXrfvXMMZod7ZMHDN/Pzx+BJEWfz+X5uXd+WJSg65nQvXCI8lzgG0GvbDsexnPBV6Ki7h/vz723TmVjNTWFqaBxICIiika9Icp7FWF27Ce4r+tu7G2V4H86zP06Rk49hLu77sORwRG87gYQErgOnr4KN9x4feQUHrq7C3c/dAojvhf6w0UsfaIO4vRVN+C+jt8PPoS7u7rQdfejGHrpOtzuv+CZ2zyv8TwlB8y8PIRH7+5CV9d9eHzE85j/1dNBQdBxBOdnAMy8jLPH7kNXVxfuO/Y7XHWHthPwfu7cBJ7zv+4sXp4B3FdPLxAS4g1R8e7XOUw8dwz3dXWh675jOOvZqEBLheZejMwA7uu/x+BDd6Or6248dMrzfjMjvZ4A5mstMPOi9zX34djZl3DdjZhCVPfAuGx87zsyGBjfoP3R3DviuU35+0E8dHcXuu5+CKdGXocbMxjplQel5pNjnr+PMCmeiIgolHpDlNSM3ovX4T0tBk6irUdxbnIO/v/mJnHuB8/gDwh9CqsVR89Nwv9K9yxeO3cBl2XhIrY+UZLrfgz+8Q0EfSrm3vgjBv3tDHxPyY3gzMWgz8QcJs8dlV8NkyRIrQ97QljQ69744xAebo3wOtnnzuGNPw7ifpck/9xUTCyPY78+PPRHT0+miPvCw7H/OC6+Nhuo0T2L1859T9a8s/XoOQR/pPv6Sxg4cymmEBU2vpjD5Lkf4Jk/hIYgB/Yfv+jtxeXblNdw7nsdIU/sSf52FuFP8xEREYVTcYjycG2P8Oi97+dd2yN0yg7h2h70KHxiT635ORqxq6sLXdtdIb8LCTOu7ejq6sJ2VyzblsLXReK9LRr9P/nk9Zj3q+TC9oj7Qi5yK4L43yf5fROljUOw7kG8illcODrfnC8iIiIP1YeoRLX2ncO54/KrDaHzjlJHxWvYNX8V3znhfdouooewT+ltVAUHDg1PBTVQJSIiml+Ghijf0ipuzL42hpGRwDImcxOnZcuYpIaKQxQtwLPuoef7ETJ/jYiIaB4ZGqI8PM0jxzAxPY1r4y/g2cfvmee2UjK8CxD/+vtBT3uRNtyFn740jenpCYwOPhw+f42IiCiKjA5RREREROnCEEVERESUAIYoIiIiogQwRBERERElgCGKiIiIKAEMUUREREQJYIgiIiIiSgBDFBEREVECGKKIiIiIEsAQRURERJQAhigiIiKiBDBEERERESWAIYqIiIgoAQxRRERERAlgiCIiIiJKAEMUERERUQIYolSuq6sLP/zhDyP69a9/jSeeeAKVlZXC1NXV4bHHHsNjjz2Guro6oZ+tlG3btmH79u2Kb4fIerdt26b4drDe2NRUVaKrpgJ7qh3YU+1AR3UFqjK43nSObwEj6EEAACAASURBVFd1BV6/pQTYF9C/pVzxGuKxdetWRcZ369atip8vlcAQpWH9/f04ceKE0M+0Wq3+EGW1WhXfByJUVlbC6XQqvh2sl/WGytVJqLcY0OhVZzbCoMvcetM5vvtKczC7x+4PT/+9x447y3IV3/54VVRUoKqqSpHPVbp2JTBEaRhDlBg86WQ2rdabo5ew0WL0B6iNFiNy9LqMrTed4/vohgK8tTcQoF7vLMZmm1HxbU8EQ5RYDFEaxhAlBk86mU2L9Rp0EmrNgStQm8wG5MYQoLRab7rGN0cv4XSTRXb7bmxnERx5esW3O1EMUWIxRGkYQ5QYPOlkNq3Vq5ck1JgCAareYkSuPnPrTdf4Fhp1+F+thbIAdW6rFSZDbGFUrRiixGKI0jCGKDF40slsWqpXr5PgCgpQDRYj8mO8AqXFetM1vq4CPSZ2FckC1I83maFXwfYmiyFKLIYoDWOIEoMnncympXrXFej9AarRYoDZGP9VEy3Vm47xbS/Owf+5pdgfntx7S/CgM1/x7UwVhiixGKI0jCFKjGw/6WQ6rdRbVRAIT41WIywJBCgt1ZuO8f1GVT7cewNXn/7PLcXYbc9RfBtTiSFKLIYoDWOIEiObTzrZQAv1VubLr0AV5iQ+8VkL9aZ6fNc5nfj3erPs9t3ErmLUmAyKb1+qMUSJxRClYQxRYmTjSYf1qkd5njxA2XOTe3JM7fWmWl1VBf6rvUwWoEa221CUo+0J5NEwRInFEKVhDFFiZNtJh/Wqhz1XHqDKkgxQaq831Rx5eozvLpUFqMFGi+LblU4MUWIxRGkYQ5QY2XTSYb3qUWjUyQJUqnoXqbXeVNtoNuD1zsAE8rf22nFkQ4Hi25VuDFFiMURpGEOUGNly0mG9ym+Ljy0kQDkLUjd3R431plqnPQczXXbZFaj9GlzCJREMUWIxRGkYQ5QY2XDSYb3qqdds0KHRGljOZX2BAboMrjfV7q3IgztoCZc3u0pwa232nOAZosRiiNIwhigxMv2kw3rVU6/JoENDUIBymQzQL7CgsJbrTbVjNSbZ1afx9iK0bqjI2HojYYgSiyFKwxiixMjkkw7rVU+9eXoJ9UELCteYDGnpoK2WelMpRy/hP5vla+CN7iiEzajLyHrnwxAlFkOUhjFEiZFtB2HWK16uXodNQXOgas0GGFJ8BUpN9aaSxajDyHabLED9qsWKXF1m1rsQhiixGKI0jCFKjGw7CLNesYw6CRuDrkBtNBtgTFOAUkO9qeTI0+NyW/gaeMFzyDKp3lgwRInFEKVhDFFiZNtBmPWKY9BJqDUHrkBtshj8V1Aysd5UarTIWxi499rxT1Xha+BlSr2xYogSiyFKwxiixMi2gzDrFUMvSagxBQJUvcWIPH3m1ptKu+05mN0TeALvv/fYsackcguDTKg3HgxRYjFEaRhDlBjZdhBmvemn10lwBQWoBqsRJoOYZUi0Pr6hLQze6CzGZpsxY+uNF0OUWAxRGsYQJUa2HYRZb3rpJAnrCwIBqtFqhFlQgNL6+P4gQguDqgUakWq53kQwRInFEKVhDFFiZNtBmPWmV1VwgLIYYDOKXQhXi+M7XwuDTKw3GQxRYjFEaRhDlBjZdhBmvWn8rHz5gsLFOWIDlBbHd6EWBplWb7IYosRiiNIwhigxsu0gzHrTozxPHqBKc8UHKK2NbywtDDKp3lRgiBKLIUrDGKLEyLaDMOtNPXuuPEA58vUZXW8qRGphcChCC4NMqTdVGKLEYojSMIYoMbLtIMx6U6vQqJMFKOcCE6G1Xm8qhLYwmJ2nhUEm1JtKDFFiMURpGEOUGNl2EGa9qWMLCVDrCvRx3YrSWr2pEKmFQaMl8eCp9npTjSFKLIYolbNYLHA4HBH9+Mc/xokTJ5Cfny9MaWmpP0SVlpYK/WylVFdXo6amRvHtEFlvdXW14tuh9XpLzAXYWmLCNq9NxSYUFGRuvalwfJNVNv/plV3FqC0yZWy96eByuRQ5XrlcLsXPl0pgiFK5np4e/O53v4vqySefRG1trTAtLS3+ENXS0iL0s5XS3t6O9vZ2xbeD9Wqn3ua6Gtze6ML+hg3Y37ABexqqUVdbo3itah3f+roa/LbdIQtQY7vLsaWuOiPrTae2tjbs2rVLkc9V+nypBIYolauqqkJbW1tEAwMDvBIlAK9EZbZU11toysdme+AKVJPdBJMK6lTr+JaZ8/G/dsifwHt2axFsKbpqp7Z6041XosRiiNIwzokSI9vmVLDexOXqddgUNAdqo8UIY5oXFNby+Dry9BhvT66FgZbqFYFzosRiiNIwhigxsu0gzHoTY9RJ2Ggx+gPUJrMBuXplekFpYXxT1cJAK/WKwhAlFkOUhjFEiZFtB2HWGz+DTkKtOXAFqt5iQJ5e+drUOr6pbGGghXpFYogSiyFKwxiixMi2gzDrjY9eklBjCgSoBosRBQIXFNba+Ka6hYHa6xWNIUoshigNY4gSI9sOwqw3dnqdBFdQgGq0GmEWvKCwVsZXJ0n411qTbP7TeHsRqtLcfDTbvs8MUWIxRGkYQ5QY2XYQZr2x0UkS1hcYZM00bSoPUEqNb45ewq9a5D2gRncUCtlf2fZ9ZogSiyFKwxiixMi2gzDrjU1VSIAq1ECAUmJ8bUYdRrbbZAHqVy1W5Ap6ajHbvs8MUWIxRGkYQ5QY2XYQZr0x/E2+fEFhe65yCwqreXxFtDBQU71qwBAlFkOUhjFEiZFtB2HWO7/yPHmAKs/TToASOb6iWhiopV61YIgSiyFKwxiixMi2gzDrjc6eKw9QlfnaClCixndPSa6wFgZqqFdNGKLEYojSMIYoMbLtIMx6Iys06mQBKt1PlSldb6LurcjDWwJbGChdr9owRInFEKVhDFFiZNtBmPWGs4UEqPUFBqHzerQwvkq1MFCqXrViiBKLIUrDGKLEyLaDMOuVMxt0aLQGlnNxmQzQq2w9PKXHV8kWBkrUq2YMUWIxRGkYQ5QY2XYQZr0BJoMODUEBqsZsgF4F26ym8VW6hYHoetWOIUoshigNY4gSI9sOwqzXI08voT5oQeE6sxEGlQQDtYxvpBYGx+tMqrrVmW3fZ4YosRiiNIwhSoxsOwizXgm5eh02BS0ovNFsQI5KFxRWanxDWxi8tdeOeyvyFK8vXfVqBUOUWAxRGsYQJUa2HYSzvV6jTsLGoCtQmywG1dyaUsv4qqmFgYh6tYQhSiyGKA1jiBIj2w7C2VyvQSehNugKVIPFiLwMuQKVqvFVWwuDdNerNQxRYjFEaRhDlBjZdhDO1nr1koQaU9B6eFYjzCp4ukwt46uTJPybClsYpKterWKIEoshSsMYosTItoNwNtZb5ayEKyRAWTIwQCU6vmpuYZCOerWMIUoshigNY4gSI9sOwtlWr7OyEjtdlbJmmoU52lvOJV3jq/YWBqmuV+sYosRiiJIk9Pb24sqVKwCAGzduYHh4GJs3b47r7y9duhTz64eHhzE8PJz0djNEiZFtB+Fsq7d1QwX21lT4A1Rxjvqvroga36oCg+pbGKSy3kzAECVW1oeow4cP48aNGzh8+DAkScLmzZtx4cIFXL58ed6/6+7uxvDwMG7cuIFLly4BQEyf19vbCwALvn8sGKLEyLaDcDbVW56nx55qhz9EleVm7hWoeMe30WLAGxpoYZCqejMFQ5RYWR+iLl26hP7+/rCfT01N4d577436d/39/ejv7/dfsYolRG3evBlTU1MxhbRYMESJkW0H4Wyp17ceni9EOfIyP0DFOr5aamGQinozCUOUWFkfoqKFn+HhYQwNDSX9PsEuXbqEgYEBDA0NMURpSLYdhLOh3oKg9fD2VDvQVl2pqVtU6RxfrbUwSLbeTMMQJVZWh6h7770XU1NTEX83NDQU1zynhUJUb2+vPzgxRGlLth2EM71eo06SdSPvcFVgXQbXG2yN3gD7+o0ocdVjjU5+5U0nSThep70WBgvJ9O9zKIYosbI6RB0+fDhqmIk36MwXony38bq7uxN672gYosTItoNwJter00moDmplUG8xwuXM3Hp9VhnzscxUgiW2Kphrt8FStx1LbE6syC/EGp0eubrwFgYj222aaGGwkEz+PkfCECUWQ5SAEOW7jZfIe2/ZsgUPPPBARL/4xS/Q398Pu90uzLp16/what26dUI/WykNDQ1obGxUfDtYb/KaHXbscgZUlWVuvcUlpbCsXY9cZz1y1jX5lW/pxNqtt/j/f9GGRvy6fQPm9pX5A9RvWktQXlKseA2pkKnjG019fT2ampoU+Vylz+lKYIhKc4gKvo2XyHt/5Stfwa9+9auIfvvb3+LJJ59EbW2tMC0tLf4Q1dLSIvSzldLe3o729nbFt4P1JufmTdXY37DBb8emmoysd8PGBjgatsHe1B5Rfcft2NixH/amdmzc0obTe1rwu1ub8f92N+GVfS78+44q1KmgjlTJtPFdSFtbG3bt2qXI5yp9TldC1oeoK1euRPxdKuZEbd68GTdu3EB/fz8OHz7sd+HCBVy5cgWHDx+e9wnAhfB2nhjZdjsgE+u1ep/E83HmB+YDZUK9ayQdVuZasNSyFottzjBLrBVYkWfDGr3BX29tkRW/7dqI393ajN/d2oznu5uwq6YaS6yVntdK2r+VlynjGw/ezhMrq0OUJEW/gjQ0NJT003n9/f24fPlymKmpKdy4cQOXL19OqukmQ5QY2XYQzrR6c/USGrxP4jVaDHCZDLIn8bRc72p9DpbnF2NJhOC02ObEMnMZVuWYIAUFosrKSvRsqvC3MLi2z4kLezehYb0rJHhlRpjS8vgmgiFKrKwPUVeuXEFvb2/MP48m1mabksSJ5VqTbQfhTKrXoJOw0RIIUBstRui1Xq9Oh5U5ZiwzlUa56lSJFQVFWK03Rvz7RxrXRmxhsCrHhKUWR+T303CY0tz4JokhSqysD1G+JV+Cl3np7+8Pu813+PDheZeCYYjKXNl2EM6UenWSJFtUuMFiRK5eu/Wu1huxoqAYS6yVEcPTUnM5VuaYIemih53vVhcs2MJgVe58YcqquTCllfFNFYYosbI+REmShIGBAUxNTeHy5cu4cuUKLl++HDZX6caNG7In7EIxRGWubDsIZ0q9zny9bB6U2RD55K/qenU6rMoxYZm5PPJVJ5sTywuKsdqwcDfx0B5QF1sLUTjPOoEr570yZYWk00aHd1WPbxowRInFEBXk8OHD/l5OWsAQJUa2HYQzoV57rjxAleRGDwtqrHeN3ogV+YVYYq2IfNXJ6sDKPGtYw8xofrzJLA9QbaUxb8vKHBOWRtiOJdZKrMhVf5hS4/imE0OUWAxRGsYQJUa2HYS1Xq855Em8hTpuq6deHVblFESf62SrwnJTCVYZYl8EWK+T8EyjRRagnt9ZCldVvPXqvGEqypUpFYcp9YyvGAxRYjFEaRhDlBjZdhDWcr25Ogn1QRPJq00G6HTqrneN3oAVeTYssUS76lThmYuki2/5FYNOwi9DupCfbrJgXVId2j2T2iNfmarAilyL6sKU0uMrGkOUWAxRGsYQJUa2HYS1Wq9eklBnDnoSz2yAcYEApWS9wUuxRGxPYCrFKmN+Qu9t1El4dos8QJ2qN0OXsnrnD1MrVTRnSqvf50QxRInFEKVhDFFiZNtBWKv1bgh6Eq/RakR+hCfxlK53jU6PFbnWiOEj0BSzEGuitCeIRZ5ewnNbbbIAdbzOlKZ6dViZu1CYUvZpPq1+n+P9Xq3MMWG5qQSFGxoZogRiiNIwhigxsuEgrPV6HfkG2TyoeBbOFVHvamM+ls931SlCU8xEFBh0GGktlAWoo66C9Ner83ZMV2GY0uL3OabvlCEHK/KsWGouk+1vc802OKvWCd8ehiiGKM1hiBIjUw/CmVJvYY78Sbyy3PhuI6WrXs9SLNaIbQL8E7LzozfFjJfZIGF0hzxAHaoKvx2Y1vH1hqlI87uWWCqwMtciPExp7fscfd/qscqY7+lQH2X+3GKbE6aarXBsqBW+fQxRDFGawxAlRsYchDOwXpNBh8agJV2q8uOfh5PqelcbcrG8wB51KZal5jKszDGlNEwUGnX4w82BAPXWXju+WhH5KT4h46uiMKWl73OoNXoDVuZasMxUGvX75P9eWRxYkV+EsqoNqFrHK1GiMERpGEOUGFo+CGdyvTl6CfVBV6BqzQboY5hIno561/jmBs3XFDO/CKv1OSnfD/ZcPV5uK/IHqP+71479ZdGbbwodXxWEKa18n31WG/OwIr8w6mLSwS0vlpnLsDLPKruayYnlYjFEaRhDlBhaOwhnQ716nQ615kCA2mQ2ICfGieSprNezAHBR9KtOlrVYmWtJ21IpZbl6vNIeCFCzXXZ02ucPaoqMr06HlXnWiM1Dl1gcaQ1Tav8+r5E8XemXF9ijLukTPL9seUExVuUURH36kSFKLIYoDWOIEkPtB+FsrHd9gfxJvIIoS7qkpV6dt/FkyIRe2VWnAjtWx9EUMxGluTr8ZVdQgNpjx86iha90KTq+84Sppdb0XJlS4/d5td6IFbkWLDOXRX3YIHD7txwr8mwxLe0jSQxRojFEaRhDlBhqPAhnc73lefKJ5IU5yfUjirXe1XojVuQXRV8A2BLfUizJWF+gx2sdxf4Adf0WOzZbY2vGqYrx1emxItcyT5gyI9knFdVVrw6rjHlYUVActb1F8AMHy00lWJljSui7xBAlFkOUhjFEiaGKgzDrhSRJsIUs6bI2L/nAMn+9vgWAo1118izFsjrBppiJ2Gg2YKrT7g9QU512bDTH3s1cVePr7ZsVKZgutVZgZU7yYUqpej29m8xYVlAS86Rwz/couXoZosRiiNIwhigxVHXSyeJ68/WS7Em89QusiZdMvQsvAJzYUizJarQYcP2WQIB6raMY6wvU0dIhKWkMUyLrXW3IxYo8W9QHDIJv+S4zlXrmy6WoxYUkSVheYEde3U4UbGrH8gK70DFkiGKI0hyGKDFUedLJsnqNOs8VGPmTeKm/3bPKGH0B4MU2J5aZShJeiiVZO4qM+P+6AgHqlfYiVKqgpUNK6fRYkZfaMJXevlh6rMopwPKC4qiBO3gC/fL8YqwyRp8Unqgl1kq8f+dRLLrzFzLv33kUS6yVQsaOIYohSnMYosRQ9UknC+rV6SRUBy3pUm8xIFefusnHFc51KHVtSutSLMlqKzJiNihAvdxWFHdTUbWObyRrJN08Ycrh6bMVY5hKdb1r9MbYezeZyrAi15qW1hY+X7LX4q9u/UlYgPL5q1t/gs+Xt6R9zBiiGKI0hyFKDC2cdDK53qqQJ/FMSTyJF2plnhXmmq2w1G0Pv+qUoqVYkrWvNAdzewIB6g83F6IwjmVt1D6+8/GEKVvkMGXxhal016sL6t0Uufu8fFK4HatyE5sUHq9VxoJ5A1RwkEr37T2GKIYozWGIEkNLJ51Mq7ckVz6RvCgnNYFmjd7onyxurt3mD1G+pViUvOoU7MDaPLj3BgLU6I5CmA2ZM74xj1cSYSqReoMX9F2od9NSy1qsyC/EamN6W1pE8tGGf1gwQPl8uOWBtG4LQxRDlOYwRImhxZNOJtRrNsgDlCM/NZO4V+aYZCdGc+022Gq3pnwplmR9tSIPbwUFqPPbbEn1w1Lb+CYikTAVewuLHKzItWKpKfKTmPJJ4SVYmWvGGr3YBwtC/fXuPiy68z9jClHv2vOjtG4LQxRDlOYwRImh5ZOOVuvN1UtosASexNtgMkCX5Huu0emxzFQSdlIsqm5CpQKr3s/nUFW+bCHhZ7dYUzYPTA3jm6w1Oj1W5BVGnJO01OLw3oZdoF6dzrugb9GCvZuWWiuwPL/I81CBQkF7tSEXi21V+GzlDnxs0wF8oPURLLrjNBbdERqYTkcNUuncPoYohijNYYgSIxNOOlqqVy9J2BgUoOrMRuiTfM9Vxvywp6eWWCuxMsekeL2hvlNtkgWoX7ZYYUhgTUC1jm8qrdHpPa0ootxmWxUyvp4Ffc1YZpq/d5NvXboVuRbZunQiRApL7+rq9wSmGG/dMUSJwxClYQxRYmTSSUft9eokCS7Zk3hG5CYTIHR6LM8vjjBpvNw/70lN4/vEJrMsQD3TaEloUWW1jm+6zBemrNWbUexqXLh3k7USywvsWJVTkLa1DoOtNuRiceE6fLby5kBY2vOjxENS2BUpuQ9uP5zWehiiGKI0hyFKjEw86ai1Xme+fEkXcxJPoa025IXdpllic2Jlnvx7q4bx1UkSTtXLA9QTm8xJ38JU2/imW6QwFfzgQNjVqjjXpUtE4MpSSFiK88rS2/b/HO/pPI4Pbftn3FR3Jz7n2IbPVLXH/Pdfstemdd8zRDFEqdI999yD3/zmNxGdO3cOTz75JGpra4VpaWnxh6iWlhahn62U9vZ2tLe3K74dmV5v66Ya7G/Y4Ne6qSbB96pDZf0W2JvaZcoab4arrl419fpsqqvFcJtDFqAGdlRk3PiKVFO3EZX1W1HS1I6a3XeiZvedsDe1o6SpHY6GVlRtbEZ1bV1KP9O1sQH2pl0wbjuAxW3fwE23fA/vvfXHcYelv9r/M3xo3+P4zO5HseLm+5G/5XaUN+5ATd3GiJ/7uY5vLfien+v4Vtr3eVtbm+LnSyUwRKlcc3Mzvva1r0V0+vRp9Pf3w263C7Nu3Tp/iFq3bp3Qz1ZKQ0MDGhsbFd+OTK63qsyOXc6AprXFCb1PUWk58pybkLOuScbs2AC7vUQ19fqUl9jx3A67LEB9vyHzxlcpxSWlWN+yAxtaboatzJGS9ywsXYucdc1YtnEvPrf1a/hI+7fxnn0n4w5L77j9p/hA5w/widaH8KWmA1hT04aCihpE+57O5zPbvh71cz6z7etC9nV9fb3i50slMERpGG/niZHJtz/UUG+uXof6oInkrgSfxFuZZw2bE7PUWoHVhvn79yg1vnl6Cc9ttckC1P2V6e81xO9zbFJ1G+4d3f+O97c9ho803YtPrb8FXyzZhBX5hSmvc3mBHZ/a0IWPdxzFTbsfw6c2dAldP4+38xiiNIchSgyedNJHL0moDVoTb6Ml/ifxPI0zwycNL88vjmmNMiXGt8Cgw0hroT88vbXXjq9WiGnWyO+zXKrC0jv3Pom/2XEEH224B59ZtwtfKq6RtVoQpaKiAlVVVYp8rtJjrQSGKA1jiBKDJ5302RD0JF6DxYhcfXx/H9o407fWXTyLBIseX6tRh9EdgQD1f/fasb8sfRObla5Xab56UxKW7vgPvKurHx9ofQQf2/Q/8FnnTiwuWo/VCi1KHQlDlFgMURrGECVGtp500v05jtAn8eLoxh2tceYyU0nca5aJHF97rh5jO4v8AWpujx2d9vQtTqt0vSKszLNiqcWBLxXX4O/XbsGnq3bhEzW34abaO3BT7R34/I4H8dfdP467ZcC7O3+ID277Z3y87i58rqIVS2xVwntGJYIhSiyGKA1jiBIj0046aqi3MEceoEriWBPP0zgz9OpTZUyL0So5vmW5erzSHghQN/bY0VYk/qSs5u/zqhwTlplK8eXCDfhCeRM+W9WGT1bvw8c3HcCHm7+OD2w/jPe1fQfv7no8poV3Y/HXHT/A3249hJtqbsfn127GUotD8f2QDIYosRiiNIwhSgw1n3S0WK/JoEOjNTCRvKogxvXHdHosL4jUOLMsqQWDRYyvM1+PiV3F/gB1/RY7NluVWXdN1Pd5tSEXy/OLsMRWhS+WbsLnKlrxqQ234ON1d+Lvmr6GD219CO/feRTv6fw3vGPfU3jbHf+RklAU+Um4Z/De9l58uOUBfLJ6H75Q3oRlBSUxzZnTGoYosRiiNIwhSgyGqNTJ0UuoD7oC5TIZoIuhI3esjTPVVq8kSagxGXBtdyBATd9SjI1m5RauTaTeNZLOszivxYEv2Ws9t83WdeCmmtvx0YZ78LdbvoG/2fEt/PWuY3jnnifw9tsH0xaIFt3xH3jHrU/j3Z0/xPvavoMPbj+MjzTfh49vOoBPbtiDz1bejC+UNmBx4XosN5WgvMqVVf9+GaLEYojSMIYoMRiiUkOvC3kSz2xYeE04nQ4r8gsjrouWqvkp6RzfjWYDpm8JBKhru4tRY1IuQHnqdaJ8fS2Wmcvw5SIXPl/WhM842/DJ6m58rP4r+HDL1/GB7d/E+9p7PbfNbhtIXyC68xd4+20/xbv2/Ajv3XUMH9jxLXx48z/io/UH8YmaW/GZql34/NrN+HJxDZaay7Ey1xL31aNs+/fLECUWQ5SGMUSJkW0H4XTVWxU0kbzBakT+Ak/irdbnYKllbdjCsCvyCiGlcG2zdNW72WrA9VsCjTQndhXDma/c7aM1eiM+taEL77r139MWiN62/+d4574f4z27/xXvv/nb+NDWf8LfNfbgpro78Kn1nficYxu+WLIRS6yVWJFflNRtWKXHV60YosRiiNIwhigxsu0gnI56y/LkE8mtC6yJtyLXEqFxpmPBxplqqbe1KAc39gQC1CvtRSjLVS5AfXr9brxzb/xPqP3VrU/j3becwPvav4cPbD+MDzffj49vvBufdO3DZ5078YXyJny5cD2WmUqxylig+HdX1PiqGUOUWAxRGsYQJUa2HYRTXa/NqJMFqPnCRPTGmUVpmwSc6no77TmY7QoEqLGdRbArFKA+69zp6YUUEo7ev+9H+Nst38BHG/4Bn6i5DZ+u2oW/X7sFXyquwVKLIyVzzdQi2/79MkSJxRClYQxRYmTbQTiV9ebrJfmTePPczlqZYw67+hRv40yl691flov/uzcQoEZ3FC541S31dPicYxvefcuJsPD0zj0nsar5DlQ6xZ9klZJt/34ZosRiiNIwhigxsu0gnKp6jTrPxGpfgKo2GaCPMJHc0zizNCWNM5Ws98DaPLwVFKBGWgtREEcD0VT4/NoWvGf3v4Y/4t/97/jUhj1Yozfy+5zhGKLEYojSMIYoMbLtIJyKenU6CdVBgBHsEgAAIABJREFUS7psMhtgjBCgUt04U6l676+UB6jnttqQF+cSNsn4QmkD3ttxLPzJt1sHcFPtfqw2BuaS8fuc2RiixGKI0jCGKDGy7SCcinqrCgIBqtFqDL8iM2/jTLEtAJKt91/WF/jDE/aV4Jct1oiBMR2+ZK/F+9p7w8PT/p/ho/VfibgALr/PmY0hSiyGKA1jiBIj2w7CydZbkiOfSG4LmRO02hilcWauMt+nZOo9XmeSBajTTZaItyxTbYnNiQ9u/efwFgN3/Ac+0nwfVswzMZzf58zGECUWQ5SGMUSJkW0H4WTqNRvkAao8L2hOU7TGmeZyRRd2TaRenSThiU1mWYA6VW+GLs3busxUGjE8LbrjND605RCWF9jTOr5alG31MkSJxRClYQxRYmTbQTjRenP1EhosgSfx1getiRe9caYNqWycKaJevU7CM40WWYB6YpM5rdu4Ir8QH27+esT15T7Q+giWWmM/gfH7nNkYosRiiNIwhigxsu0gnEi9eknCxqAAVWs2QK/zhKMVuVYssVVFaJyZq3it8dZr0En4ZYtVFqAec6VvEvyqHBM+Wv+ViI0w39f2HXy5uFrI+GpZttXLECUWQ5SGMUSJkW0H4Xjr1UkSXEFP4tVbDMjRK9M4M5315up1eHaLPEAdqkpPD6vVxjzcVHsH3n5r+Lp1f737X/GFskZh46t12VYvQ5RYDFEaxhAlRrYdhOOt1xm0Jl6j1QiTQRe5caYl/Y0z01Vvnl7C+W02f3h6a68dX61I/RI0nvXt9uAd3eHr272rqx+fq9iOZG9/8vuc2RiixGKIkiT09vbiypUrAIAbN25geHgYmzdvjuvvL126FPX3hw8fxuXLl+H779KlS7j33nuT3m6GKDGy7SAcT732XPmaeLYcQ+TGmQV2rFF47lOi9ZoNEkZaC/0Byr3XjgNrUxug1kg6fLaqDe/c80R4l/F9T+HT63ZjjS41rR/4fc5sDFFiZX2IOnz4MG7cuIHDhw9DkiRs3rwZFy5cwOXLl+f9u+7ubgwPD+PGjRu4dOkSAER8XW9vr+z9JUnCwMAAbty4ge7u7qS2nSFKjGw7CMdar9moky3pUl6QG7Fx5qpccY0zU11voVGHP9wcCFBze+zYV5qT0s//+7Wb8Z5bfhhh8d+f4BPVt2K1PrWfx+9zZmOIEivrQ9SlS5fQ398f9vOpqal5rxb19/ejv7/ff8UqWoiampqSBSifCxcuYGhoKKltZ4gSI9sOwrHUm6vXoT5oIvk6c54qGmemsl57rh4vtxX5A9Rslx1tRalrxfDFko14764IXcZvH8THNh7AKmOBYuObSbKtXoYosbI+REULP8PDw3GFnGjvE+3nQ0NDDFEakW0H4YXq1UsSaoPWxKu15mGZrTKkcaZF8TqSqdeRp8cr7YEANdNlR2tRaq4ILbE58b6270RslPl3TV9L+77j9zmzMUSJldUh6t5778XU1FTE3w0NDc07zylUtLAUzYULFzAwMJDU9jNEiZFtB+GF6t0QvCaeJQerbQ5Z48w1CjbOTEW96wv0eK2j2B+gpm8pRqMl+Stqy8zl+OC2yI0y/3ZrbI0yRYxvpsm2ehmixMrqEOWb8B3pd0NDQwvOiwoWT4jq7u7GjRs34pq8HglDlBjZdhCer961efKJ5AZrmaoaZyZbb43JgKnOwELCU5121JiSC1Ar8gvx4ZYojTJ3/EtcjTLTPb6ZKNvqZYgSiyFKgRB15coV9Pb2xvTaDRs2oLOzM6JnnnkGJ06cQH5+vjClpaX+EFVaWir0s5VSXV2NmpoaxbdDZL3V1dVhPy+3FGBbicmvpNSBVWU1WF2yHrlmm+LbnWy920pMeLMrEKD+9247NhYVJPy+RmsJbmruwdv3/yy8UWbHD7CyfKOqxjdTZVu9LpdLkeOVy+VS/JyuBIYowSHqwoULGB4ejvl9e3p68Lvf/S6qJ598ErW1tcK0tLT4Q1RLS4vQz1ZKe3s72tvbFd8OJett3LgRtze4sL9hA/Y3bMCOxgbYm9pRUb8VNbV1im9zsvU+uGsLbuwt9Qeoq7eUoX1TdULvt2FjA5btfADv2D8YFp4+2P0jmLbcqni92f59zmRtbW3YtWuXIp+r9DldCVkfoq5cuRLxd+mYEzU8PIwLFy7EtY0mkwklJSURPfnkk7wSJUC2X4kqsNnRUmLxX4GqKy3CmpINyDEXKr6tqXBP4zrM7g10If9zezEqrPFfgcozWfC5utsiNsp8954f4Usb2pGfn/iVrXSNb6bLtnp5JUqsrA5RkpS6p+cWClH9/f24cuVK0vOgQt+Tc6LSL9vmVPjqXaMzYIWpBNXWvMCTeJZcrFRx48x47SvNkS3j8sKOQhQa46ttjaTDZ5yRG2W+Y99T+PT61DXKTOX4Kr0drDc9OCdKrKwPUdHmJ8Uzb0mS5g9R6QhQvvdliEq/bDsIV1ZWonx9DZZYK1FhNQetiWeEMS89vYuUsL8sF+69gTlQI62FMBvie4+/X7sF7+6M0CjztgF8ouY21SyyHDq+2fZ9zqZ6GaLEyvoQ5VvyJTjg+EJP8OsOHz48bwiKFqJ8bRSS7U4eCUOUGFl1ENbpULShAZa67SiyFsqexDPnqOdqSrJ6KvJkV6AutpWiwBD7FagvlmyK3ihz0/9IW6PMVMiq73MW1ssQJVbWhyhJ8izDMjU1hcuXL+PKlSu4fPlyWLfyGzduzNvXKVqICl4zL9J/kbqZx4ohSoxsOggvzy+CuXYbqmqbZAGqJCczbt9JkoRDVfmyAPX8zlK4qmIb3/kaZX6k6WtYkaf+fxPZ9H3OxnoZosRiiApy+PDhtFwxSheGKDGy5SC8yuhZuqWstgVdNZX+AFVVkDlXoL7tKpAFqF+2WLHOufD4ztco80NbxDXKTIVs+T5na70MUWIxRGkYQ5QY2XAQXqPTY4mlAsttFeiocWJvTQUaLQa4kmw0qSbH60yyAPVMowV63fzj62uUuShCo8y/af2W8EaZqZAN3+dsrpchSiyGKA1jiBIjGw7CywpKsNjmRKXVjD3VDuytqcBGixFGnfLbliydJOFUvVkWoE7Vm6GbZ3xX5pjx0YZ/wNsiNMp8765j+HJxteJ1JSobvs/ZXC9DlFgMURrGECVGph+EV+aYsNjmRIHVjkaLwR+i4plorVZ6nYTTTRZZgDpeZ4o6vquNebip7g68/bafhoWn93T+Gz5f3qx4TcnK9O9zttfLECUWQ5SGMUSJkckH4TV6A5ZYK7HCVoFNlhx/iNq6oVLxbUuWUSfhly1WWYB6dEP4U3OVlZWoqFqPT7n24h23Ph0Wnt6150f4bOUOSDq94jWlQiZ/n1kvQ5RoDFEaxhAlRiYfhJeZy7HY5kSVtcA/kbzD5UCVU9shKk8v4bmtNlmAOlSVH/G1q5tvx3tuPRXeKLP7FD69rkPxWlItk7/PrJchSjSGKA1jiBIjUw/CK/OsWGxzwuy9jedTU6XtegsMOoy0FvrD01t77fhqRV7Y61bkF+L9bY9FbJR5U83tqmyUmQqZ+n1mvR4MUWIxRGkYQ5QYmXgQXq3PwRKbEyttDtRbjP4AtTZPr+l6rUYdRncEApR7rx37y8LD0OcqW/FXtw3IG2Xu/xk+Vv8VrMoxCd9ukbQ8vqx3YQxRYjFEaRhDlBgZdxDW6bDUshaLbU6sC7qNV2s2QLfAI/9qZs/VY2xnkT9Aze2xY19pjuw1K3NM+ODW8H5Pf7/jG1iRX6h4DSJodXxZb2wYosRiiNIwhigxMu0gvCK/EIttTlisxbLbeHl67dbryNPjlfZAgJrtsqOtyCh7zRdK6vGOfU/JwtO7bzkBS+02zdWbDC2OL+uNHUOUWAxRGsYQJUYmHYRXGzxdyVeF3MYryw08eaa1ep35erzWUewPUDNddrQWBa5ArTbk4iPN94V1Gv+7hq9itd6ouXqTxXozG0OUWAxRGsYQJUamHITXSDostVZgsc2J9db8wERyk8HfeFJr9daYDLi2OxCgrt/imSTv+/2Xi1x4V1e/LEC9c99T+KK9TpP1pgLrzWwMUWIxRGkYQ5QYmXIQXl5gx2KbEzZrUeA2ntWIXL026220GDB9SyBATXXasdHsCVBrdAZ8bOOBsOVa/nbLN7DKKO8VpZV6U4X1ZjaGKLEYojSMIUqMTDgIrzIWYLHNidW2tWgIuo1XkhvelVwL9W62GjDTZfcHqGu7i7G+wHNLcqm1Au/Z/a/ytgW3/gSfX7s5Y8c3Hqw3szFEicUQpWEMUWJo/SC8RqfHEmsllticcAXdxou2uLDa620rMuLGnkCAmthVDGe+HpJOj09W7wtb7+5vbv42VuRG/66qvd5UY72ZjSFKLIYoDWOIEkPrB+FlplIstjlRaC30B6gGqxG5+shr46m53n2lOZgLClAvtxWhLFeP5fnFeF/7d+V9n25/Bp9etzvjxzderDezMUSJxRClYQxRYmj5ILwy14zFNifWhNzGs+dGXwdOrfXuL8uFe28gQI3tLEKhUYfPONvCFgx+767vY7mpJOPHNxGsN7MxRInFEKVhDFFiaPUgvEZvxBKbE0tsTlRb8xa8jafmer9akYe3ggLU6I5CFBRY8IEd35KFp7fd8R+4qeZ2rJEiX2XTSr3pxHozG0OUWAxRGsYQJYZWD8JLvYsLFwffxrMYkRPlNp5a6z1UlS9bSHiktRAr1jbiHbc+HdY4c4kt/u1WW73pxnozG0OUWAxRGsYQJYYWD8Ir8mxYbHNCZy2XdSUvzln4Co2a6j3qKpAFqN9uK8InN98f1jjzow3/gNV6Y0KfoaZ6RWC9mY0hSiyGKA1jiBJDawfh1YYcLLY5sdTmRI0lcBtvwwK38dRW7/E6kyxAnWktx3v3PiFvnLn3SXypuCarxjdZrDezMUSJxRClYQxRYmjqIKzTYanFgcU2J+xWmz9A1VuMMOq0Ua9OknCq3iwLUE+3b8I77vi5vHHm5gexypCXXeObAqw3szFEicUQpWEMUWJo6SC8PL8Ii21O6G3y23iFRm1MtDboJJxussgC1ON72/G2O0/H1Dgz08eX9bLehTBEicUQpXJ79+7FE088EdHZs2fxxBNPoLKyUpi6ujp/iKqrqxP62UrZtm0btm/frvh2LKR8nQvm2m2w1m7Drmon9lQ7sKfagZtdFXHXu23bNuHbv95Zied3lsoC1Ldvu00WoD66+7soWb8x5eOrRL1KYb2ZbevWrYrUu3XrVsXPl0pgiFK53bt349ixYxGdOXOGIUoALYSoCmcVLDVbYK7dhsaaGn+A6qx2YJ0z/npFH4RdzgpcCAlQ99/2lcDVp9ufwcqWO9M2vtl0kmW9mY0hSiyGKA3j7TwxKivVfztgWUEJFtucMFjLZLfxbDnRm2qqpV6zQcJIa6EsQO27/esJNc7M1PFlvaw3VrydJxZDlIYxRImh9oPwyhyT92m8StRZcv0Bqio//gAlul6rUYc/3BwIUG/tLUHH7f/oaZy5/+f4RM2tcTXOVHu9asB6MxtDlFgMURrGECWGmg/Ca/QGLLFWYrHNiTKr1R+gNpkNMMT4NJ5S9dpz9RjbWSQLUM37v4lFd/4C7+n8IZZaxRyU1Ty+rJf1xoshSiyGKA1jiBJDzQfhZd6u5Dkht/EshsSv3oio15Gnxyu7Asu4zO0rxcbb/8XTOLP+K1iTYONMtdarJqw3szFEicUQpWEMUWKo9SC8Ms+KxTYnltkqsdGS4w9QlQnexhNVrzNfj6udZf4A9d97y1Cx/7GUNM5UY71qw3ozG0OUWAxRGsYQJYYaD8Kr9TlYYnNisc2JtVaLP0BtNBugV3G91dYC/O89Ff4ANbNvLUr2fxcfbnkgJY0z1VavGrHezMYQJRZDlIYxRImhuoOwToellrVYbHMi11oqu41njqOppuh6qx2VeH2vwx+gru9zwNx9FF8ob+L4sl7WmyIMUWIxRGkYQ5QYajsIr8gvxGKbE8tDbuNV5CV3Gy9d9a7RGVDZdAuu7wsEqNf3VcK282tYmWtRfH+qbXxZL+tNBkOUWAxRGsYQJYaaDsKrDXlY7L2NV2E1B27jWYzQ61LTCiCV9S41l6Oi8x8xs2+tP0Bd3VcFe/V2xfelGseX9bLeZDFEicUQpWEMUWKo5SC8RtJhqbUCi21O5FtLZLfxTEk8jZeeenX45IY9cN3+CP57b2AS+at7qlBeWKz4vlTj+LJe1psKDFFiMURpGEOUGGo5CC8vsHtv41VgU9BtPEeST+Olut7l+cV4f9tjaN7/TbiDupC/3OmAI19c6wKtjS/rZb2pwBAlFkOUhjFEiaGGg/AqY4H/Nl6l1eQPUHVmA/QJNtVMR72fde7E228dQOvt/4S39gYC1OVdpbDnpjbsqaFeLWK9mY0hSiyGKA1jiBJD6YPwGp3e35XcZLXLbuMVpPA2XjL1rsy14APbD2PRnb/Avtu/LlsH7/c3F6IwBU8NZur4sl7Wm0oMUWIxRGkYQ5QYSh+El5lKsdjmxApbBer///buPDqus0wTuJ2VhH1JOiQQyIIt21pqV+2SqiRZqy1rsZaovMaWLNlWZFsyBDIQ0dDMJDRFGkJCR4asFLGTkCNCcNJ1Mgk5oudMaJ35ozk15wxQp2FITQ/T1AzppjJMeOYPua50a5FKparv6n73yTm/w6FUy33ryt99dL/vvtdrUwJUc4muxltvvbc2D+GKU89j09mXMXP6HlWA+vnhOnis2u/Djbx/WS/rLSWGKLEYonSMIUoMLQfhSodHmcbr8LmUANXjscJc4mm8tdZbbavFh+74MjadfRmbzr6MB0+fUQWonx3wl+VMmUz7l/Wy3lJjiBKLIUrHGKLE0GoQrrHYlK7kHl/D0jSez4Zai7b13t7QjatOPo1NZ1/G5rMvYfb0pCpA/af9fjgsGz9Aabl/WS/rLQeGKLEYonSMIUoMrQbhiks3F670t6im8ZrKvEB7pXprLDZc3/85bJq+iE1nX8YVZy/i6VNjqgD1yrAPtjKdJZNp/7Je1lsODFFiMUTpGEOUGFoMwjtq/co0XueyabxutxVmjeqt8LXiXeNPKtN3V579MV6cPKQKUC8Mekt+taCM+5f1st5yYYgSiyFKxxiixBA9CFdb7UqA8mVM4znKOI2Xr94akxkf7T6FzVM/VgLUNWd/hFdODKkC1HP9nrIHPBn2r9ZYr9wYosRiiNIxhigxhA7CZjMqvC3Y4m9HVcY0XtAuZo3R8nq3u4O4dvScEp42nX0Z7z/zHH52rFMVoJ7odWu+n3SxfzcA1is3hiixGKJ0jCFKDJGD8HZnvXIWapfXqQSoLrdVeL0f6xjFZad/qApQN4w/gtiRgCpAPdTl0nwf6WX/bgSsV24MUWIxRK3B7OwsEokEACCVSmF+fh6hUGhNr4/FYiXbHoYoMUQNwlW2pZsL+331SoAa8NmEXukW3NWHj4yrzz5tmr6IHYPT+MWRBlWAuq/Dqfn+0cv+3ShYr9wYosRiiCpQOBxGKpVCOByGyWRCKBTCwsIC4vH4iq+bnJzE/Pw8UqkUYrEYAJRsmxiixBAxCC92JV+8uXC1fycGlk3jibxdyu3BXlx5Zk4VoK6aOI+65t34zUi9Ep7+PBHAF1prNd83etm/GwnrlRtDlFgMUQWKxWKIRCJZjyeTSczMzOR9XSQSQSQSUc5YMUTpj4hBeJsriC3+dmz1t2OPT5tpvI93jKjPPp19GR8emkGH14l/PrZ0BuqdiQDu3ilHgBK1fzcS1is3hiixGKIKlC/8zM/PIxqNrvt9isEQJUa5B+FKu1uZxqv31S1N43ltsAuaxru+/3Oq8HTNqWdxa9Mgut1WJMeX1kD9v4kA7mq0a75P9LR/NxrWKzeGKLEYogowMzODZDKZ82fRaHRN65wYovSnnINwjcWq3Fy4xr8TA8tuLlwv4Gq8aqsD7z30DVWA+tD4Oezs3INBrxX/5/jSGai3TwQwHpArQJV7/25ErFduDFFiMUQVIBwO5137FI1GV10XtRxDlP6UcxDedqkr+VZ/O7p9tUqA2i1gGm+Hsw7XjD2mDlB3fBmtbe2Y7m3Fv51YOgP1bycCOFQvX4Aq9/7diFiv3BiixGKIKoCWIaqurg67du3K6dlnn8VTTz0Fp9MpTGNjoxKiGhsbhX62Vvbs2YPu7u6Sv6/V34iqpm5UNXWjpbEJB4JuHAi6EQq44XWVt6aqpm5cOfmcEp42T1/EJ3sm4XQ68fnBTvzfk0tX4L11PIADQbfm+6Gc+3fPnj2abwfrZb2l0NXVVZbxqpDP1fpYrQWGqAJoGaLuvfdevPHGG3lduHABPT09wgwPDyshanh4WOhna2VkZAQjIyMlfc+u3r0IDo0gMDSCzsFDmBrYrTjQ113Wepz7zuDy6aXu41dM/Qi+0AR6enowc8cuVQuDP5xsxOmB3ZrvA73t342M9crt6NGjGB0d1eRztT5Wa4EhqgDhcBiJRCLnz8q9Jqq1tRUHDhzIaW5ujmeiBCj5mSiXCzWBXahq6kZNUzcGgz7lLFRvvaustXy8/9PYNP2Sqn1BTaADTqcTX+r0qgLU78cDGGgo7/ZsBEY7U8F65cYzUWIxRBUoX/iJRqO8Ok9ypV5TscNZp1yN1+j3K+ug9nqtsJbp5r01Fhs+uP8+1fqna0fPodK+eLuWb+52qQLU744H0eEU159Kpv270bFeuXFNlFgMUQVKJBKYnZ0t+PF8GKL0p5SDcLV1qSu5xd+8dHNhrxU+W3muxqu0e3DtyCOqAPWB/fejxmKDxWzCc/0eVYCKHwtieFeb5t+7HvevHrBeuTFEicUQVaD0LV+W3+YlEolkTfOFw+EVbwXDEKU/pRqEa0xmVFzqSl7hb0Ovz6EEqA5Xea7G2+ZpwlUT55fdvuUlfLTnDEwmExwWM17f51MFqDcO+NHT0Wqog47RDrKsV24MUWIxRK3B3Nwckskk4vE4EokE4vF4VrfyVCqFubm5vO/BEKU/pRqEt7sCylmoJp9vaRrPU55pvNsDvbj89NItXC6behG3NN8Bk8kEr82M/3KoThWgXhn2wWY23kGH9crNaPUyRInFEFWEcDiMyclJzbeDIUqMUgzCVTaXEqCsvibVNJ7XWvppvI93jGDz9MWlK/DuehZb/Ys1BO1m/OqIOkA9vdcDcwnr1RPWKzej1csQJRZDlI4xRImx3kF48ebCi13Jt/nb0LdsGq+t1Iu3zRZcN/gF1fqnd409hh21fphMJnS5rUiMqm8k/LVOZ0nr1RvWKzej1csQJRZDlI4xRImx3kF4m7tROQu10+dVAlSfxwpLCbez2labdQuX9x16ANVWB0wmE4Z8Vvzh+FIX8ncmgphqcpS8Xr1hvXIzWr0MUWIxROkYQ5QY6xmEKx0eJUDZM6bxPCW8Gm+7sx7vGn9CFaCu7/8cTKbFzxgP2PH2yaUA9ccTAYw05L6Ni9EOOqxXbkarlyFKLIYoHWOIEqPYQbjGYsPWSwFqm78Ne312JUC11JZuGm9L/S5cMfkD1S1cPtF6SPn5F1pr8c7EUoD6l7EG9HvzXw1otIMO65Wb0epliBKLIUrHGKLEKHYQrrh0c+Et/na0+DxL03heGyzm0pyF+kTLAWyeelEJUJefeh6fqu9Sfv5gRhPN347Wo3WVdVhGO+iwXrkZrV6GKLEYonSMIUqMYgbhHbV+JUA5fI2qaTx3ia7Gu6FnWjV9d/WJ72G7KwCTyZSziWbszjo02Ff/bKMddFiv3IxWL0OUWAxROsYQJcZaB+Fqq10JUNszp/FKcDVerlu4vOfIQ6iy1sJkyt1E8+/3++G0lKdevWO9cjNavQxRYjFE6RhDlBhrGoTNZlR4W5QQ1eZ1KQGq12OFZZ1NNXPdwuVDd3wZNZcWkOdqovnSkHdNVwEa7aDDeuVmtHoZosRiiNIxhigx1jIIb3fWKwHK5QuqpvFc65zGq/DszLiFy0XctPuk8vNcTTTP7XGVtV4ZsF65Ga1ehiixGKJ0jCFKjEIH4Spb7bJpvFb0+2xKgGpe59V4tzX247LTP1y6hcvpH+K2YJ/y81xNNL/UVlvWemXBeuVmtHoZosRiiNIxhigxChmEF7uStyohqt3rVAJUj8cK8zqm8W7adVx1C5crTz6NCk+T8vN9fpuqieafTgZwV2PuHlClqlcmrFduRquXIUoshigdY4gSo5BBeJsrqAQoj69haRrPZ0NtgQu6M9WYzPjwHX+pWv907eg5VNrdynPGA3a8fWIpQL11vAGH621lr1cmrFduRquXIUoshigdY4gSY7VBuNLuVgLUDn8rBpZN4zU6ipvGq7I58Z47v6UKUB/Yfz9qLEsBKbOJ5u/GGtDjyd9Es1T1yob1ys1o9TJEicUQpWMMUWKsNAjXWKzKzYW3+NvR6alVAlS3u7hAs91Zj6uPP6UKUDf0TKme860udRPNX4/UY2eJuqAb7aDDeuVmtHoZosRiiNIxhigxVhqEty3rSu711qmm8RxFTONl3cJl6kXc0nyH8vNcTTT/8XAd6gpoolmKemXEeuVmtHoZosRiiNIxhigx8g3ClbU+JUBV+ltU03jBIqbxMm/hcsWp57GlrlP5ea4mmq/v88Gxzt5ThdYrK9YrN6PVyxAlFkOUjjFEiZFrEK5ednPhLf527PYuTeN1FTGN9xe9n1ZN373r+JPY4axXfp6rieYLg951N+8stF6ZsV65Ga1ehiixGKJ0jCFKjKxB2GxGhWenEqD8Xr8SoAZ8NjgshU+tVVtseP/+v1YFqPfe+SCqbUs9nnI10Xy4y12y+latV3KsV25Gq5chSiyGKB1jiBIjcxDe4axTAlS1vwWDy6bxAmuYxqus9eHaY99RBajr+u+Bybz0HplNNN+ZCOALrcU10Sy2XtmxXrkZrV6GKLEYonSMIUqM5YNwtXWpK/kWfzu6vI6ipvG2eltx5cSFpQWX8QieAAAdY0lEQVTk0xdxc/sR1XMym2i+fSKA8UDxTTSLqdcIWK/cjFYvQ5RYDFE6xhAlhjIImy2oWNaVvN7rW5rG89pgL3Aa79amIVx25gUlQF1+eg63N3SrnpPZRPMPxwPY519fE80117sBvnvWy3pZ79owRInFEKVjDFFipAfh7a4GJUDV+HaqpvHqC2wxcFPXBDYtu4XLVSe/j23uRtVzMptoJkbri1qsvt56tf7eWS/rZb1rxxAlFkPUBnfgwAHcf//9OUWjUUQiEQQCAWE6OzuVENXZ2Sn0s7UyMDCAnqH9sHcOwd45BEfnEA60BTHaHsBoewD7Wld/j4ZAEDceuk+1/un949+Bv7ld9bxHBwOqBeT/NBpAb7P4egcHBzX/3lkv62W9a9ff34+hoSFNPlfr46UWGKI2uM985jOIRqM5/fSnP8WFCxfQ09MjzPDwsBKihoeHhX62Vo6MjKJ37CwCQyMIDI1g/8AApgZ2Y2pgN04PdGFvT/eKr9/VN4jrTnxXFaBuHnsQ3b19ynN6e7oRPdKqClD/dWwnQn0rv3c5jIyMYGRkRPPvnfWyXta7dkePHsXo6Kgmn6v18VILDFE6xuk8Meq6huDtPYgt/naYfE2qabw6+8pX4213B9W3cJm+iBu7JlTPydVE85Vh35paJZSS0aY/WK/cjFYvp/PEYojSMYao8qq21aLC0wxPzwF4ew9iq78dPV67EqA6XSsHqE817MHlp55XAtRlZ17ArY0DqufkaqL5XL8HZg3rNtpBh/XKzWj1MkSJxRClYwxR5VFjsWG7O6gsIk+HqKDbpQSovV4rrCt0C7+57TA2T/1YCVBXTjyDCm+L6jk7ay1ZTTT/ZpdL8/qNdtBhvXIzWr0MUWIxROkYQ1SJmS3YUetX9YFKh6iOrt6lmwt7rfDZ8k21mXF9392q9U/XHPsuKh1e1fO63Fb8bqxhWRPNIO7eWd4mmoUy2kGH9crNaPUyRInFEKVjDFGlU2l3Y6u3NStAbXM3obW9E2N7WpUA1e7K3W6g2urA+w5+XX0F3sEwqi3q/k5ZTTRPBjDSUP4mmoUy2kGH9crNaPUyRInFEKVjDFHrV211oMLTnBWeKrwtqLI5YTKZsH93Kya6F0PUXk/uabzKWh+uGXtMFaBu6D2b9bzMJprJ8QYM+cT1gCqE0Q46rFduRquXIUoshigdY4gqXo3Ziu2uQFZ42uprQ6XDB5NpcbquudaCk3talBDltWZP42XdwmXqRXxy576s52U20fztaD06nIXfa08Uox10WK/cjFYvQ5RYDFE6xhBVBLMZO2p92JoRnrb427HdWY+aSzf/tZkX1y0Neq1KiGrNEXgyb+FyxannsaWuM+t5D3W5VAvI/9uROjQU2OVcNKMddFiv3IxWL0OUWAxROsYQtTZVdrfq3nfKuidPs2rdksdqxt5li8hP7mnBnV2tsJjVoefGPXepbuHyruNPYoezXvUci9mE5/o9qgD1xgE/PHkXpmvPaAcd1is3o9XLECUWQ5SOMUQVptpiR4WnKXvdk68FVXZ1S4Emh0V1Fd6gz4Y7OltVg3CN2YoPhb6iWv/03jsfRLVNfXWdw2zKaqL50pAXthVaI2wERjvosF65Ga1ehiixGKJ0jCFqZTVmi+qmwcq6J387djh8MC07s2Q1m7DbbVUFqD6PFW6rWTUIV9ndePfRb6sC1HUDn4fJrJ7q89rM+MfD6h5QT+/1aP6dFMJoBx3WKzej1csQJRZDlI4xROVhNmOHw4utvrbsdU+uAGrM6qvh3FYz+jzqALXbvXQVXnoQ3uZpwlUnIksLyKcv4ub2I1mfn9lE888TAXy1w6n991Igox10WK/cjFYvQ5RYDFE6xhCVrcruQoWvJXvqztOMamt2L6ag3ay6F96g14omh/qsUltbG1x9R3D56TklQF1+eg63N3RnvV9mE80/nQxgqsmh+feyFkY76LBeuRmtXoYosRiidIwhakm1xYZtOdY9bfW2oMrhznq+xWRCp0u9/mmv1wpPRguD7a4Abhp5QDV9d9XJp1Hhacp6z8wmmn88EcDheltZ6i0nox10WK/cjFYvQ5RYDFE6xhB1ad2Tsx5b/R3Z655q/VlrlUwmE5wWM/q86rNPXW6LsuC7yu7GxzrH8O6RR1ThadPZl/Hukb9FlT07lGU20fyXsQb0ezdWE81CGe2gw3rlZrR6GaLEYojSMWOHKDMqHb7c657cQdRYcgeYgMOSNX23s9YCk8WGT+4M4f0Hw6obBy/3wdC/V/pILZfZRPPXI/U5e0rphdEOOqxXbkarlyFKLIYoHTNqiKqyOVHhzbfuKfdNfC0mEzqc6um7fq8NlsY9+PDQF1XrnTJdd+xhWIYmc77vw11u1RV4sTvrULdBm2gWymgHHdYrN6PVyxAlFkOUjhktRFVbbNjmzrHuydeKSnv+9gG1FhN6PUtnn3obg/AOTOA9J7+XNzhdO3oON+0aR5XdnXMQztVE8+/3++G0aP97sV5GO+iwXrkZrV6GKLEYonTMKCGqxmTGjnzrnpx1qDHlP/NTbzdjwGdDf70Hrb2H4Tl2H26efgabP/1SVnC66kQEN/SexTZ3o+o9MgfhXE00Xxj0wrIBfidKwWgHHdYrN6PVyxAlFkOUjhkhRFXm6fe0zR1EjSX/lW8Wswmtbgc6u4bgv/Ne2M48CvPUE/jgtHra7vLJH+DDQzP4VH1X3vdaPgjnaqI525290FzPjHbQYb1yM1q9DFFiMUTpmMwhqtpWiwrvzux1T96dqLat1LjSjO3BHrj33w37qUdgnXoc1qnHsWP6KVx9dnHB+OYzP8L79/81bmkeXjGIpaUH4VxNNL/UlnsNlp4Z7aDDeuVmtHoZosRiiDKZMDs7i0QiAQBIpVKYn59HKBRa9XUzMzOIxWJI/xeLxTA5mb0AOdfzZmZm1r3dMoaoGosN21zBHOue2lDp8OZ93TZPE/5i7924/uTjME89oYQn69TjuGX6Ai6bvoh3H3kYH+8YRdWKISxbW1sbRva0qZpovn0igLsas5t3ysBoBx3WKzej1csQJZbhQ1Q4HEYqlUI4HIbJZEIoFMLCwgLi8fiKrwuFQkilUpibm1Mem5ubQyqVUgWwmZkZ1fubTIvhJ5lMrjtIyRSiFtc91WFr1n3uOrDdWZ+ztUCl3YObdp/ANaPfweZPv4Sbp59RhSfz9BO46cQsPtp9Gjuc9UVv26nuFrx1Ymn67q3jDdjn118TzUIZ7aDDeuVmtHoZosQyfIiKxWKIRCJZj68Wcubm5rCwsJD1+MLCgipYLSwsIBqNZj1vfn4+5+vXQpYQVWn3YKuvNXvdk6cJ1RnTbdUWOz7RehDvO/wNbJ6+iE1nX8bVZ3+MbdMRJTw57noIvuEzqK5vW9d2tTktOL9XfQXe/xxrQK9Hn000C67bYAcd1is3o9XLECWW4UMUgJyPz8/P5ww/afF4XHV2KW12dlZ1Fivf88Lh8Kpnu1aj9xBVba1Fhac5x7qnFlTZXEvPNVtwW7APHwp9BZed/qFqYfgHzs7BNP0k7KfPoeHgZ7GrowftLuu6rpTrdlvxwwF1eMJdQfzyaP1iY84N8HtbTkY76LBeuRmtXoYosQwdomZmZpBMJnP+LBqNIhaL5X1tKpXKuf4pPT2Y/v8LCwuYn5/Pet78/HzOx9dCryGqxmLDdnfudU87HF6YLrUsqPA04/q9n8WVExey2hFsPvsSPjZ1Ab4jf4n2PcMYqHNi0GdDwF58yAn5rPiPw76s8IS7gnjtcDO8Nn030SyU0Q46rFduRquXIUosQ4eolc4GRaPRFc8U5TuDFQ6HVT/Lt3YqkUgUtHh9JboLUWYLdtT6s9Y9bfG3Y7urATVmC3Y4fLixawLXjD2WtxHm+46dg79vBH0NfqWBZp/XBqeluJBzLGDHfz7gzwpOfzoZwHP9HtzZ1WqoQdhoBx3WKzej1csQJRZDVJlDVPqxVCqlXJ2XSqUMd3Vepd2Nrd7sdU8VniZU2j24ue0w3nv4m9h0aZ1TpitPnsf1fXfD5m/G3mW3bhn0WtHpsqx5+s5iNuFMkwM/z+j5hLuC+OOJAJ7q9ShTd0YbhFmv3Fiv3BiixGKIKnOISrdPWL4uKhwOI5FIYHZ2dtVtvPfee/HGG2/kdeHCBfT09AgzPDyshKjh4eFVn7+7tx/Ng3ciMDSi0jh4FM59U7h57EFcPvWj3MFp6gV88tjfwD98Ej09vTiytxtTA7uXDHbhcN+eNW3/3t4efCPUgf8+3pQVnv71ZCOeOdSOgxnvOTIygpGREaHfs5ZYr9xYr9yOHj2K0dFRTT5X62O6FgwfohKJRM6frbYmCkDO6bjMNVHJZDLvwvJ867GWGxwcxD333JPTxYsXEYlEEAgEhOns7FRCVGdnZ97nNQSb4GrZA3vnkMqO3uO48dB9uGryuZzBafPUj/GRkW+hsncc9Y3NCAQCaAoGsK81gNH2JXe2BdDeWPh2tzYG8I29AfzzePZ6p98fD+KRgQA6mnK/dmBgAIODg0K/Zy2xXrmxXrn19/djaGhIk8/V+piuBUOHKJMp/xmlaDRa1NV5mWe38r3/aj8rxIaczjObs9Y93drYj+sGP4+rjz+V/4a/I4/gY7vGUGVX30LFbTWjz6OevtvttsJqLmx7vTYzvrnbhd+PN2SFpzdHG/CVdiccq7yX0aYDWK/cWK/cOJ0nluFDVL5ptdWm2/JdXZf5eL6r+CYnJ6ULUVV2Nyou9Xv6VGAPbuidxrWj5/Kuc7r6RAQ39ExjuyuQ87OCDjMGfTZVgGpyFHb1XdBhwXe63XjreHZ4+tWROvy7ltqCg5jRBmHWKzfWKzeGKLEMH6LSa5aWT81FIpGsab5wOKx6zuTkZFZDznTLhOWhaX5+HrFYTPXaUCiEWCwmTYuDaosdFZ4mbPF34Kbdx/Hew9/AZVMv5gxOV5x6Hh8ZmsGn6nbn/Qyr2YROl0UVnvZ6rPBYV7/6rqV2sUHm2ycCWeHp54f9ONPkgKXA8JRmtEGY9cqN9cqNIUosw4cok2mx5UAymUQ8HkcikUA8Hs+6ei6zTYHJtLSuKR6PIx6PI5lM5jx7FY1Gs5630lRhobQOUV5/Hba7GnBz2yF8cN99uPzUDy6FpZcu/e/fYdPZl3HZ1Iv4wP6v4pamIdSYV+727coxfdfltsK2SvDpdlvxwqAX70xkr3n62QE/xhqKv8+d0QZh1is31is3hiixGKKWCYfDOafeVjMzM1NQy4JCn1corULUQw8/jM8+8F3cuP+vcNXJ7+c44/R32DT9Et5z5CF8vP0oqgu84W/AYcmavttZa4F5hdcsNsj04s8T2WeeXt/nQ8i3/lu0GG0QZr1yY71yY4gSiyFKx7QKUaH7cy0QXzz7dPXxp/DR7lNruuGvxWRCh1M9fdfvtcG7wvRdvgaZ70wEcHHIiz5v6W4QbLRBmPXKjfXKjSFKLIYoHdMqRN3/zb/FZcum7K6cfA7X9d+Drf61/8OttZjQ61GffdrjtsKeo/v4UoPM/N3FO12lv7ed0QZh1is31is3hiixGKJ0TMs1UeZ7n8OH73wAtzUW3xuk3m7GQMb0XUutBeaM9U9Wswmfb6nFr46s3l28HIw2CLNeubFeuTFEicUQpWNaLywv9gbEFrMJ7U714vEBrw3+jBv81lpM+A8dTrw5Wp8Vnv5wPIBH9rjRYC//TYGNNgizXrmxXrkxRInFEKVjegxRDosZPRlX3/V4rHAsm75bqUHm/xprwAO7nPDYyh+e0ow2CLNeubFeuTFEicUQpWN6C1F1dgsGvOrpuzanRenbFHRY8N08DTIL7S5eDkYbhFmv3Fiv3BiixGKI0jG9hCizebEJpmr6zmdDnX1xHVO7M3+DzLV2Fy8How3CrFdurFduDFFiMUTpmB5ClMNiRrdbPX3X67HCYVlskPmjPA0yi+0uXg5GG4RZr9xYr9wYosRiiNKxjR6ifDYz+jOm7zpcVuzz2/I2yFxvd/FyMNogzHrlxnrlxhAlFkOUjm3UEGU2mbAzY/pu0GfDVHMt3sjRILOU3cXLwWiDMOuVG+uVG0OUWAxROrYRQ5TNbEKXeylA3eGz4qudTsQOZ/d4Kkd38XIw2iDMeuXGeuXGECUWQ5SObbQQ5bGasfdSeBr2WfFwlwu/GckOT+XsLl4ORhuEWa/cWK/cGKLEYojSsY0UopouTd/t91vxaI8bvxvLbpAport4ORhtEGa9cmO9cmOIEoshSsc2QohanL6z4lC9DZFeN/53jgaZbx1vwLluMd3Fy8FogzDrlRvrlRtDlFgMUTqmdYhqqffjYJ0Nz+z14F9zNMhMjjfgwd0ueAV2Fy8How3CrFdurFduDFFiMUTpmGYh6qGHcP7rX8GLw/X4Y47w9Ltj9fhapxMuq77DU5rRBmHWKzfWKzeGKLEYonRMqxA1/+XTGcFpsd/T/zhWj/s6tLk1SzkZbRBmvXJjvXJjiBKLIUrHtApRz4a/ogpRvx6pxxc0vjVLORltEGa9cmO9cmOIEoshSse0XBP1m88M4J9GG3B388a4NUs5GW0QZr1yY71yY4gSiyFKx7QMUY8++EDBNyDWO6MNwqxXbqxXbgxRYjFE6ZjWV+cxRMmJ9cqN9cqNIUoshigdY4gSw2iDMOuVG+uVG0OUWAxROhaJRPCTn/wETz75pDCRSASvvPIKXnnlFUQiEaGfrZULFy7gwoULmm8H62W9rJf1rub8+fOa1Hv+/HnNj4laYIjSsWeeeQavv/668H8sr732Gl577TXNBwvWW756RYdz1ivOq6++ynolplW9r776qubHRC0wROlY+pfXKJ+rlSeeeMJQ9T7++OPCp4lZrziPPfYYvve972m+Hay3PB599FFEIhFNPlfr2rXAEKVjDFFiMETJzWj1Gi1UGK1ehiixGKJ0jCFKDIYouRmtXqOFCqPVyxAlFkOUjjFEicEQJTej1Wu0UGG0ehmixGKI0jGGKDEYouRmtHqNFiqMVi9DlFgMUTrGECUGQ5TcjFav0UKF0epliBKLIUrHxsfHMT4+bpjP1crY2Jjh6j1+/Ljm2yHKsWPHWK/ERkdHWa+gz9W6di0wRBEREREVgSGKiIiIqAgMUURERERFYIgiIiIiKgJDFBEREVERGKKIiIiIisAQRURERFQEhigiIiKiIjBEUcFmZmYQi8WQ/i8Wi2FyclLz7Sq32dlZxGIxzbej3MLhMOLxuGr/zszMaL5d5aw38/dZ5nozzc/PY35+XvPtKJdIJIJ4PJ6T1ttW7rpjsRgSiQSi0ajm2yM7higqSCgUQiqVwtzcnPLY3NwcUqkUQqGQ5ttXapOTk5ifn0cqlVIOtFpvUznNzs4ilUohHA5n7V8Zg3I4HM6qd3Z2FslkUsp6c+1vAFIHimg0ioWFBYTD4Sxab1s5hEIhJSTOzs5KOS5vRAxRVJC5uTksLCxkPb6wsKAKVrKIRCKIRCLKQCR7iEomkzkPLgsLC1L+NZs+0GQ+Pj8/L2W9y4VCISSTSSwsLEgdouLxuLSBKZdYLJZzjKbyYoiiguQbkGZnZ6UeiNNkD1H56otGo1KGimg0mvMv9Wg0Kv3vcywWw9zcnPS1GilEzczMIJlMar4dRsQQRQXJN62TnhbRevvKTfYQlY+sZxqNWu/yP3pkD1HJZBKhUAiTk5MIh8NST2+l/9gJhUKYnZ1FNBo1TIDUGkMUFSRfiAiHw4YIGEaoMdPk5KS0a94yhUIhzM3NIZFISFtvehov/ceQ7CEqveYrkUggHo8jlUpJu5A+Ho9jbm4OyWRSmZJO1y3r7/NGwRBFBWGIkr/GTIlEIue6IZlEo1Hl6rxUKiX11Xnpabzltcscoubn51X7MxQKIZFISBmk0mExMzDFYjEp691IGKKoIAxR8te43MLCguEG3/TVeTIGqVxrF2UPUblMTk5K+W8534US6bPJWm+fzBiiqCAAcp4W5poo+czPzxv2Kp90jx2tt6OU0u1JIpGI6jL/hYUFJBIJhMNhKYNjPvmuRNWzlRbRG2ns0gJDFBUk3z/SdINGrbev3IwyEEUiEanXBZlMi3+d57viUMY/CvI1nUwmk0ilUojH49KddZycnMzb70vGs40MUdphiKKC5OtuLHvX4zQjDERGCFDL92eug6xRWnaYTHJP5+U7oxgKhaT8t5xuLJr5+OzsLBKJhObbJzOGKCrI5ORk1l9w6d4kRujwLOPAu5yR9qXJtBj+MwNjeuGx7Ivp02QOUekrESORiOpxWdf6LZ+yXf6YkX6ftcIQRQULh8NIJpOq6QCj/AOVPUQtv2derv9kW0NiMi2GiOW/z5kHIdnJHKJMpsU/DJa3OEhf/q/1domsV+aeZxsFQxSt2czMjHRrCsi4+Psst1AoJOUfAfmkm4tqvR1GwRBFREREVASGKCIiIqIiMEQRERERFYEhioiIiKgIDFFERERERWCIIiIiIioCQxQRERFRERiiiIiIiIrAEEVERERUBIYoIiIioiIwRBEREREVgSGKiIiIqAgMUURERERFYIgiIiIiKgJDFBWlsvUAKg5/XaiqYJ/mdRMREaUxRNGabZn4Pm558A+a2DLxfc3rJyIiMpkYojRVcfgBYeGj4vADJdnmHV0nNAtQaTwjRUREG4E0Iaqy7eCKU0H5Xldx+IG8r6lsO1jWbdZjiFq+zbff85NL31/53X7PT0peCxER0XpIE6JWCyT5XicieBS7zRs9RBXznlXBvqLOJK33c4mIiEqNIYohquhtXut71jh8uOVrv8UtX/stahw+YZ9LRERUDlKGqFzTTCu9TqtpI6OFqNtm/kF57W0z/yDsc4mIiMpByhC1noOsyIO1kUJUriv61nKlHUMUERFtNAxRZXofWWn1/XC/EBHRRsMQVab3kRVDFBER0SKGqDK9j6wYooiIiBZJE6L0SLY1UaXsJp75XgxRRES00TBEaUiWEFXj8ClX3pXqu0lfwZduhcAQRUREGw1DlIZkCFFVwb7F3k+XHivVd6Ns+9d+i6pgH0MUERFtOAxRGpIlRN0afrNsIerW8JsMUUREtCExRGlo8X5/Yu49V6r7AOadzvviQumn8764wOk8IiLasBiiaE1WXFh+19Ml+5zM92KIIiKijUaaEMUWB/r6nvXyuURERPkwRJXpfQqxOJ33dSHKOZ2np/1LRERUKgxRZXqftX6WXheW623/EhERlQpDVJneZ62fJXuI2nLX01nbtJY1VAxRRES00UgZom7/3GtZ01krvW75827/3GuCp/P0f3VeodJX8KWvvBP1uUREROUgZYjKJd/rRJy9kcl6wkyNw4dbw2/i1vCbSusCEZ9LRERUDgxRDFFFf8/FfD9VwT5UBfuEfy4REVGpSROiVpsay/c6EVNgK2+zfq/OyzVtWi4ip1mJiIgKIU2I0iM9LiyvbDsobJvzKeZMFhERUakxRNGa5brSTpRSdkUnIiJaD4YoKkr6psAi8QwUERFtJAxRREREREVgiCIiIiIqAkMUERERUREYooiIiIiKwBBFREREVASGKCIiIqIiMEQRERERFYEhioiIiKgIDFFERERERWCIIiIiIioCQxQRERFRERiiiIiIiIrAEEVERERUBIYoIiIioiIwRBEREREVgSGKiIiIqAgMUURERERFYIgiIiIiKgJDFBEREVERGKKIiIiIisAQRURERFQEhigiIiKiIjBEERERERWBIYqIiIioCAxRREREREVgiCIiIiIqAkMUERERUREYooiIiIiKwBBFREREVASGKCIiIqIiMEQRERERFYEhioiIiKgIDFFERERERWCIIiIiIirCiiHKbDYTERERUQ6qEOXxeBQMUURERET5bcoMT8tDlMViISIiIqIcNuUKUF6vN2+IslqtRERERIa3KTM8pf3iF7+A0+mEzWaD3W5XcTgcRERERIa2KTM8+Xw++P1+fPvb38a5c+fg8XhQW1uL2tpaOJ1OhcvlIiIiIjKsTcsDlN/vR11dHerr6xEIBPDII4/gl7/8JeLxOBEREREt8/8BVp7BJQFrH3sAAAAASUVORK5CYII=)"
      ]
    },
    {
      "cell_type": "markdown",
      "metadata": {
        "id": "5yrudVRusrMT"
      },
      "source": [
        "**Below is the loss plot for train and validation data**"
      ]
    },
    {
      "cell_type": "markdown",
      "metadata": {
        "id": "ToN_soT6swLq"
      },
      "source": [
        "![image.png](data:image/png;base64,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)"
      ]
    },
    {
      "cell_type": "markdown",
      "metadata": {
        "id": "PMwC4z80uvW8"
      },
      "source": [
        "<h2>3. Summary<h2>"
      ]
    },
    {
      "cell_type": "code",
      "source": [
        "summary = PrettyTable([\"Model\", \"Validation Accuracy\", \"Validation Log Loss\", \"Validation Micro F1 score\"])\n",
        "summary.add_row([\"Model 1 (CNN with Word Embedding)\", \"70%\", \"1.55\", \"0.71\"])\n",
        "summary.add_row([\"Model 2 (CNN with Character Embedding)\", \"14%\", \"2.68\", \"0.009\"])\n",
        "print(summary)"
      ],
      "metadata": {
        "colab": {
          "base_uri": "https://localhost:8080/"
        },
        "id": "wIwAE3BNTLAl",
        "outputId": "6cf24b4a-a3a4-4a4e-aa80-a52db756c1c7"
      },
      "execution_count": 61,
      "outputs": [
        {
          "output_type": "stream",
          "name": "stdout",
          "text": [
            "+----------------------------------------+---------------------+---------------------+---------------------------+\n",
            "|                 Model                  | Validation Accuracy | Validation Log Loss | Validation Micro F1 score |\n",
            "+----------------------------------------+---------------------+---------------------+---------------------------+\n",
            "|   Model 1 (CNN with Word Embedding)    |         70%         |         1.55        |            0.71           |\n",
            "| Model 2 (CNN with Character Embedding) |         14%         |         2.68        |           0.009           |\n",
            "+----------------------------------------+---------------------+---------------------+---------------------------+\n"
          ]
        }
      ]
    },
    {
      "cell_type": "markdown",
      "metadata": {
        "id": "zXC7KkKRuxs7"
      },
      "source": [
        "**Thus, we can say that the model (CNN using word embedding) worked better than the model (CNN using character embedding).**"
      ]
    }
  ]
}